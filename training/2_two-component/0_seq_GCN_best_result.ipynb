{
 "cells": [
  {
   "cell_type": "code",
   "execution_count": null,
   "id": "e290a083",
   "metadata": {},
   "outputs": [
    {
     "name": "stdout",
     "output_type": "stream",
     "text": [
      "Using device: cuda\n",
      "Train class distribution: {1: 4592, 0: 4261}\n",
      "Test class distribution: {0: 2497, 1: 240}\n",
      "\n",
      "--- Training GCN model with distance threshold 8.0Å ---\n",
      "\n",
      "Created 8853 graphs, skipped 0 rows during data preparation.\n",
      "Example graph node feature dimension: 27\n",
      "Expected dimension based on config: 32\n",
      "\n",
      "Created 2737 graphs, skipped 0 rows during data preparation.\n",
      "Example graph node feature dimension: 27\n",
      "Expected dimension based on config: 32\n",
      "Class weights: {0: 1.0388406477352734, 1: 0.9639590592334495}\n",
      "\n",
      "--- Fold 1/5 ---\n"
     ]
    },
    {
     "name": "stderr",
     "output_type": "stream",
     "text": [
      "/home/ubuntu/data/miniconda3/envs/lysine-torch/lib/python3.9/site-packages/torch_geometric/deprecation.py:26: UserWarning: 'data.DataLoader' is deprecated, use 'loader.DataLoader' instead\n",
      "  warnings.warn(out)\n",
      "/home/ubuntu/data/miniconda3/envs/lysine-torch/lib/python3.9/site-packages/torch/optim/lr_scheduler.py:62: UserWarning: The verbose parameter is deprecated. Please use get_last_lr() to access the learning rate.\n",
      "  warnings.warn(\n",
      "/home/ubuntu/data/miniconda3/envs/lysine-torch/lib/python3.9/site-packages/torch_geometric/warnings.py:11: UserWarning: The usage of `scatter(reduce='max')` can be accelerated via the 'torch-scatter' package, but it was not found\n",
      "  warnings.warn(message)\n"
     ]
    },
    {
     "name": "stdout",
     "output_type": "stream",
     "text": [
      "Epoch 1/50, Train Loss: 0.6812, Train Acc: 0.5716, Val Loss: 0.6731, Val Acc: 0.5697\n",
      "  -> New best validation loss: 0.6731\n"
     ]
    },
    {
     "name": "stderr",
     "output_type": "stream",
     "text": [
      "/home/ubuntu/data/miniconda3/envs/lysine-torch/lib/python3.9/site-packages/torch_geometric/warnings.py:11: UserWarning: The usage of `scatter(reduce='max')` can be accelerated via the 'torch-scatter' package, but it was not found\n",
      "  warnings.warn(message)\n"
     ]
    },
    {
     "name": "stdout",
     "output_type": "stream",
     "text": [
      "Epoch 2/50, Train Loss: 0.6471, Train Acc: 0.6330, Val Loss: 0.6552, Val Acc: 0.6047\n",
      "  -> New best validation loss: 0.6552\n"
     ]
    },
    {
     "name": "stderr",
     "output_type": "stream",
     "text": [
      "/home/ubuntu/data/miniconda3/envs/lysine-torch/lib/python3.9/site-packages/torch_geometric/warnings.py:11: UserWarning: The usage of `scatter(reduce='max')` can be accelerated via the 'torch-scatter' package, but it was not found\n",
      "  warnings.warn(message)\n"
     ]
    },
    {
     "name": "stdout",
     "output_type": "stream",
     "text": [
      "Epoch 3/50, Train Loss: 0.6322, Train Acc: 0.6445, Val Loss: 0.6451, Val Acc: 0.6211\n",
      "  -> New best validation loss: 0.6451\n"
     ]
    },
    {
     "name": "stderr",
     "output_type": "stream",
     "text": [
      "/home/ubuntu/data/miniconda3/envs/lysine-torch/lib/python3.9/site-packages/torch_geometric/warnings.py:11: UserWarning: The usage of `scatter(reduce='max')` can be accelerated via the 'torch-scatter' package, but it was not found\n",
      "  warnings.warn(message)\n"
     ]
    },
    {
     "name": "stdout",
     "output_type": "stream",
     "text": [
      "Epoch 4/50, Train Loss: 0.6167, Train Acc: 0.6638, Val Loss: 0.6389, Val Acc: 0.6307\n",
      "  -> New best validation loss: 0.6389\n"
     ]
    },
    {
     "name": "stderr",
     "output_type": "stream",
     "text": [
      "/home/ubuntu/data/miniconda3/envs/lysine-torch/lib/python3.9/site-packages/torch_geometric/warnings.py:11: UserWarning: The usage of `scatter(reduce='max')` can be accelerated via the 'torch-scatter' package, but it was not found\n",
      "  warnings.warn(message)\n"
     ]
    },
    {
     "name": "stdout",
     "output_type": "stream",
     "text": [
      "Epoch 5/50, Train Loss: 0.6051, Train Acc: 0.6803, Val Loss: 0.6237, Val Acc: 0.6499\n",
      "  -> New best validation loss: 0.6237\n"
     ]
    },
    {
     "name": "stderr",
     "output_type": "stream",
     "text": [
      "/home/ubuntu/data/miniconda3/envs/lysine-torch/lib/python3.9/site-packages/torch_geometric/warnings.py:11: UserWarning: The usage of `scatter(reduce='max')` can be accelerated via the 'torch-scatter' package, but it was not found\n",
      "  warnings.warn(message)\n"
     ]
    },
    {
     "name": "stdout",
     "output_type": "stream",
     "text": [
      "Epoch 6/50, Train Loss: 0.6042, Train Acc: 0.6757, Val Loss: 0.6315, Val Acc: 0.6403\n"
     ]
    },
    {
     "name": "stderr",
     "output_type": "stream",
     "text": [
      "/home/ubuntu/data/miniconda3/envs/lysine-torch/lib/python3.9/site-packages/torch_geometric/warnings.py:11: UserWarning: The usage of `scatter(reduce='max')` can be accelerated via the 'torch-scatter' package, but it was not found\n",
      "  warnings.warn(message)\n"
     ]
    },
    {
     "name": "stdout",
     "output_type": "stream",
     "text": [
      "Epoch 7/50, Train Loss: 0.5970, Train Acc: 0.6888, Val Loss: 0.6006, Val Acc: 0.6968\n",
      "  -> New best validation loss: 0.6006\n"
     ]
    },
    {
     "name": "stderr",
     "output_type": "stream",
     "text": [
      "/home/ubuntu/data/miniconda3/envs/lysine-torch/lib/python3.9/site-packages/torch_geometric/warnings.py:11: UserWarning: The usage of `scatter(reduce='max')` can be accelerated via the 'torch-scatter' package, but it was not found\n",
      "  warnings.warn(message)\n"
     ]
    },
    {
     "name": "stdout",
     "output_type": "stream",
     "text": [
      "Epoch 8/50, Train Loss: 0.5874, Train Acc: 0.6903, Val Loss: 0.5880, Val Acc: 0.6945\n",
      "  -> New best validation loss: 0.5880\n"
     ]
    },
    {
     "name": "stderr",
     "output_type": "stream",
     "text": [
      "/home/ubuntu/data/miniconda3/envs/lysine-torch/lib/python3.9/site-packages/torch_geometric/warnings.py:11: UserWarning: The usage of `scatter(reduce='max')` can be accelerated via the 'torch-scatter' package, but it was not found\n",
      "  warnings.warn(message)\n"
     ]
    },
    {
     "name": "stdout",
     "output_type": "stream",
     "text": [
      "Epoch 9/50, Train Loss: 0.5805, Train Acc: 0.7025, Val Loss: 0.5991, Val Acc: 0.6765\n"
     ]
    },
    {
     "name": "stderr",
     "output_type": "stream",
     "text": [
      "/home/ubuntu/data/miniconda3/envs/lysine-torch/lib/python3.9/site-packages/torch_geometric/warnings.py:11: UserWarning: The usage of `scatter(reduce='max')` can be accelerated via the 'torch-scatter' package, but it was not found\n",
      "  warnings.warn(message)\n"
     ]
    },
    {
     "name": "stdout",
     "output_type": "stream",
     "text": [
      "Epoch 10/50, Train Loss: 0.5780, Train Acc: 0.7019, Val Loss: 0.6105, Val Acc: 0.6392\n"
     ]
    },
    {
     "name": "stderr",
     "output_type": "stream",
     "text": [
      "/home/ubuntu/data/miniconda3/envs/lysine-torch/lib/python3.9/site-packages/torch_geometric/warnings.py:11: UserWarning: The usage of `scatter(reduce='max')` can be accelerated via the 'torch-scatter' package, but it was not found\n",
      "  warnings.warn(message)\n"
     ]
    },
    {
     "name": "stdout",
     "output_type": "stream",
     "text": [
      "Epoch 11/50, Train Loss: 0.5681, Train Acc: 0.7135, Val Loss: 0.6190, Val Acc: 0.6533\n"
     ]
    },
    {
     "name": "stderr",
     "output_type": "stream",
     "text": [
      "/home/ubuntu/data/miniconda3/envs/lysine-torch/lib/python3.9/site-packages/torch_geometric/warnings.py:11: UserWarning: The usage of `scatter(reduce='max')` can be accelerated via the 'torch-scatter' package, but it was not found\n",
      "  warnings.warn(message)\n"
     ]
    },
    {
     "name": "stdout",
     "output_type": "stream",
     "text": [
      "Epoch 12/50, Train Loss: 0.5609, Train Acc: 0.7177, Val Loss: 0.5755, Val Acc: 0.7064\n",
      "  -> New best validation loss: 0.5755\n"
     ]
    },
    {
     "name": "stderr",
     "output_type": "stream",
     "text": [
      "/home/ubuntu/data/miniconda3/envs/lysine-torch/lib/python3.9/site-packages/torch_geometric/warnings.py:11: UserWarning: The usage of `scatter(reduce='max')` can be accelerated via the 'torch-scatter' package, but it was not found\n",
      "  warnings.warn(message)\n"
     ]
    },
    {
     "name": "stdout",
     "output_type": "stream",
     "text": [
      "Epoch 13/50, Train Loss: 0.5496, Train Acc: 0.7265, Val Loss: 0.5532, Val Acc: 0.7205\n",
      "  -> New best validation loss: 0.5532\n"
     ]
    },
    {
     "name": "stderr",
     "output_type": "stream",
     "text": [
      "/home/ubuntu/data/miniconda3/envs/lysine-torch/lib/python3.9/site-packages/torch_geometric/warnings.py:11: UserWarning: The usage of `scatter(reduce='max')` can be accelerated via the 'torch-scatter' package, but it was not found\n",
      "  warnings.warn(message)\n"
     ]
    },
    {
     "name": "stdout",
     "output_type": "stream",
     "text": [
      "Epoch 14/50, Train Loss: 0.5435, Train Acc: 0.7348, Val Loss: 0.5578, Val Acc: 0.7301\n"
     ]
    },
    {
     "name": "stderr",
     "output_type": "stream",
     "text": [
      "/home/ubuntu/data/miniconda3/envs/lysine-torch/lib/python3.9/site-packages/torch_geometric/warnings.py:11: UserWarning: The usage of `scatter(reduce='max')` can be accelerated via the 'torch-scatter' package, but it was not found\n",
      "  warnings.warn(message)\n"
     ]
    },
    {
     "name": "stdout",
     "output_type": "stream",
     "text": [
      "Epoch 15/50, Train Loss: 0.5410, Train Acc: 0.7333, Val Loss: 0.5489, Val Acc: 0.7284\n",
      "  -> New best validation loss: 0.5489\n"
     ]
    },
    {
     "name": "stderr",
     "output_type": "stream",
     "text": [
      "/home/ubuntu/data/miniconda3/envs/lysine-torch/lib/python3.9/site-packages/torch_geometric/warnings.py:11: UserWarning: The usage of `scatter(reduce='max')` can be accelerated via the 'torch-scatter' package, but it was not found\n",
      "  warnings.warn(message)\n"
     ]
    },
    {
     "name": "stdout",
     "output_type": "stream",
     "text": [
      "Epoch 16/50, Train Loss: 0.5355, Train Acc: 0.7402, Val Loss: 0.5457, Val Acc: 0.7312\n",
      "  -> New best validation loss: 0.5457\n"
     ]
    },
    {
     "name": "stderr",
     "output_type": "stream",
     "text": [
      "/home/ubuntu/data/miniconda3/envs/lysine-torch/lib/python3.9/site-packages/torch_geometric/warnings.py:11: UserWarning: The usage of `scatter(reduce='max')` can be accelerated via the 'torch-scatter' package, but it was not found\n",
      "  warnings.warn(message)\n"
     ]
    },
    {
     "name": "stdout",
     "output_type": "stream",
     "text": [
      "Epoch 17/50, Train Loss: 0.5340, Train Acc: 0.7398, Val Loss: 0.5451, Val Acc: 0.7284\n",
      "  -> New best validation loss: 0.5451\n"
     ]
    },
    {
     "name": "stderr",
     "output_type": "stream",
     "text": [
      "/home/ubuntu/data/miniconda3/envs/lysine-torch/lib/python3.9/site-packages/torch_geometric/warnings.py:11: UserWarning: The usage of `scatter(reduce='max')` can be accelerated via the 'torch-scatter' package, but it was not found\n",
      "  warnings.warn(message)\n"
     ]
    },
    {
     "name": "stdout",
     "output_type": "stream",
     "text": [
      "Epoch 18/50, Train Loss: 0.5265, Train Acc: 0.7492, Val Loss: 0.5353, Val Acc: 0.7397\n",
      "  -> New best validation loss: 0.5353\n"
     ]
    },
    {
     "name": "stderr",
     "output_type": "stream",
     "text": [
      "/home/ubuntu/data/miniconda3/envs/lysine-torch/lib/python3.9/site-packages/torch_geometric/warnings.py:11: UserWarning: The usage of `scatter(reduce='max')` can be accelerated via the 'torch-scatter' package, but it was not found\n",
      "  warnings.warn(message)\n"
     ]
    },
    {
     "name": "stdout",
     "output_type": "stream",
     "text": [
      "Epoch 19/50, Train Loss: 0.5280, Train Acc: 0.7482, Val Loss: 0.5388, Val Acc: 0.7391\n"
     ]
    },
    {
     "name": "stderr",
     "output_type": "stream",
     "text": [
      "/home/ubuntu/data/miniconda3/envs/lysine-torch/lib/python3.9/site-packages/torch_geometric/warnings.py:11: UserWarning: The usage of `scatter(reduce='max')` can be accelerated via the 'torch-scatter' package, but it was not found\n",
      "  warnings.warn(message)\n"
     ]
    },
    {
     "name": "stdout",
     "output_type": "stream",
     "text": [
      "Epoch 20/50, Train Loss: 0.5179, Train Acc: 0.7484, Val Loss: 0.5369, Val Acc: 0.7357\n"
     ]
    },
    {
     "name": "stderr",
     "output_type": "stream",
     "text": [
      "/home/ubuntu/data/miniconda3/envs/lysine-torch/lib/python3.9/site-packages/torch_geometric/warnings.py:11: UserWarning: The usage of `scatter(reduce='max')` can be accelerated via the 'torch-scatter' package, but it was not found\n",
      "  warnings.warn(message)\n"
     ]
    },
    {
     "name": "stdout",
     "output_type": "stream",
     "text": [
      "Epoch 21/50, Train Loss: 0.5207, Train Acc: 0.7454, Val Loss: 0.5546, Val Acc: 0.7137\n"
     ]
    },
    {
     "name": "stderr",
     "output_type": "stream",
     "text": [
      "/home/ubuntu/data/miniconda3/envs/lysine-torch/lib/python3.9/site-packages/torch_geometric/warnings.py:11: UserWarning: The usage of `scatter(reduce='max')` can be accelerated via the 'torch-scatter' package, but it was not found\n",
      "  warnings.warn(message)\n"
     ]
    },
    {
     "name": "stdout",
     "output_type": "stream",
     "text": [
      "Epoch 22/50, Train Loss: 0.5174, Train Acc: 0.7553, Val Loss: 0.5381, Val Acc: 0.7318\n"
     ]
    },
    {
     "name": "stderr",
     "output_type": "stream",
     "text": [
      "/home/ubuntu/data/miniconda3/envs/lysine-torch/lib/python3.9/site-packages/torch_geometric/warnings.py:11: UserWarning: The usage of `scatter(reduce='max')` can be accelerated via the 'torch-scatter' package, but it was not found\n",
      "  warnings.warn(message)\n"
     ]
    },
    {
     "name": "stdout",
     "output_type": "stream",
     "text": [
      "Epoch 23/50, Train Loss: 0.5106, Train Acc: 0.7544, Val Loss: 0.5203, Val Acc: 0.7431\n",
      "  -> New best validation loss: 0.5203\n"
     ]
    },
    {
     "name": "stderr",
     "output_type": "stream",
     "text": [
      "/home/ubuntu/data/miniconda3/envs/lysine-torch/lib/python3.9/site-packages/torch_geometric/warnings.py:11: UserWarning: The usage of `scatter(reduce='max')` can be accelerated via the 'torch-scatter' package, but it was not found\n",
      "  warnings.warn(message)\n"
     ]
    },
    {
     "name": "stdout",
     "output_type": "stream",
     "text": [
      "Epoch 24/50, Train Loss: 0.5151, Train Acc: 0.7557, Val Loss: 0.5376, Val Acc: 0.7307\n"
     ]
    },
    {
     "name": "stderr",
     "output_type": "stream",
     "text": [
      "/home/ubuntu/data/miniconda3/envs/lysine-torch/lib/python3.9/site-packages/torch_geometric/warnings.py:11: UserWarning: The usage of `scatter(reduce='max')` can be accelerated via the 'torch-scatter' package, but it was not found\n",
      "  warnings.warn(message)\n"
     ]
    },
    {
     "name": "stdout",
     "output_type": "stream",
     "text": [
      "Epoch 25/50, Train Loss: 0.5171, Train Acc: 0.7509, Val Loss: 0.5389, Val Acc: 0.7216\n"
     ]
    },
    {
     "name": "stderr",
     "output_type": "stream",
     "text": [
      "/home/ubuntu/data/miniconda3/envs/lysine-torch/lib/python3.9/site-packages/torch_geometric/warnings.py:11: UserWarning: The usage of `scatter(reduce='max')` can be accelerated via the 'torch-scatter' package, but it was not found\n",
      "  warnings.warn(message)\n"
     ]
    },
    {
     "name": "stdout",
     "output_type": "stream",
     "text": [
      "Epoch 26/50, Train Loss: 0.5023, Train Acc: 0.7609, Val Loss: 0.5304, Val Acc: 0.7465\n"
     ]
    },
    {
     "name": "stderr",
     "output_type": "stream",
     "text": [
      "/home/ubuntu/data/miniconda3/envs/lysine-torch/lib/python3.9/site-packages/torch_geometric/warnings.py:11: UserWarning: The usage of `scatter(reduce='max')` can be accelerated via the 'torch-scatter' package, but it was not found\n",
      "  warnings.warn(message)\n"
     ]
    },
    {
     "name": "stdout",
     "output_type": "stream",
     "text": [
      "Epoch 27/50, Train Loss: 0.5077, Train Acc: 0.7588, Val Loss: 0.5408, Val Acc: 0.7290\n"
     ]
    },
    {
     "name": "stderr",
     "output_type": "stream",
     "text": [
      "/home/ubuntu/data/miniconda3/envs/lysine-torch/lib/python3.9/site-packages/torch_geometric/warnings.py:11: UserWarning: The usage of `scatter(reduce='max')` can be accelerated via the 'torch-scatter' package, but it was not found\n",
      "  warnings.warn(message)\n"
     ]
    },
    {
     "name": "stdout",
     "output_type": "stream",
     "text": [
      "Epoch 28/50, Train Loss: 0.4990, Train Acc: 0.7598, Val Loss: 0.5410, Val Acc: 0.7284\n"
     ]
    },
    {
     "name": "stderr",
     "output_type": "stream",
     "text": [
      "/home/ubuntu/data/miniconda3/envs/lysine-torch/lib/python3.9/site-packages/torch_geometric/warnings.py:11: UserWarning: The usage of `scatter(reduce='max')` can be accelerated via the 'torch-scatter' package, but it was not found\n",
      "  warnings.warn(message)\n"
     ]
    },
    {
     "name": "stdout",
     "output_type": "stream",
     "text": [
      "Epoch 29/50, Train Loss: 0.5000, Train Acc: 0.7657, Val Loss: 0.5372, Val Acc: 0.7301\n"
     ]
    },
    {
     "name": "stderr",
     "output_type": "stream",
     "text": [
      "/home/ubuntu/data/miniconda3/envs/lysine-torch/lib/python3.9/site-packages/torch_geometric/warnings.py:11: UserWarning: The usage of `scatter(reduce='max')` can be accelerated via the 'torch-scatter' package, but it was not found\n",
      "  warnings.warn(message)\n"
     ]
    },
    {
     "name": "stdout",
     "output_type": "stream",
     "text": [
      "Epoch 30/50, Train Loss: 0.4752, Train Acc: 0.7810, Val Loss: 0.5275, Val Acc: 0.7470\n"
     ]
    },
    {
     "name": "stderr",
     "output_type": "stream",
     "text": [
      "/home/ubuntu/data/miniconda3/envs/lysine-torch/lib/python3.9/site-packages/torch_geometric/warnings.py:11: UserWarning: The usage of `scatter(reduce='max')` can be accelerated via the 'torch-scatter' package, but it was not found\n",
      "  warnings.warn(message)\n"
     ]
    },
    {
     "name": "stdout",
     "output_type": "stream",
     "text": [
      "Epoch 31/50, Train Loss: 0.4612, Train Acc: 0.7912, Val Loss: 0.5292, Val Acc: 0.7295\n"
     ]
    },
    {
     "name": "stderr",
     "output_type": "stream",
     "text": [
      "/home/ubuntu/data/miniconda3/envs/lysine-torch/lib/python3.9/site-packages/torch_geometric/warnings.py:11: UserWarning: The usage of `scatter(reduce='max')` can be accelerated via the 'torch-scatter' package, but it was not found\n",
      "  warnings.warn(message)\n"
     ]
    },
    {
     "name": "stdout",
     "output_type": "stream",
     "text": [
      "Epoch 32/50, Train Loss: 0.4500, Train Acc: 0.7917, Val Loss: 0.5322, Val Acc: 0.7374\n"
     ]
    },
    {
     "name": "stderr",
     "output_type": "stream",
     "text": [
      "/home/ubuntu/data/miniconda3/envs/lysine-torch/lib/python3.9/site-packages/torch_geometric/warnings.py:11: UserWarning: The usage of `scatter(reduce='max')` can be accelerated via the 'torch-scatter' package, but it was not found\n",
      "  warnings.warn(message)\n"
     ]
    },
    {
     "name": "stdout",
     "output_type": "stream",
     "text": [
      "Epoch 33/50, Train Loss: 0.4509, Train Acc: 0.7948, Val Loss: 0.5300, Val Acc: 0.7363\n",
      "Early stopping triggered\n",
      "\n",
      "Validation metrics:\n",
      "Accuracy: 0.7363\n",
      "Balanced Accuracy: 0.7349\n",
      "MCC: 0.4715\n",
      "Sensitivity: 0.7715\n",
      "Specificity: 0.6984\n",
      "Confusion Matrix:\n",
      "[[595 257]\n",
      " [210 709]]\n"
     ]
    },
    {
     "name": "stderr",
     "output_type": "stream",
     "text": [
      "/home/ubuntu/data/miniconda3/envs/lysine-torch/lib/python3.9/site-packages/torch_geometric/deprecation.py:26: UserWarning: 'data.DataLoader' is deprecated, use 'loader.DataLoader' instead\n",
      "  warnings.warn(out)\n"
     ]
    },
    {
     "name": "stdout",
     "output_type": "stream",
     "text": [
      "\n",
      "--- Fold 2/5 ---\n"
     ]
    },
    {
     "name": "stderr",
     "output_type": "stream",
     "text": [
      "/home/ubuntu/data/miniconda3/envs/lysine-torch/lib/python3.9/site-packages/torch_geometric/deprecation.py:26: UserWarning: 'data.DataLoader' is deprecated, use 'loader.DataLoader' instead\n",
      "  warnings.warn(out)\n",
      "/home/ubuntu/data/miniconda3/envs/lysine-torch/lib/python3.9/site-packages/torch/optim/lr_scheduler.py:62: UserWarning: The verbose parameter is deprecated. Please use get_last_lr() to access the learning rate.\n",
      "  warnings.warn(\n",
      "/home/ubuntu/data/miniconda3/envs/lysine-torch/lib/python3.9/site-packages/torch_geometric/warnings.py:11: UserWarning: The usage of `scatter(reduce='max')` can be accelerated via the 'torch-scatter' package, but it was not found\n",
      "  warnings.warn(message)\n"
     ]
    },
    {
     "name": "stdout",
     "output_type": "stream",
     "text": [
      "Epoch 1/50, Train Loss: 0.6873, Train Acc: 0.5638, Val Loss: 0.7061, Val Acc: 0.5212\n",
      "  -> New best validation loss: 0.7061\n"
     ]
    },
    {
     "name": "stderr",
     "output_type": "stream",
     "text": [
      "/home/ubuntu/data/miniconda3/envs/lysine-torch/lib/python3.9/site-packages/torch_geometric/warnings.py:11: UserWarning: The usage of `scatter(reduce='max')` can be accelerated via the 'torch-scatter' package, but it was not found\n",
      "  warnings.warn(message)\n"
     ]
    },
    {
     "name": "stdout",
     "output_type": "stream",
     "text": [
      "Epoch 2/50, Train Loss: 0.6599, Train Acc: 0.6127, Val Loss: 0.6595, Val Acc: 0.6138\n",
      "  -> New best validation loss: 0.6595\n"
     ]
    },
    {
     "name": "stderr",
     "output_type": "stream",
     "text": [
      "/home/ubuntu/data/miniconda3/envs/lysine-torch/lib/python3.9/site-packages/torch_geometric/warnings.py:11: UserWarning: The usage of `scatter(reduce='max')` can be accelerated via the 'torch-scatter' package, but it was not found\n",
      "  warnings.warn(message)\n"
     ]
    },
    {
     "name": "stdout",
     "output_type": "stream",
     "text": [
      "Epoch 3/50, Train Loss: 0.6366, Train Acc: 0.6456, Val Loss: 0.6550, Val Acc: 0.5839\n",
      "  -> New best validation loss: 0.6550\n"
     ]
    },
    {
     "name": "stderr",
     "output_type": "stream",
     "text": [
      "/home/ubuntu/data/miniconda3/envs/lysine-torch/lib/python3.9/site-packages/torch_geometric/warnings.py:11: UserWarning: The usage of `scatter(reduce='max')` can be accelerated via the 'torch-scatter' package, but it was not found\n",
      "  warnings.warn(message)\n"
     ]
    },
    {
     "name": "stdout",
     "output_type": "stream",
     "text": [
      "Epoch 4/50, Train Loss: 0.6204, Train Acc: 0.6644, Val Loss: 0.6304, Val Acc: 0.6951\n",
      "  -> New best validation loss: 0.6304\n"
     ]
    },
    {
     "name": "stderr",
     "output_type": "stream",
     "text": [
      "/home/ubuntu/data/miniconda3/envs/lysine-torch/lib/python3.9/site-packages/torch_geometric/warnings.py:11: UserWarning: The usage of `scatter(reduce='max')` can be accelerated via the 'torch-scatter' package, but it was not found\n",
      "  warnings.warn(message)\n"
     ]
    },
    {
     "name": "stdout",
     "output_type": "stream",
     "text": [
      "Epoch 5/50, Train Loss: 0.6176, Train Acc: 0.6704, Val Loss: 0.6118, Val Acc: 0.6945\n",
      "  -> New best validation loss: 0.6118\n"
     ]
    },
    {
     "name": "stderr",
     "output_type": "stream",
     "text": [
      "/home/ubuntu/data/miniconda3/envs/lysine-torch/lib/python3.9/site-packages/torch_geometric/warnings.py:11: UserWarning: The usage of `scatter(reduce='max')` can be accelerated via the 'torch-scatter' package, but it was not found\n",
      "  warnings.warn(message)\n"
     ]
    },
    {
     "name": "stdout",
     "output_type": "stream",
     "text": [
      "Epoch 6/50, Train Loss: 0.6044, Train Acc: 0.6837, Val Loss: 0.6319, Val Acc: 0.6132\n"
     ]
    },
    {
     "name": "stderr",
     "output_type": "stream",
     "text": [
      "/home/ubuntu/data/miniconda3/envs/lysine-torch/lib/python3.9/site-packages/torch_geometric/warnings.py:11: UserWarning: The usage of `scatter(reduce='max')` can be accelerated via the 'torch-scatter' package, but it was not found\n",
      "  warnings.warn(message)\n"
     ]
    },
    {
     "name": "stdout",
     "output_type": "stream",
     "text": [
      "Epoch 7/50, Train Loss: 0.5982, Train Acc: 0.6851, Val Loss: 0.6199, Val Acc: 0.6516\n"
     ]
    },
    {
     "name": "stderr",
     "output_type": "stream",
     "text": [
      "/home/ubuntu/data/miniconda3/envs/lysine-torch/lib/python3.9/site-packages/torch_geometric/warnings.py:11: UserWarning: The usage of `scatter(reduce='max')` can be accelerated via the 'torch-scatter' package, but it was not found\n",
      "  warnings.warn(message)\n"
     ]
    },
    {
     "name": "stdout",
     "output_type": "stream",
     "text": [
      "Epoch 8/50, Train Loss: 0.5895, Train Acc: 0.6958, Val Loss: 0.6089, Val Acc: 0.7019\n",
      "  -> New best validation loss: 0.6089\n"
     ]
    },
    {
     "name": "stderr",
     "output_type": "stream",
     "text": [
      "/home/ubuntu/data/miniconda3/envs/lysine-torch/lib/python3.9/site-packages/torch_geometric/warnings.py:11: UserWarning: The usage of `scatter(reduce='max')` can be accelerated via the 'torch-scatter' package, but it was not found\n",
      "  warnings.warn(message)\n"
     ]
    },
    {
     "name": "stdout",
     "output_type": "stream",
     "text": [
      "Epoch 9/50, Train Loss: 0.5911, Train Acc: 0.6963, Val Loss: 0.5960, Val Acc: 0.7047\n",
      "  -> New best validation loss: 0.5960\n"
     ]
    },
    {
     "name": "stderr",
     "output_type": "stream",
     "text": [
      "/home/ubuntu/data/miniconda3/envs/lysine-torch/lib/python3.9/site-packages/torch_geometric/warnings.py:11: UserWarning: The usage of `scatter(reduce='max')` can be accelerated via the 'torch-scatter' package, but it was not found\n",
      "  warnings.warn(message)\n"
     ]
    },
    {
     "name": "stdout",
     "output_type": "stream",
     "text": [
      "Epoch 10/50, Train Loss: 0.5777, Train Acc: 0.7057, Val Loss: 0.5876, Val Acc: 0.7143\n",
      "  -> New best validation loss: 0.5876\n"
     ]
    },
    {
     "name": "stderr",
     "output_type": "stream",
     "text": [
      "/home/ubuntu/data/miniconda3/envs/lysine-torch/lib/python3.9/site-packages/torch_geometric/warnings.py:11: UserWarning: The usage of `scatter(reduce='max')` can be accelerated via the 'torch-scatter' package, but it was not found\n",
      "  warnings.warn(message)\n"
     ]
    },
    {
     "name": "stdout",
     "output_type": "stream",
     "text": [
      "Epoch 11/50, Train Loss: 0.5796, Train Acc: 0.7026, Val Loss: 0.5674, Val Acc: 0.7307\n",
      "  -> New best validation loss: 0.5674\n"
     ]
    },
    {
     "name": "stderr",
     "output_type": "stream",
     "text": [
      "/home/ubuntu/data/miniconda3/envs/lysine-torch/lib/python3.9/site-packages/torch_geometric/warnings.py:11: UserWarning: The usage of `scatter(reduce='max')` can be accelerated via the 'torch-scatter' package, but it was not found\n",
      "  warnings.warn(message)\n"
     ]
    },
    {
     "name": "stdout",
     "output_type": "stream",
     "text": [
      "Epoch 12/50, Train Loss: 0.5717, Train Acc: 0.7071, Val Loss: 0.5789, Val Acc: 0.6985\n"
     ]
    },
    {
     "name": "stderr",
     "output_type": "stream",
     "text": [
      "/home/ubuntu/data/miniconda3/envs/lysine-torch/lib/python3.9/site-packages/torch_geometric/warnings.py:11: UserWarning: The usage of `scatter(reduce='max')` can be accelerated via the 'torch-scatter' package, but it was not found\n",
      "  warnings.warn(message)\n"
     ]
    },
    {
     "name": "stdout",
     "output_type": "stream",
     "text": [
      "Epoch 13/50, Train Loss: 0.5701, Train Acc: 0.7052, Val Loss: 0.5725, Val Acc: 0.7177\n"
     ]
    },
    {
     "name": "stderr",
     "output_type": "stream",
     "text": [
      "/home/ubuntu/data/miniconda3/envs/lysine-torch/lib/python3.9/site-packages/torch_geometric/warnings.py:11: UserWarning: The usage of `scatter(reduce='max')` can be accelerated via the 'torch-scatter' package, but it was not found\n",
      "  warnings.warn(message)\n"
     ]
    },
    {
     "name": "stdout",
     "output_type": "stream",
     "text": [
      "Epoch 14/50, Train Loss: 0.5583, Train Acc: 0.7169, Val Loss: 0.5710, Val Acc: 0.7132\n"
     ]
    },
    {
     "name": "stderr",
     "output_type": "stream",
     "text": [
      "/home/ubuntu/data/miniconda3/envs/lysine-torch/lib/python3.9/site-packages/torch_geometric/warnings.py:11: UserWarning: The usage of `scatter(reduce='max')` can be accelerated via the 'torch-scatter' package, but it was not found\n",
      "  warnings.warn(message)\n"
     ]
    },
    {
     "name": "stdout",
     "output_type": "stream",
     "text": [
      "Epoch 15/50, Train Loss: 0.5494, Train Acc: 0.7323, Val Loss: 0.5524, Val Acc: 0.7329\n",
      "  -> New best validation loss: 0.5524\n"
     ]
    },
    {
     "name": "stderr",
     "output_type": "stream",
     "text": [
      "/home/ubuntu/data/miniconda3/envs/lysine-torch/lib/python3.9/site-packages/torch_geometric/warnings.py:11: UserWarning: The usage of `scatter(reduce='max')` can be accelerated via the 'torch-scatter' package, but it was not found\n",
      "  warnings.warn(message)\n"
     ]
    },
    {
     "name": "stdout",
     "output_type": "stream",
     "text": [
      "Epoch 16/50, Train Loss: 0.5397, Train Acc: 0.7324, Val Loss: 0.5677, Val Acc: 0.7103\n"
     ]
    },
    {
     "name": "stderr",
     "output_type": "stream",
     "text": [
      "/home/ubuntu/data/miniconda3/envs/lysine-torch/lib/python3.9/site-packages/torch_geometric/warnings.py:11: UserWarning: The usage of `scatter(reduce='max')` can be accelerated via the 'torch-scatter' package, but it was not found\n",
      "  warnings.warn(message)\n"
     ]
    },
    {
     "name": "stdout",
     "output_type": "stream",
     "text": [
      "Epoch 17/50, Train Loss: 0.5336, Train Acc: 0.7347, Val Loss: 0.5556, Val Acc: 0.7340\n"
     ]
    },
    {
     "name": "stderr",
     "output_type": "stream",
     "text": [
      "/home/ubuntu/data/miniconda3/envs/lysine-torch/lib/python3.9/site-packages/torch_geometric/warnings.py:11: UserWarning: The usage of `scatter(reduce='max')` can be accelerated via the 'torch-scatter' package, but it was not found\n",
      "  warnings.warn(message)\n"
     ]
    },
    {
     "name": "stdout",
     "output_type": "stream",
     "text": [
      "Epoch 18/50, Train Loss: 0.5317, Train Acc: 0.7379, Val Loss: 0.5334, Val Acc: 0.7493\n",
      "  -> New best validation loss: 0.5334\n"
     ]
    },
    {
     "name": "stderr",
     "output_type": "stream",
     "text": [
      "/home/ubuntu/data/miniconda3/envs/lysine-torch/lib/python3.9/site-packages/torch_geometric/warnings.py:11: UserWarning: The usage of `scatter(reduce='max')` can be accelerated via the 'torch-scatter' package, but it was not found\n",
      "  warnings.warn(message)\n"
     ]
    },
    {
     "name": "stdout",
     "output_type": "stream",
     "text": [
      "Epoch 19/50, Train Loss: 0.5250, Train Acc: 0.7444, Val Loss: 0.5505, Val Acc: 0.7228\n"
     ]
    },
    {
     "name": "stderr",
     "output_type": "stream",
     "text": [
      "/home/ubuntu/data/miniconda3/envs/lysine-torch/lib/python3.9/site-packages/torch_geometric/warnings.py:11: UserWarning: The usage of `scatter(reduce='max')` can be accelerated via the 'torch-scatter' package, but it was not found\n",
      "  warnings.warn(message)\n"
     ]
    },
    {
     "name": "stdout",
     "output_type": "stream",
     "text": [
      "Epoch 20/50, Train Loss: 0.5235, Train Acc: 0.7471, Val Loss: 0.5310, Val Acc: 0.7516\n",
      "  -> New best validation loss: 0.5310\n"
     ]
    },
    {
     "name": "stderr",
     "output_type": "stream",
     "text": [
      "/home/ubuntu/data/miniconda3/envs/lysine-torch/lib/python3.9/site-packages/torch_geometric/warnings.py:11: UserWarning: The usage of `scatter(reduce='max')` can be accelerated via the 'torch-scatter' package, but it was not found\n",
      "  warnings.warn(message)\n"
     ]
    },
    {
     "name": "stdout",
     "output_type": "stream",
     "text": [
      "Epoch 21/50, Train Loss: 0.5165, Train Acc: 0.7454, Val Loss: 0.5277, Val Acc: 0.7470\n",
      "  -> New best validation loss: 0.5277\n"
     ]
    },
    {
     "name": "stderr",
     "output_type": "stream",
     "text": [
      "/home/ubuntu/data/miniconda3/envs/lysine-torch/lib/python3.9/site-packages/torch_geometric/warnings.py:11: UserWarning: The usage of `scatter(reduce='max')` can be accelerated via the 'torch-scatter' package, but it was not found\n",
      "  warnings.warn(message)\n"
     ]
    },
    {
     "name": "stdout",
     "output_type": "stream",
     "text": [
      "Epoch 22/50, Train Loss: 0.5150, Train Acc: 0.7559, Val Loss: 0.5247, Val Acc: 0.7431\n",
      "  -> New best validation loss: 0.5247\n"
     ]
    },
    {
     "name": "stderr",
     "output_type": "stream",
     "text": [
      "/home/ubuntu/data/miniconda3/envs/lysine-torch/lib/python3.9/site-packages/torch_geometric/warnings.py:11: UserWarning: The usage of `scatter(reduce='max')` can be accelerated via the 'torch-scatter' package, but it was not found\n",
      "  warnings.warn(message)\n"
     ]
    },
    {
     "name": "stdout",
     "output_type": "stream",
     "text": [
      "Epoch 23/50, Train Loss: 0.5075, Train Acc: 0.7581, Val Loss: 0.5192, Val Acc: 0.7493\n",
      "  -> New best validation loss: 0.5192\n"
     ]
    },
    {
     "name": "stderr",
     "output_type": "stream",
     "text": [
      "/home/ubuntu/data/miniconda3/envs/lysine-torch/lib/python3.9/site-packages/torch_geometric/warnings.py:11: UserWarning: The usage of `scatter(reduce='max')` can be accelerated via the 'torch-scatter' package, but it was not found\n",
      "  warnings.warn(message)\n"
     ]
    },
    {
     "name": "stdout",
     "output_type": "stream",
     "text": [
      "Epoch 24/50, Train Loss: 0.5071, Train Acc: 0.7591, Val Loss: 0.5163, Val Acc: 0.7691\n",
      "  -> New best validation loss: 0.5163\n"
     ]
    },
    {
     "name": "stderr",
     "output_type": "stream",
     "text": [
      "/home/ubuntu/data/miniconda3/envs/lysine-torch/lib/python3.9/site-packages/torch_geometric/warnings.py:11: UserWarning: The usage of `scatter(reduce='max')` can be accelerated via the 'torch-scatter' package, but it was not found\n",
      "  warnings.warn(message)\n"
     ]
    },
    {
     "name": "stdout",
     "output_type": "stream",
     "text": [
      "Epoch 25/50, Train Loss: 0.5025, Train Acc: 0.7600, Val Loss: 0.5404, Val Acc: 0.7380\n"
     ]
    },
    {
     "name": "stderr",
     "output_type": "stream",
     "text": [
      "/home/ubuntu/data/miniconda3/envs/lysine-torch/lib/python3.9/site-packages/torch_geometric/warnings.py:11: UserWarning: The usage of `scatter(reduce='max')` can be accelerated via the 'torch-scatter' package, but it was not found\n",
      "  warnings.warn(message)\n"
     ]
    },
    {
     "name": "stdout",
     "output_type": "stream",
     "text": [
      "Epoch 26/50, Train Loss: 0.5034, Train Acc: 0.7632, Val Loss: 0.5338, Val Acc: 0.7414\n"
     ]
    },
    {
     "name": "stderr",
     "output_type": "stream",
     "text": [
      "/home/ubuntu/data/miniconda3/envs/lysine-torch/lib/python3.9/site-packages/torch_geometric/warnings.py:11: UserWarning: The usage of `scatter(reduce='max')` can be accelerated via the 'torch-scatter' package, but it was not found\n",
      "  warnings.warn(message)\n"
     ]
    },
    {
     "name": "stdout",
     "output_type": "stream",
     "text": [
      "Epoch 27/50, Train Loss: 0.5037, Train Acc: 0.7557, Val Loss: 0.5320, Val Acc: 0.7459\n"
     ]
    },
    {
     "name": "stderr",
     "output_type": "stream",
     "text": [
      "/home/ubuntu/data/miniconda3/envs/lysine-torch/lib/python3.9/site-packages/torch_geometric/warnings.py:11: UserWarning: The usage of `scatter(reduce='max')` can be accelerated via the 'torch-scatter' package, but it was not found\n",
      "  warnings.warn(message)\n"
     ]
    },
    {
     "name": "stdout",
     "output_type": "stream",
     "text": [
      "Epoch 28/50, Train Loss: 0.4969, Train Acc: 0.7663, Val Loss: 0.5272, Val Acc: 0.7391\n"
     ]
    },
    {
     "name": "stderr",
     "output_type": "stream",
     "text": [
      "/home/ubuntu/data/miniconda3/envs/lysine-torch/lib/python3.9/site-packages/torch_geometric/warnings.py:11: UserWarning: The usage of `scatter(reduce='max')` can be accelerated via the 'torch-scatter' package, but it was not found\n",
      "  warnings.warn(message)\n"
     ]
    },
    {
     "name": "stdout",
     "output_type": "stream",
     "text": [
      "Epoch 29/50, Train Loss: 0.4919, Train Acc: 0.7667, Val Loss: 0.5292, Val Acc: 0.7391\n"
     ]
    },
    {
     "name": "stderr",
     "output_type": "stream",
     "text": [
      "/home/ubuntu/data/miniconda3/envs/lysine-torch/lib/python3.9/site-packages/torch_geometric/warnings.py:11: UserWarning: The usage of `scatter(reduce='max')` can be accelerated via the 'torch-scatter' package, but it was not found\n",
      "  warnings.warn(message)\n"
     ]
    },
    {
     "name": "stdout",
     "output_type": "stream",
     "text": [
      "Epoch 30/50, Train Loss: 0.4892, Train Acc: 0.7669, Val Loss: 0.5290, Val Acc: 0.7448\n"
     ]
    },
    {
     "name": "stderr",
     "output_type": "stream",
     "text": [
      "/home/ubuntu/data/miniconda3/envs/lysine-torch/lib/python3.9/site-packages/torch_geometric/warnings.py:11: UserWarning: The usage of `scatter(reduce='max')` can be accelerated via the 'torch-scatter' package, but it was not found\n",
      "  warnings.warn(message)\n"
     ]
    },
    {
     "name": "stdout",
     "output_type": "stream",
     "text": [
      "Epoch 31/50, Train Loss: 0.4575, Train Acc: 0.7907, Val Loss: 0.5166, Val Acc: 0.7465\n"
     ]
    },
    {
     "name": "stderr",
     "output_type": "stream",
     "text": [
      "/home/ubuntu/data/miniconda3/envs/lysine-torch/lib/python3.9/site-packages/torch_geometric/warnings.py:11: UserWarning: The usage of `scatter(reduce='max')` can be accelerated via the 'torch-scatter' package, but it was not found\n",
      "  warnings.warn(message)\n"
     ]
    },
    {
     "name": "stdout",
     "output_type": "stream",
     "text": [
      "Epoch 32/50, Train Loss: 0.4548, Train Acc: 0.7943, Val Loss: 0.5328, Val Acc: 0.7233\n"
     ]
    },
    {
     "name": "stderr",
     "output_type": "stream",
     "text": [
      "/home/ubuntu/data/miniconda3/envs/lysine-torch/lib/python3.9/site-packages/torch_geometric/warnings.py:11: UserWarning: The usage of `scatter(reduce='max')` can be accelerated via the 'torch-scatter' package, but it was not found\n",
      "  warnings.warn(message)\n"
     ]
    },
    {
     "name": "stdout",
     "output_type": "stream",
     "text": [
      "Epoch 33/50, Train Loss: 0.4367, Train Acc: 0.7978, Val Loss: 0.5417, Val Acc: 0.7154\n"
     ]
    },
    {
     "name": "stderr",
     "output_type": "stream",
     "text": [
      "/home/ubuntu/data/miniconda3/envs/lysine-torch/lib/python3.9/site-packages/torch_geometric/warnings.py:11: UserWarning: The usage of `scatter(reduce='max')` can be accelerated via the 'torch-scatter' package, but it was not found\n",
      "  warnings.warn(message)\n"
     ]
    },
    {
     "name": "stdout",
     "output_type": "stream",
     "text": [
      "Epoch 34/50, Train Loss: 0.4359, Train Acc: 0.8040, Val Loss: 0.5197, Val Acc: 0.7470\n",
      "Early stopping triggered\n",
      "\n",
      "Validation metrics:\n",
      "Accuracy: 0.7470\n",
      "Balanced Accuracy: 0.7466\n",
      "MCC: 0.4933\n",
      "Sensitivity: 0.7573\n",
      "Specificity: 0.7359\n",
      "Confusion Matrix:\n",
      "[[627 225]\n",
      " [223 696]]\n"
     ]
    },
    {
     "name": "stderr",
     "output_type": "stream",
     "text": [
      "/home/ubuntu/data/miniconda3/envs/lysine-torch/lib/python3.9/site-packages/torch_geometric/deprecation.py:26: UserWarning: 'data.DataLoader' is deprecated, use 'loader.DataLoader' instead\n",
      "  warnings.warn(out)\n"
     ]
    },
    {
     "name": "stdout",
     "output_type": "stream",
     "text": [
      "\n",
      "--- Fold 3/5 ---\n"
     ]
    },
    {
     "name": "stderr",
     "output_type": "stream",
     "text": [
      "/home/ubuntu/data/miniconda3/envs/lysine-torch/lib/python3.9/site-packages/torch_geometric/deprecation.py:26: UserWarning: 'data.DataLoader' is deprecated, use 'loader.DataLoader' instead\n",
      "  warnings.warn(out)\n",
      "/home/ubuntu/data/miniconda3/envs/lysine-torch/lib/python3.9/site-packages/torch/optim/lr_scheduler.py:62: UserWarning: The verbose parameter is deprecated. Please use get_last_lr() to access the learning rate.\n",
      "  warnings.warn(\n",
      "/home/ubuntu/data/miniconda3/envs/lysine-torch/lib/python3.9/site-packages/torch_geometric/warnings.py:11: UserWarning: The usage of `scatter(reduce='max')` can be accelerated via the 'torch-scatter' package, but it was not found\n",
      "  warnings.warn(message)\n"
     ]
    },
    {
     "name": "stdout",
     "output_type": "stream",
     "text": [
      "Epoch 1/50, Train Loss: 0.6827, Train Acc: 0.5686, Val Loss: 0.6719, Val Acc: 0.5567\n",
      "  -> New best validation loss: 0.6719\n"
     ]
    },
    {
     "name": "stderr",
     "output_type": "stream",
     "text": [
      "/home/ubuntu/data/miniconda3/envs/lysine-torch/lib/python3.9/site-packages/torch_geometric/warnings.py:11: UserWarning: The usage of `scatter(reduce='max')` can be accelerated via the 'torch-scatter' package, but it was not found\n",
      "  warnings.warn(message)\n"
     ]
    },
    {
     "name": "stdout",
     "output_type": "stream",
     "text": [
      "Epoch 2/50, Train Loss: 0.6497, Train Acc: 0.6274, Val Loss: 0.6640, Val Acc: 0.5968\n",
      "  -> New best validation loss: 0.6640\n"
     ]
    },
    {
     "name": "stderr",
     "output_type": "stream",
     "text": [
      "/home/ubuntu/data/miniconda3/envs/lysine-torch/lib/python3.9/site-packages/torch_geometric/warnings.py:11: UserWarning: The usage of `scatter(reduce='max')` can be accelerated via the 'torch-scatter' package, but it was not found\n",
      "  warnings.warn(message)\n"
     ]
    },
    {
     "name": "stdout",
     "output_type": "stream",
     "text": [
      "Epoch 3/50, Train Loss: 0.6277, Train Acc: 0.6471, Val Loss: 0.6775, Val Acc: 0.5686\n"
     ]
    },
    {
     "name": "stderr",
     "output_type": "stream",
     "text": [
      "/home/ubuntu/data/miniconda3/envs/lysine-torch/lib/python3.9/site-packages/torch_geometric/warnings.py:11: UserWarning: The usage of `scatter(reduce='max')` can be accelerated via the 'torch-scatter' package, but it was not found\n",
      "  warnings.warn(message)\n"
     ]
    },
    {
     "name": "stdout",
     "output_type": "stream",
     "text": [
      "Epoch 4/50, Train Loss: 0.6158, Train Acc: 0.6709, Val Loss: 0.6264, Val Acc: 0.6539\n",
      "  -> New best validation loss: 0.6264\n"
     ]
    },
    {
     "name": "stderr",
     "output_type": "stream",
     "text": [
      "/home/ubuntu/data/miniconda3/envs/lysine-torch/lib/python3.9/site-packages/torch_geometric/warnings.py:11: UserWarning: The usage of `scatter(reduce='max')` can be accelerated via the 'torch-scatter' package, but it was not found\n",
      "  warnings.warn(message)\n"
     ]
    },
    {
     "name": "stdout",
     "output_type": "stream",
     "text": [
      "Epoch 5/50, Train Loss: 0.6061, Train Acc: 0.6759, Val Loss: 0.6505, Val Acc: 0.5963\n"
     ]
    },
    {
     "name": "stderr",
     "output_type": "stream",
     "text": [
      "/home/ubuntu/data/miniconda3/envs/lysine-torch/lib/python3.9/site-packages/torch_geometric/warnings.py:11: UserWarning: The usage of `scatter(reduce='max')` can be accelerated via the 'torch-scatter' package, but it was not found\n",
      "  warnings.warn(message)\n"
     ]
    },
    {
     "name": "stdout",
     "output_type": "stream",
     "text": [
      "Epoch 6/50, Train Loss: 0.5980, Train Acc: 0.6833, Val Loss: 0.6438, Val Acc: 0.6126\n"
     ]
    },
    {
     "name": "stderr",
     "output_type": "stream",
     "text": [
      "/home/ubuntu/data/miniconda3/envs/lysine-torch/lib/python3.9/site-packages/torch_geometric/warnings.py:11: UserWarning: The usage of `scatter(reduce='max')` can be accelerated via the 'torch-scatter' package, but it was not found\n",
      "  warnings.warn(message)\n"
     ]
    },
    {
     "name": "stdout",
     "output_type": "stream",
     "text": [
      "Epoch 7/50, Train Loss: 0.5914, Train Acc: 0.6865, Val Loss: 0.6293, Val Acc: 0.6341\n"
     ]
    },
    {
     "name": "stderr",
     "output_type": "stream",
     "text": [
      "/home/ubuntu/data/miniconda3/envs/lysine-torch/lib/python3.9/site-packages/torch_geometric/warnings.py:11: UserWarning: The usage of `scatter(reduce='max')` can be accelerated via the 'torch-scatter' package, but it was not found\n",
      "  warnings.warn(message)\n"
     ]
    },
    {
     "name": "stdout",
     "output_type": "stream",
     "text": [
      "Epoch 8/50, Train Loss: 0.5834, Train Acc: 0.7014, Val Loss: 0.6099, Val Acc: 0.6759\n",
      "  -> New best validation loss: 0.6099\n"
     ]
    },
    {
     "name": "stderr",
     "output_type": "stream",
     "text": [
      "/home/ubuntu/data/miniconda3/envs/lysine-torch/lib/python3.9/site-packages/torch_geometric/warnings.py:11: UserWarning: The usage of `scatter(reduce='max')` can be accelerated via the 'torch-scatter' package, but it was not found\n",
      "  warnings.warn(message)\n"
     ]
    },
    {
     "name": "stdout",
     "output_type": "stream",
     "text": [
      "Epoch 9/50, Train Loss: 0.5815, Train Acc: 0.7005, Val Loss: 0.5995, Val Acc: 0.6877\n",
      "  -> New best validation loss: 0.5995\n"
     ]
    },
    {
     "name": "stderr",
     "output_type": "stream",
     "text": [
      "/home/ubuntu/data/miniconda3/envs/lysine-torch/lib/python3.9/site-packages/torch_geometric/warnings.py:11: UserWarning: The usage of `scatter(reduce='max')` can be accelerated via the 'torch-scatter' package, but it was not found\n",
      "  warnings.warn(message)\n"
     ]
    },
    {
     "name": "stdout",
     "output_type": "stream",
     "text": [
      "Epoch 10/50, Train Loss: 0.5754, Train Acc: 0.7059, Val Loss: 0.6025, Val Acc: 0.6719\n"
     ]
    },
    {
     "name": "stderr",
     "output_type": "stream",
     "text": [
      "/home/ubuntu/data/miniconda3/envs/lysine-torch/lib/python3.9/site-packages/torch_geometric/warnings.py:11: UserWarning: The usage of `scatter(reduce='max')` can be accelerated via the 'torch-scatter' package, but it was not found\n",
      "  warnings.warn(message)\n"
     ]
    },
    {
     "name": "stdout",
     "output_type": "stream",
     "text": [
      "Epoch 11/50, Train Loss: 0.5692, Train Acc: 0.7169, Val Loss: 0.6272, Val Acc: 0.6324\n"
     ]
    },
    {
     "name": "stderr",
     "output_type": "stream",
     "text": [
      "/home/ubuntu/data/miniconda3/envs/lysine-torch/lib/python3.9/site-packages/torch_geometric/warnings.py:11: UserWarning: The usage of `scatter(reduce='max')` can be accelerated via the 'torch-scatter' package, but it was not found\n",
      "  warnings.warn(message)\n"
     ]
    },
    {
     "name": "stdout",
     "output_type": "stream",
     "text": [
      "Epoch 12/50, Train Loss: 0.5660, Train Acc: 0.7170, Val Loss: 0.6378, Val Acc: 0.6307\n"
     ]
    },
    {
     "name": "stderr",
     "output_type": "stream",
     "text": [
      "/home/ubuntu/data/miniconda3/envs/lysine-torch/lib/python3.9/site-packages/torch_geometric/warnings.py:11: UserWarning: The usage of `scatter(reduce='max')` can be accelerated via the 'torch-scatter' package, but it was not found\n",
      "  warnings.warn(message)\n"
     ]
    },
    {
     "name": "stdout",
     "output_type": "stream",
     "text": [
      "Epoch 13/50, Train Loss: 0.5678, Train Acc: 0.7095, Val Loss: 0.6338, Val Acc: 0.6239\n"
     ]
    },
    {
     "name": "stderr",
     "output_type": "stream",
     "text": [
      "/home/ubuntu/data/miniconda3/envs/lysine-torch/lib/python3.9/site-packages/torch_geometric/warnings.py:11: UserWarning: The usage of `scatter(reduce='max')` can be accelerated via the 'torch-scatter' package, but it was not found\n",
      "  warnings.warn(message)\n"
     ]
    },
    {
     "name": "stdout",
     "output_type": "stream",
     "text": [
      "Epoch 14/50, Train Loss: 0.5602, Train Acc: 0.7155, Val Loss: 0.6050, Val Acc: 0.6601\n"
     ]
    },
    {
     "name": "stderr",
     "output_type": "stream",
     "text": [
      "/home/ubuntu/data/miniconda3/envs/lysine-torch/lib/python3.9/site-packages/torch_geometric/warnings.py:11: UserWarning: The usage of `scatter(reduce='max')` can be accelerated via the 'torch-scatter' package, but it was not found\n",
      "  warnings.warn(message)\n"
     ]
    },
    {
     "name": "stdout",
     "output_type": "stream",
     "text": [
      "Epoch 15/50, Train Loss: 0.5575, Train Acc: 0.7193, Val Loss: 0.6003, Val Acc: 0.6765\n"
     ]
    },
    {
     "name": "stderr",
     "output_type": "stream",
     "text": [
      "/home/ubuntu/data/miniconda3/envs/lysine-torch/lib/python3.9/site-packages/torch_geometric/warnings.py:11: UserWarning: The usage of `scatter(reduce='max')` can be accelerated via the 'torch-scatter' package, but it was not found\n",
      "  warnings.warn(message)\n"
     ]
    },
    {
     "name": "stdout",
     "output_type": "stream",
     "text": [
      "Epoch 16/50, Train Loss: 0.5281, Train Acc: 0.7463, Val Loss: 0.5640, Val Acc: 0.7115\n",
      "  -> New best validation loss: 0.5640\n"
     ]
    },
    {
     "name": "stderr",
     "output_type": "stream",
     "text": [
      "/home/ubuntu/data/miniconda3/envs/lysine-torch/lib/python3.9/site-packages/torch_geometric/warnings.py:11: UserWarning: The usage of `scatter(reduce='max')` can be accelerated via the 'torch-scatter' package, but it was not found\n",
      "  warnings.warn(message)\n"
     ]
    },
    {
     "name": "stdout",
     "output_type": "stream",
     "text": [
      "Epoch 17/50, Train Loss: 0.5171, Train Acc: 0.7465, Val Loss: 0.6245, Val Acc: 0.6431\n"
     ]
    },
    {
     "name": "stderr",
     "output_type": "stream",
     "text": [
      "/home/ubuntu/data/miniconda3/envs/lysine-torch/lib/python3.9/site-packages/torch_geometric/warnings.py:11: UserWarning: The usage of `scatter(reduce='max')` can be accelerated via the 'torch-scatter' package, but it was not found\n",
      "  warnings.warn(message)\n"
     ]
    },
    {
     "name": "stdout",
     "output_type": "stream",
     "text": [
      "Epoch 18/50, Train Loss: 0.5060, Train Acc: 0.7609, Val Loss: 0.5979, Val Acc: 0.6787\n"
     ]
    },
    {
     "name": "stderr",
     "output_type": "stream",
     "text": [
      "/home/ubuntu/data/miniconda3/envs/lysine-torch/lib/python3.9/site-packages/torch_geometric/warnings.py:11: UserWarning: The usage of `scatter(reduce='max')` can be accelerated via the 'torch-scatter' package, but it was not found\n",
      "  warnings.warn(message)\n"
     ]
    },
    {
     "name": "stdout",
     "output_type": "stream",
     "text": [
      "Epoch 19/50, Train Loss: 0.4941, Train Acc: 0.7691, Val Loss: 0.5899, Val Acc: 0.6838\n"
     ]
    },
    {
     "name": "stderr",
     "output_type": "stream",
     "text": [
      "/home/ubuntu/data/miniconda3/envs/lysine-torch/lib/python3.9/site-packages/torch_geometric/warnings.py:11: UserWarning: The usage of `scatter(reduce='max')` can be accelerated via the 'torch-scatter' package, but it was not found\n",
      "  warnings.warn(message)\n"
     ]
    },
    {
     "name": "stdout",
     "output_type": "stream",
     "text": [
      "Epoch 20/50, Train Loss: 0.4869, Train Acc: 0.7725, Val Loss: 0.5743, Val Acc: 0.6945\n"
     ]
    },
    {
     "name": "stderr",
     "output_type": "stream",
     "text": [
      "/home/ubuntu/data/miniconda3/envs/lysine-torch/lib/python3.9/site-packages/torch_geometric/warnings.py:11: UserWarning: The usage of `scatter(reduce='max')` can be accelerated via the 'torch-scatter' package, but it was not found\n",
      "  warnings.warn(message)\n"
     ]
    },
    {
     "name": "stdout",
     "output_type": "stream",
     "text": [
      "Epoch 21/50, Train Loss: 0.4773, Train Acc: 0.7794, Val Loss: 0.5844, Val Acc: 0.6753\n"
     ]
    },
    {
     "name": "stderr",
     "output_type": "stream",
     "text": [
      "/home/ubuntu/data/miniconda3/envs/lysine-torch/lib/python3.9/site-packages/torch_geometric/warnings.py:11: UserWarning: The usage of `scatter(reduce='max')` can be accelerated via the 'torch-scatter' package, but it was not found\n",
      "  warnings.warn(message)\n"
     ]
    },
    {
     "name": "stdout",
     "output_type": "stream",
     "text": [
      "Epoch 22/50, Train Loss: 0.4676, Train Acc: 0.7883, Val Loss: 0.5741, Val Acc: 0.6900\n"
     ]
    },
    {
     "name": "stderr",
     "output_type": "stream",
     "text": [
      "/home/ubuntu/data/miniconda3/envs/lysine-torch/lib/python3.9/site-packages/torch_geometric/warnings.py:11: UserWarning: The usage of `scatter(reduce='max')` can be accelerated via the 'torch-scatter' package, but it was not found\n",
      "  warnings.warn(message)\n"
     ]
    },
    {
     "name": "stdout",
     "output_type": "stream",
     "text": [
      "Epoch 23/50, Train Loss: 0.4301, Train Acc: 0.8104, Val Loss: 0.5690, Val Acc: 0.6900\n"
     ]
    },
    {
     "name": "stderr",
     "output_type": "stream",
     "text": [
      "/home/ubuntu/data/miniconda3/envs/lysine-torch/lib/python3.9/site-packages/torch_geometric/warnings.py:11: UserWarning: The usage of `scatter(reduce='max')` can be accelerated via the 'torch-scatter' package, but it was not found\n",
      "  warnings.warn(message)\n"
     ]
    },
    {
     "name": "stdout",
     "output_type": "stream",
     "text": [
      "Epoch 24/50, Train Loss: 0.4151, Train Acc: 0.8171, Val Loss: 0.5919, Val Acc: 0.6815\n"
     ]
    },
    {
     "name": "stderr",
     "output_type": "stream",
     "text": [
      "/home/ubuntu/data/miniconda3/envs/lysine-torch/lib/python3.9/site-packages/torch_geometric/warnings.py:11: UserWarning: The usage of `scatter(reduce='max')` can be accelerated via the 'torch-scatter' package, but it was not found\n",
      "  warnings.warn(message)\n"
     ]
    },
    {
     "name": "stdout",
     "output_type": "stream",
     "text": [
      "Epoch 25/50, Train Loss: 0.4001, Train Acc: 0.8242, Val Loss: 0.5726, Val Acc: 0.6945\n"
     ]
    },
    {
     "name": "stderr",
     "output_type": "stream",
     "text": [
      "/home/ubuntu/data/miniconda3/envs/lysine-torch/lib/python3.9/site-packages/torch_geometric/warnings.py:11: UserWarning: The usage of `scatter(reduce='max')` can be accelerated via the 'torch-scatter' package, but it was not found\n",
      "  warnings.warn(message)\n"
     ]
    },
    {
     "name": "stdout",
     "output_type": "stream",
     "text": [
      "Epoch 26/50, Train Loss: 0.3993, Train Acc: 0.8276, Val Loss: 0.5650, Val Acc: 0.7019\n",
      "Early stopping triggered\n",
      "\n",
      "Validation metrics:\n",
      "Accuracy: 0.7019\n",
      "Balanced Accuracy: 0.7044\n",
      "MCC: 0.4117\n",
      "Sensitivity: 0.6351\n",
      "Specificity: 0.7737\n",
      "Confusion Matrix:\n",
      "[[660 193]\n",
      " [335 583]]\n"
     ]
    },
    {
     "name": "stderr",
     "output_type": "stream",
     "text": [
      "/home/ubuntu/data/miniconda3/envs/lysine-torch/lib/python3.9/site-packages/torch_geometric/deprecation.py:26: UserWarning: 'data.DataLoader' is deprecated, use 'loader.DataLoader' instead\n",
      "  warnings.warn(out)\n"
     ]
    },
    {
     "name": "stdout",
     "output_type": "stream",
     "text": [
      "\n",
      "--- Fold 4/5 ---\n"
     ]
    },
    {
     "name": "stderr",
     "output_type": "stream",
     "text": [
      "/home/ubuntu/data/miniconda3/envs/lysine-torch/lib/python3.9/site-packages/torch_geometric/deprecation.py:26: UserWarning: 'data.DataLoader' is deprecated, use 'loader.DataLoader' instead\n",
      "  warnings.warn(out)\n",
      "/home/ubuntu/data/miniconda3/envs/lysine-torch/lib/python3.9/site-packages/torch/optim/lr_scheduler.py:62: UserWarning: The verbose parameter is deprecated. Please use get_last_lr() to access the learning rate.\n",
      "  warnings.warn(\n",
      "/home/ubuntu/data/miniconda3/envs/lysine-torch/lib/python3.9/site-packages/torch_geometric/warnings.py:11: UserWarning: The usage of `scatter(reduce='max')` can be accelerated via the 'torch-scatter' package, but it was not found\n",
      "  warnings.warn(message)\n"
     ]
    },
    {
     "name": "stdout",
     "output_type": "stream",
     "text": [
      "Epoch 1/50, Train Loss: 0.6847, Train Acc: 0.5581, Val Loss: 0.6786, Val Acc: 0.5520\n",
      "  -> New best validation loss: 0.6786\n"
     ]
    },
    {
     "name": "stderr",
     "output_type": "stream",
     "text": [
      "/home/ubuntu/data/miniconda3/envs/lysine-torch/lib/python3.9/site-packages/torch_geometric/warnings.py:11: UserWarning: The usage of `scatter(reduce='max')` can be accelerated via the 'torch-scatter' package, but it was not found\n",
      "  warnings.warn(message)\n"
     ]
    },
    {
     "name": "stdout",
     "output_type": "stream",
     "text": [
      "Epoch 2/50, Train Loss: 0.6581, Train Acc: 0.6054, Val Loss: 0.6578, Val Acc: 0.6056\n",
      "  -> New best validation loss: 0.6578\n"
     ]
    },
    {
     "name": "stderr",
     "output_type": "stream",
     "text": [
      "/home/ubuntu/data/miniconda3/envs/lysine-torch/lib/python3.9/site-packages/torch_geometric/warnings.py:11: UserWarning: The usage of `scatter(reduce='max')` can be accelerated via the 'torch-scatter' package, but it was not found\n",
      "  warnings.warn(message)\n"
     ]
    },
    {
     "name": "stdout",
     "output_type": "stream",
     "text": [
      "Epoch 3/50, Train Loss: 0.6326, Train Acc: 0.6468, Val Loss: 0.6506, Val Acc: 0.6147\n",
      "  -> New best validation loss: 0.6506\n"
     ]
    },
    {
     "name": "stderr",
     "output_type": "stream",
     "text": [
      "/home/ubuntu/data/miniconda3/envs/lysine-torch/lib/python3.9/site-packages/torch_geometric/warnings.py:11: UserWarning: The usage of `scatter(reduce='max')` can be accelerated via the 'torch-scatter' package, but it was not found\n",
      "  warnings.warn(message)\n"
     ]
    },
    {
     "name": "stdout",
     "output_type": "stream",
     "text": [
      "Epoch 4/50, Train Loss: 0.6222, Train Acc: 0.6527, Val Loss: 0.6385, Val Acc: 0.6554\n",
      "  -> New best validation loss: 0.6385\n"
     ]
    },
    {
     "name": "stderr",
     "output_type": "stream",
     "text": [
      "/home/ubuntu/data/miniconda3/envs/lysine-torch/lib/python3.9/site-packages/torch_geometric/warnings.py:11: UserWarning: The usage of `scatter(reduce='max')` can be accelerated via the 'torch-scatter' package, but it was not found\n",
      "  warnings.warn(message)\n"
     ]
    },
    {
     "name": "stdout",
     "output_type": "stream",
     "text": [
      "Epoch 5/50, Train Loss: 0.6100, Train Acc: 0.6754, Val Loss: 0.6506, Val Acc: 0.5949\n"
     ]
    },
    {
     "name": "stderr",
     "output_type": "stream",
     "text": [
      "/home/ubuntu/data/miniconda3/envs/lysine-torch/lib/python3.9/site-packages/torch_geometric/warnings.py:11: UserWarning: The usage of `scatter(reduce='max')` can be accelerated via the 'torch-scatter' package, but it was not found\n",
      "  warnings.warn(message)\n"
     ]
    },
    {
     "name": "stdout",
     "output_type": "stream",
     "text": [
      "Epoch 6/50, Train Loss: 0.6039, Train Acc: 0.6744, Val Loss: 0.6090, Val Acc: 0.6859\n",
      "  -> New best validation loss: 0.6090\n"
     ]
    },
    {
     "name": "stderr",
     "output_type": "stream",
     "text": [
      "/home/ubuntu/data/miniconda3/envs/lysine-torch/lib/python3.9/site-packages/torch_geometric/warnings.py:11: UserWarning: The usage of `scatter(reduce='max')` can be accelerated via the 'torch-scatter' package, but it was not found\n",
      "  warnings.warn(message)\n"
     ]
    },
    {
     "name": "stdout",
     "output_type": "stream",
     "text": [
      "Epoch 7/50, Train Loss: 0.5913, Train Acc: 0.6967, Val Loss: 0.6142, Val Acc: 0.6746\n"
     ]
    },
    {
     "name": "stderr",
     "output_type": "stream",
     "text": [
      "/home/ubuntu/data/miniconda3/envs/lysine-torch/lib/python3.9/site-packages/torch_geometric/warnings.py:11: UserWarning: The usage of `scatter(reduce='max')` can be accelerated via the 'torch-scatter' package, but it was not found\n",
      "  warnings.warn(message)\n"
     ]
    },
    {
     "name": "stdout",
     "output_type": "stream",
     "text": [
      "Epoch 8/50, Train Loss: 0.5945, Train Acc: 0.6893, Val Loss: 0.6281, Val Acc: 0.6215\n"
     ]
    },
    {
     "name": "stderr",
     "output_type": "stream",
     "text": [
      "/home/ubuntu/data/miniconda3/envs/lysine-torch/lib/python3.9/site-packages/torch_geometric/warnings.py:11: UserWarning: The usage of `scatter(reduce='max')` can be accelerated via the 'torch-scatter' package, but it was not found\n",
      "  warnings.warn(message)\n"
     ]
    },
    {
     "name": "stdout",
     "output_type": "stream",
     "text": [
      "Epoch 9/50, Train Loss: 0.5815, Train Acc: 0.6983, Val Loss: 0.6201, Val Acc: 0.6469\n"
     ]
    },
    {
     "name": "stderr",
     "output_type": "stream",
     "text": [
      "/home/ubuntu/data/miniconda3/envs/lysine-torch/lib/python3.9/site-packages/torch_geometric/warnings.py:11: UserWarning: The usage of `scatter(reduce='max')` can be accelerated via the 'torch-scatter' package, but it was not found\n",
      "  warnings.warn(message)\n"
     ]
    },
    {
     "name": "stdout",
     "output_type": "stream",
     "text": [
      "Epoch 10/50, Train Loss: 0.5815, Train Acc: 0.7018, Val Loss: 0.5952, Val Acc: 0.7006\n",
      "  -> New best validation loss: 0.5952\n"
     ]
    },
    {
     "name": "stderr",
     "output_type": "stream",
     "text": [
      "/home/ubuntu/data/miniconda3/envs/lysine-torch/lib/python3.9/site-packages/torch_geometric/warnings.py:11: UserWarning: The usage of `scatter(reduce='max')` can be accelerated via the 'torch-scatter' package, but it was not found\n",
      "  warnings.warn(message)\n"
     ]
    },
    {
     "name": "stdout",
     "output_type": "stream",
     "text": [
      "Epoch 11/50, Train Loss: 0.5779, Train Acc: 0.7045, Val Loss: 0.5837, Val Acc: 0.7028\n",
      "  -> New best validation loss: 0.5837\n"
     ]
    },
    {
     "name": "stderr",
     "output_type": "stream",
     "text": [
      "/home/ubuntu/data/miniconda3/envs/lysine-torch/lib/python3.9/site-packages/torch_geometric/warnings.py:11: UserWarning: The usage of `scatter(reduce='max')` can be accelerated via the 'torch-scatter' package, but it was not found\n",
      "  warnings.warn(message)\n"
     ]
    },
    {
     "name": "stdout",
     "output_type": "stream",
     "text": [
      "Epoch 12/50, Train Loss: 0.5753, Train Acc: 0.7062, Val Loss: 0.5823, Val Acc: 0.7124\n",
      "  -> New best validation loss: 0.5823\n"
     ]
    },
    {
     "name": "stderr",
     "output_type": "stream",
     "text": [
      "/home/ubuntu/data/miniconda3/envs/lysine-torch/lib/python3.9/site-packages/torch_geometric/warnings.py:11: UserWarning: The usage of `scatter(reduce='max')` can be accelerated via the 'torch-scatter' package, but it was not found\n",
      "  warnings.warn(message)\n"
     ]
    },
    {
     "name": "stdout",
     "output_type": "stream",
     "text": [
      "Epoch 13/50, Train Loss: 0.5738, Train Acc: 0.7066, Val Loss: 0.5859, Val Acc: 0.6887\n"
     ]
    },
    {
     "name": "stderr",
     "output_type": "stream",
     "text": [
      "/home/ubuntu/data/miniconda3/envs/lysine-torch/lib/python3.9/site-packages/torch_geometric/warnings.py:11: UserWarning: The usage of `scatter(reduce='max')` can be accelerated via the 'torch-scatter' package, but it was not found\n",
      "  warnings.warn(message)\n"
     ]
    },
    {
     "name": "stdout",
     "output_type": "stream",
     "text": [
      "Epoch 14/50, Train Loss: 0.5629, Train Acc: 0.7171, Val Loss: 0.5785, Val Acc: 0.7073\n",
      "  -> New best validation loss: 0.5785\n"
     ]
    },
    {
     "name": "stderr",
     "output_type": "stream",
     "text": [
      "/home/ubuntu/data/miniconda3/envs/lysine-torch/lib/python3.9/site-packages/torch_geometric/warnings.py:11: UserWarning: The usage of `scatter(reduce='max')` can be accelerated via the 'torch-scatter' package, but it was not found\n",
      "  warnings.warn(message)\n"
     ]
    },
    {
     "name": "stdout",
     "output_type": "stream",
     "text": [
      "Epoch 15/50, Train Loss: 0.5517, Train Acc: 0.7253, Val Loss: 0.5743, Val Acc: 0.7107\n",
      "  -> New best validation loss: 0.5743\n"
     ]
    },
    {
     "name": "stderr",
     "output_type": "stream",
     "text": [
      "/home/ubuntu/data/miniconda3/envs/lysine-torch/lib/python3.9/site-packages/torch_geometric/warnings.py:11: UserWarning: The usage of `scatter(reduce='max')` can be accelerated via the 'torch-scatter' package, but it was not found\n",
      "  warnings.warn(message)\n"
     ]
    },
    {
     "name": "stdout",
     "output_type": "stream",
     "text": [
      "Epoch 16/50, Train Loss: 0.5452, Train Acc: 0.7327, Val Loss: 0.5537, Val Acc: 0.7266\n",
      "  -> New best validation loss: 0.5537\n"
     ]
    },
    {
     "name": "stderr",
     "output_type": "stream",
     "text": [
      "/home/ubuntu/data/miniconda3/envs/lysine-torch/lib/python3.9/site-packages/torch_geometric/warnings.py:11: UserWarning: The usage of `scatter(reduce='max')` can be accelerated via the 'torch-scatter' package, but it was not found\n",
      "  warnings.warn(message)\n"
     ]
    },
    {
     "name": "stdout",
     "output_type": "stream",
     "text": [
      "Epoch 17/50, Train Loss: 0.5374, Train Acc: 0.7363, Val Loss: 0.5622, Val Acc: 0.7333\n"
     ]
    },
    {
     "name": "stderr",
     "output_type": "stream",
     "text": [
      "/home/ubuntu/data/miniconda3/envs/lysine-torch/lib/python3.9/site-packages/torch_geometric/warnings.py:11: UserWarning: The usage of `scatter(reduce='max')` can be accelerated via the 'torch-scatter' package, but it was not found\n",
      "  warnings.warn(message)\n"
     ]
    },
    {
     "name": "stdout",
     "output_type": "stream",
     "text": [
      "Epoch 18/50, Train Loss: 0.5355, Train Acc: 0.7406, Val Loss: 0.5819, Val Acc: 0.6966\n"
     ]
    },
    {
     "name": "stderr",
     "output_type": "stream",
     "text": [
      "/home/ubuntu/data/miniconda3/envs/lysine-torch/lib/python3.9/site-packages/torch_geometric/warnings.py:11: UserWarning: The usage of `scatter(reduce='max')` can be accelerated via the 'torch-scatter' package, but it was not found\n",
      "  warnings.warn(message)\n"
     ]
    },
    {
     "name": "stdout",
     "output_type": "stream",
     "text": [
      "Epoch 19/50, Train Loss: 0.5312, Train Acc: 0.7414, Val Loss: 0.5495, Val Acc: 0.7294\n",
      "  -> New best validation loss: 0.5495\n"
     ]
    },
    {
     "name": "stderr",
     "output_type": "stream",
     "text": [
      "/home/ubuntu/data/miniconda3/envs/lysine-torch/lib/python3.9/site-packages/torch_geometric/warnings.py:11: UserWarning: The usage of `scatter(reduce='max')` can be accelerated via the 'torch-scatter' package, but it was not found\n",
      "  warnings.warn(message)\n"
     ]
    },
    {
     "name": "stdout",
     "output_type": "stream",
     "text": [
      "Epoch 20/50, Train Loss: 0.5246, Train Acc: 0.7470, Val Loss: 0.5565, Val Acc: 0.7158\n"
     ]
    },
    {
     "name": "stderr",
     "output_type": "stream",
     "text": [
      "/home/ubuntu/data/miniconda3/envs/lysine-torch/lib/python3.9/site-packages/torch_geometric/warnings.py:11: UserWarning: The usage of `scatter(reduce='max')` can be accelerated via the 'torch-scatter' package, but it was not found\n",
      "  warnings.warn(message)\n"
     ]
    },
    {
     "name": "stdout",
     "output_type": "stream",
     "text": [
      "Epoch 21/50, Train Loss: 0.5216, Train Acc: 0.7518, Val Loss: 0.5583, Val Acc: 0.7175\n"
     ]
    },
    {
     "name": "stderr",
     "output_type": "stream",
     "text": [
      "/home/ubuntu/data/miniconda3/envs/lysine-torch/lib/python3.9/site-packages/torch_geometric/warnings.py:11: UserWarning: The usage of `scatter(reduce='max')` can be accelerated via the 'torch-scatter' package, but it was not found\n",
      "  warnings.warn(message)\n"
     ]
    },
    {
     "name": "stdout",
     "output_type": "stream",
     "text": [
      "Epoch 22/50, Train Loss: 0.5198, Train Acc: 0.7495, Val Loss: 0.5622, Val Acc: 0.7203\n"
     ]
    },
    {
     "name": "stderr",
     "output_type": "stream",
     "text": [
      "/home/ubuntu/data/miniconda3/envs/lysine-torch/lib/python3.9/site-packages/torch_geometric/warnings.py:11: UserWarning: The usage of `scatter(reduce='max')` can be accelerated via the 'torch-scatter' package, but it was not found\n",
      "  warnings.warn(message)\n"
     ]
    },
    {
     "name": "stdout",
     "output_type": "stream",
     "text": [
      "Epoch 23/50, Train Loss: 0.5121, Train Acc: 0.7558, Val Loss: 0.5524, Val Acc: 0.7333\n"
     ]
    },
    {
     "name": "stderr",
     "output_type": "stream",
     "text": [
      "/home/ubuntu/data/miniconda3/envs/lysine-torch/lib/python3.9/site-packages/torch_geometric/warnings.py:11: UserWarning: The usage of `scatter(reduce='max')` can be accelerated via the 'torch-scatter' package, but it was not found\n",
      "  warnings.warn(message)\n"
     ]
    },
    {
     "name": "stdout",
     "output_type": "stream",
     "text": [
      "Epoch 24/50, Train Loss: 0.5152, Train Acc: 0.7560, Val Loss: 0.5386, Val Acc: 0.7418\n",
      "  -> New best validation loss: 0.5386\n"
     ]
    },
    {
     "name": "stderr",
     "output_type": "stream",
     "text": [
      "/home/ubuntu/data/miniconda3/envs/lysine-torch/lib/python3.9/site-packages/torch_geometric/warnings.py:11: UserWarning: The usage of `scatter(reduce='max')` can be accelerated via the 'torch-scatter' package, but it was not found\n",
      "  warnings.warn(message)\n"
     ]
    },
    {
     "name": "stdout",
     "output_type": "stream",
     "text": [
      "Epoch 25/50, Train Loss: 0.5030, Train Acc: 0.7606, Val Loss: 0.5414, Val Acc: 0.7215\n"
     ]
    },
    {
     "name": "stderr",
     "output_type": "stream",
     "text": [
      "/home/ubuntu/data/miniconda3/envs/lysine-torch/lib/python3.9/site-packages/torch_geometric/warnings.py:11: UserWarning: The usage of `scatter(reduce='max')` can be accelerated via the 'torch-scatter' package, but it was not found\n",
      "  warnings.warn(message)\n"
     ]
    },
    {
     "name": "stdout",
     "output_type": "stream",
     "text": [
      "Epoch 26/50, Train Loss: 0.5111, Train Acc: 0.7563, Val Loss: 0.5494, Val Acc: 0.7356\n"
     ]
    },
    {
     "name": "stderr",
     "output_type": "stream",
     "text": [
      "/home/ubuntu/data/miniconda3/envs/lysine-torch/lib/python3.9/site-packages/torch_geometric/warnings.py:11: UserWarning: The usage of `scatter(reduce='max')` can be accelerated via the 'torch-scatter' package, but it was not found\n",
      "  warnings.warn(message)\n"
     ]
    },
    {
     "name": "stdout",
     "output_type": "stream",
     "text": [
      "Epoch 27/50, Train Loss: 0.5040, Train Acc: 0.7574, Val Loss: 0.5442, Val Acc: 0.7362\n"
     ]
    },
    {
     "name": "stderr",
     "output_type": "stream",
     "text": [
      "/home/ubuntu/data/miniconda3/envs/lysine-torch/lib/python3.9/site-packages/torch_geometric/warnings.py:11: UserWarning: The usage of `scatter(reduce='max')` can be accelerated via the 'torch-scatter' package, but it was not found\n",
      "  warnings.warn(message)\n"
     ]
    },
    {
     "name": "stdout",
     "output_type": "stream",
     "text": [
      "Epoch 28/50, Train Loss: 0.4997, Train Acc: 0.7625, Val Loss: 0.5533, Val Acc: 0.7220\n"
     ]
    },
    {
     "name": "stderr",
     "output_type": "stream",
     "text": [
      "/home/ubuntu/data/miniconda3/envs/lysine-torch/lib/python3.9/site-packages/torch_geometric/warnings.py:11: UserWarning: The usage of `scatter(reduce='max')` can be accelerated via the 'torch-scatter' package, but it was not found\n",
      "  warnings.warn(message)\n"
     ]
    },
    {
     "name": "stdout",
     "output_type": "stream",
     "text": [
      "Epoch 29/50, Train Loss: 0.4999, Train Acc: 0.7589, Val Loss: 0.5341, Val Acc: 0.7395\n",
      "  -> New best validation loss: 0.5341\n"
     ]
    },
    {
     "name": "stderr",
     "output_type": "stream",
     "text": [
      "/home/ubuntu/data/miniconda3/envs/lysine-torch/lib/python3.9/site-packages/torch_geometric/warnings.py:11: UserWarning: The usage of `scatter(reduce='max')` can be accelerated via the 'torch-scatter' package, but it was not found\n",
      "  warnings.warn(message)\n"
     ]
    },
    {
     "name": "stdout",
     "output_type": "stream",
     "text": [
      "Epoch 30/50, Train Loss: 0.5010, Train Acc: 0.7607, Val Loss: 0.5518, Val Acc: 0.7192\n"
     ]
    },
    {
     "name": "stderr",
     "output_type": "stream",
     "text": [
      "/home/ubuntu/data/miniconda3/envs/lysine-torch/lib/python3.9/site-packages/torch_geometric/warnings.py:11: UserWarning: The usage of `scatter(reduce='max')` can be accelerated via the 'torch-scatter' package, but it was not found\n",
      "  warnings.warn(message)\n"
     ]
    },
    {
     "name": "stdout",
     "output_type": "stream",
     "text": [
      "Epoch 31/50, Train Loss: 0.4980, Train Acc: 0.7668, Val Loss: 0.5282, Val Acc: 0.7384\n",
      "  -> New best validation loss: 0.5282\n"
     ]
    },
    {
     "name": "stderr",
     "output_type": "stream",
     "text": [
      "/home/ubuntu/data/miniconda3/envs/lysine-torch/lib/python3.9/site-packages/torch_geometric/warnings.py:11: UserWarning: The usage of `scatter(reduce='max')` can be accelerated via the 'torch-scatter' package, but it was not found\n",
      "  warnings.warn(message)\n"
     ]
    },
    {
     "name": "stdout",
     "output_type": "stream",
     "text": [
      "Epoch 32/50, Train Loss: 0.4983, Train Acc: 0.7630, Val Loss: 0.5415, Val Acc: 0.7260\n"
     ]
    },
    {
     "name": "stderr",
     "output_type": "stream",
     "text": [
      "/home/ubuntu/data/miniconda3/envs/lysine-torch/lib/python3.9/site-packages/torch_geometric/warnings.py:11: UserWarning: The usage of `scatter(reduce='max')` can be accelerated via the 'torch-scatter' package, but it was not found\n",
      "  warnings.warn(message)\n"
     ]
    },
    {
     "name": "stdout",
     "output_type": "stream",
     "text": [
      "Epoch 33/50, Train Loss: 0.4946, Train Acc: 0.7686, Val Loss: 0.5427, Val Acc: 0.7249\n"
     ]
    },
    {
     "name": "stderr",
     "output_type": "stream",
     "text": [
      "/home/ubuntu/data/miniconda3/envs/lysine-torch/lib/python3.9/site-packages/torch_geometric/warnings.py:11: UserWarning: The usage of `scatter(reduce='max')` can be accelerated via the 'torch-scatter' package, but it was not found\n",
      "  warnings.warn(message)\n"
     ]
    },
    {
     "name": "stdout",
     "output_type": "stream",
     "text": [
      "Epoch 34/50, Train Loss: 0.4978, Train Acc: 0.7639, Val Loss: 0.5420, Val Acc: 0.7384\n"
     ]
    },
    {
     "name": "stderr",
     "output_type": "stream",
     "text": [
      "/home/ubuntu/data/miniconda3/envs/lysine-torch/lib/python3.9/site-packages/torch_geometric/warnings.py:11: UserWarning: The usage of `scatter(reduce='max')` can be accelerated via the 'torch-scatter' package, but it was not found\n",
      "  warnings.warn(message)\n"
     ]
    },
    {
     "name": "stdout",
     "output_type": "stream",
     "text": [
      "Epoch 35/50, Train Loss: 0.4891, Train Acc: 0.7696, Val Loss: 0.5463, Val Acc: 0.7209\n"
     ]
    },
    {
     "name": "stderr",
     "output_type": "stream",
     "text": [
      "/home/ubuntu/data/miniconda3/envs/lysine-torch/lib/python3.9/site-packages/torch_geometric/warnings.py:11: UserWarning: The usage of `scatter(reduce='max')` can be accelerated via the 'torch-scatter' package, but it was not found\n",
      "  warnings.warn(message)\n"
     ]
    },
    {
     "name": "stdout",
     "output_type": "stream",
     "text": [
      "Epoch 36/50, Train Loss: 0.4840, Train Acc: 0.7761, Val Loss: 0.5261, Val Acc: 0.7492\n",
      "  -> New best validation loss: 0.5261\n"
     ]
    },
    {
     "name": "stderr",
     "output_type": "stream",
     "text": [
      "/home/ubuntu/data/miniconda3/envs/lysine-torch/lib/python3.9/site-packages/torch_geometric/warnings.py:11: UserWarning: The usage of `scatter(reduce='max')` can be accelerated via the 'torch-scatter' package, but it was not found\n",
      "  warnings.warn(message)\n"
     ]
    },
    {
     "name": "stdout",
     "output_type": "stream",
     "text": [
      "Epoch 37/50, Train Loss: 0.4873, Train Acc: 0.7689, Val Loss: 0.5421, Val Acc: 0.7362\n"
     ]
    },
    {
     "name": "stderr",
     "output_type": "stream",
     "text": [
      "/home/ubuntu/data/miniconda3/envs/lysine-torch/lib/python3.9/site-packages/torch_geometric/warnings.py:11: UserWarning: The usage of `scatter(reduce='max')` can be accelerated via the 'torch-scatter' package, but it was not found\n",
      "  warnings.warn(message)\n"
     ]
    },
    {
     "name": "stdout",
     "output_type": "stream",
     "text": [
      "Epoch 38/50, Train Loss: 0.4847, Train Acc: 0.7709, Val Loss: 0.5399, Val Acc: 0.7441\n"
     ]
    },
    {
     "name": "stderr",
     "output_type": "stream",
     "text": [
      "/home/ubuntu/data/miniconda3/envs/lysine-torch/lib/python3.9/site-packages/torch_geometric/warnings.py:11: UserWarning: The usage of `scatter(reduce='max')` can be accelerated via the 'torch-scatter' package, but it was not found\n",
      "  warnings.warn(message)\n"
     ]
    },
    {
     "name": "stdout",
     "output_type": "stream",
     "text": [
      "Epoch 39/50, Train Loss: 0.4746, Train Acc: 0.7855, Val Loss: 0.5466, Val Acc: 0.7356\n"
     ]
    },
    {
     "name": "stderr",
     "output_type": "stream",
     "text": [
      "/home/ubuntu/data/miniconda3/envs/lysine-torch/lib/python3.9/site-packages/torch_geometric/warnings.py:11: UserWarning: The usage of `scatter(reduce='max')` can be accelerated via the 'torch-scatter' package, but it was not found\n",
      "  warnings.warn(message)\n"
     ]
    },
    {
     "name": "stdout",
     "output_type": "stream",
     "text": [
      "Epoch 40/50, Train Loss: 0.4798, Train Acc: 0.7747, Val Loss: 0.5444, Val Acc: 0.7316\n"
     ]
    },
    {
     "name": "stderr",
     "output_type": "stream",
     "text": [
      "/home/ubuntu/data/miniconda3/envs/lysine-torch/lib/python3.9/site-packages/torch_geometric/warnings.py:11: UserWarning: The usage of `scatter(reduce='max')` can be accelerated via the 'torch-scatter' package, but it was not found\n",
      "  warnings.warn(message)\n"
     ]
    },
    {
     "name": "stdout",
     "output_type": "stream",
     "text": [
      "Epoch 41/50, Train Loss: 0.4792, Train Acc: 0.7774, Val Loss: 0.5514, Val Acc: 0.7203\n"
     ]
    },
    {
     "name": "stderr",
     "output_type": "stream",
     "text": [
      "/home/ubuntu/data/miniconda3/envs/lysine-torch/lib/python3.9/site-packages/torch_geometric/warnings.py:11: UserWarning: The usage of `scatter(reduce='max')` can be accelerated via the 'torch-scatter' package, but it was not found\n",
      "  warnings.warn(message)\n"
     ]
    },
    {
     "name": "stdout",
     "output_type": "stream",
     "text": [
      "Epoch 42/50, Train Loss: 0.4759, Train Acc: 0.7790, Val Loss: 0.5560, Val Acc: 0.7282\n"
     ]
    },
    {
     "name": "stderr",
     "output_type": "stream",
     "text": [
      "/home/ubuntu/data/miniconda3/envs/lysine-torch/lib/python3.9/site-packages/torch_geometric/warnings.py:11: UserWarning: The usage of `scatter(reduce='max')` can be accelerated via the 'torch-scatter' package, but it was not found\n",
      "  warnings.warn(message)\n"
     ]
    },
    {
     "name": "stdout",
     "output_type": "stream",
     "text": [
      "Epoch 43/50, Train Loss: 0.4517, Train Acc: 0.7950, Val Loss: 0.5396, Val Acc: 0.7316\n"
     ]
    },
    {
     "name": "stderr",
     "output_type": "stream",
     "text": [
      "/home/ubuntu/data/miniconda3/envs/lysine-torch/lib/python3.9/site-packages/torch_geometric/warnings.py:11: UserWarning: The usage of `scatter(reduce='max')` can be accelerated via the 'torch-scatter' package, but it was not found\n",
      "  warnings.warn(message)\n"
     ]
    },
    {
     "name": "stdout",
     "output_type": "stream",
     "text": [
      "Epoch 44/50, Train Loss: 0.4368, Train Acc: 0.8008, Val Loss: 0.5395, Val Acc: 0.7345\n"
     ]
    },
    {
     "name": "stderr",
     "output_type": "stream",
     "text": [
      "/home/ubuntu/data/miniconda3/envs/lysine-torch/lib/python3.9/site-packages/torch_geometric/warnings.py:11: UserWarning: The usage of `scatter(reduce='max')` can be accelerated via the 'torch-scatter' package, but it was not found\n",
      "  warnings.warn(message)\n"
     ]
    },
    {
     "name": "stdout",
     "output_type": "stream",
     "text": [
      "Epoch 45/50, Train Loss: 0.4319, Train Acc: 0.8066, Val Loss: 0.5453, Val Acc: 0.7243\n"
     ]
    },
    {
     "name": "stderr",
     "output_type": "stream",
     "text": [
      "/home/ubuntu/data/miniconda3/envs/lysine-torch/lib/python3.9/site-packages/torch_geometric/warnings.py:11: UserWarning: The usage of `scatter(reduce='max')` can be accelerated via the 'torch-scatter' package, but it was not found\n",
      "  warnings.warn(message)\n"
     ]
    },
    {
     "name": "stdout",
     "output_type": "stream",
     "text": [
      "Epoch 46/50, Train Loss: 0.4207, Train Acc: 0.8125, Val Loss: 0.5523, Val Acc: 0.7271\n",
      "Early stopping triggered\n",
      "\n",
      "Validation metrics:\n",
      "Accuracy: 0.7271\n",
      "Balanced Accuracy: 0.7257\n",
      "MCC: 0.4530\n",
      "Sensitivity: 0.7625\n",
      "Specificity: 0.6890\n",
      "Confusion Matrix:\n",
      "[[587 265]\n",
      " [218 700]]\n"
     ]
    },
    {
     "name": "stderr",
     "output_type": "stream",
     "text": [
      "/home/ubuntu/data/miniconda3/envs/lysine-torch/lib/python3.9/site-packages/torch_geometric/deprecation.py:26: UserWarning: 'data.DataLoader' is deprecated, use 'loader.DataLoader' instead\n",
      "  warnings.warn(out)\n"
     ]
    },
    {
     "name": "stdout",
     "output_type": "stream",
     "text": [
      "\n",
      "--- Fold 5/5 ---\n"
     ]
    },
    {
     "name": "stderr",
     "output_type": "stream",
     "text": [
      "/home/ubuntu/data/miniconda3/envs/lysine-torch/lib/python3.9/site-packages/torch_geometric/deprecation.py:26: UserWarning: 'data.DataLoader' is deprecated, use 'loader.DataLoader' instead\n",
      "  warnings.warn(out)\n",
      "/home/ubuntu/data/miniconda3/envs/lysine-torch/lib/python3.9/site-packages/torch/optim/lr_scheduler.py:62: UserWarning: The verbose parameter is deprecated. Please use get_last_lr() to access the learning rate.\n",
      "  warnings.warn(\n",
      "/home/ubuntu/data/miniconda3/envs/lysine-torch/lib/python3.9/site-packages/torch_geometric/warnings.py:11: UserWarning: The usage of `scatter(reduce='max')` can be accelerated via the 'torch-scatter' package, but it was not found\n",
      "  warnings.warn(message)\n"
     ]
    },
    {
     "name": "stdout",
     "output_type": "stream",
     "text": [
      "Epoch 1/50, Train Loss: 0.6752, Train Acc: 0.5865, Val Loss: 0.6658, Val Acc: 0.5774\n",
      "  -> New best validation loss: 0.6658\n"
     ]
    },
    {
     "name": "stderr",
     "output_type": "stream",
     "text": [
      "/home/ubuntu/data/miniconda3/envs/lysine-torch/lib/python3.9/site-packages/torch_geometric/warnings.py:11: UserWarning: The usage of `scatter(reduce='max')` can be accelerated via the 'torch-scatter' package, but it was not found\n",
      "  warnings.warn(message)\n"
     ]
    },
    {
     "name": "stdout",
     "output_type": "stream",
     "text": [
      "Epoch 2/50, Train Loss: 0.6433, Train Acc: 0.6342, Val Loss: 0.6445, Val Acc: 0.6226\n",
      "  -> New best validation loss: 0.6445\n"
     ]
    },
    {
     "name": "stderr",
     "output_type": "stream",
     "text": [
      "/home/ubuntu/data/miniconda3/envs/lysine-torch/lib/python3.9/site-packages/torch_geometric/warnings.py:11: UserWarning: The usage of `scatter(reduce='max')` can be accelerated via the 'torch-scatter' package, but it was not found\n",
      "  warnings.warn(message)\n"
     ]
    },
    {
     "name": "stdout",
     "output_type": "stream",
     "text": [
      "Epoch 3/50, Train Loss: 0.6230, Train Acc: 0.6606, Val Loss: 0.6293, Val Acc: 0.6542\n",
      "  -> New best validation loss: 0.6293\n"
     ]
    },
    {
     "name": "stderr",
     "output_type": "stream",
     "text": [
      "/home/ubuntu/data/miniconda3/envs/lysine-torch/lib/python3.9/site-packages/torch_geometric/warnings.py:11: UserWarning: The usage of `scatter(reduce='max')` can be accelerated via the 'torch-scatter' package, but it was not found\n",
      "  warnings.warn(message)\n"
     ]
    },
    {
     "name": "stdout",
     "output_type": "stream",
     "text": [
      "Epoch 4/50, Train Loss: 0.6045, Train Acc: 0.6780, Val Loss: 0.7300, Val Acc: 0.5463\n"
     ]
    },
    {
     "name": "stderr",
     "output_type": "stream",
     "text": [
      "/home/ubuntu/data/miniconda3/envs/lysine-torch/lib/python3.9/site-packages/torch_geometric/warnings.py:11: UserWarning: The usage of `scatter(reduce='max')` can be accelerated via the 'torch-scatter' package, but it was not found\n",
      "  warnings.warn(message)\n"
     ]
    },
    {
     "name": "stdout",
     "output_type": "stream",
     "text": [
      "Epoch 5/50, Train Loss: 0.6031, Train Acc: 0.6801, Val Loss: 0.6238, Val Acc: 0.6746\n",
      "  -> New best validation loss: 0.6238\n"
     ]
    },
    {
     "name": "stderr",
     "output_type": "stream",
     "text": [
      "/home/ubuntu/data/miniconda3/envs/lysine-torch/lib/python3.9/site-packages/torch_geometric/warnings.py:11: UserWarning: The usage of `scatter(reduce='max')` can be accelerated via the 'torch-scatter' package, but it was not found\n",
      "  warnings.warn(message)\n"
     ]
    },
    {
     "name": "stdout",
     "output_type": "stream",
     "text": [
      "Epoch 6/50, Train Loss: 0.5920, Train Acc: 0.6888, Val Loss: 0.6211, Val Acc: 0.6695\n",
      "  -> New best validation loss: 0.6211\n"
     ]
    },
    {
     "name": "stderr",
     "output_type": "stream",
     "text": [
      "/home/ubuntu/data/miniconda3/envs/lysine-torch/lib/python3.9/site-packages/torch_geometric/warnings.py:11: UserWarning: The usage of `scatter(reduce='max')` can be accelerated via the 'torch-scatter' package, but it was not found\n",
      "  warnings.warn(message)\n"
     ]
    },
    {
     "name": "stdout",
     "output_type": "stream",
     "text": [
      "Epoch 7/50, Train Loss: 0.5851, Train Acc: 0.6919, Val Loss: 0.6004, Val Acc: 0.6836\n",
      "  -> New best validation loss: 0.6004\n"
     ]
    },
    {
     "name": "stderr",
     "output_type": "stream",
     "text": [
      "/home/ubuntu/data/miniconda3/envs/lysine-torch/lib/python3.9/site-packages/torch_geometric/warnings.py:11: UserWarning: The usage of `scatter(reduce='max')` can be accelerated via the 'torch-scatter' package, but it was not found\n",
      "  warnings.warn(message)\n"
     ]
    },
    {
     "name": "stdout",
     "output_type": "stream",
     "text": [
      "Epoch 8/50, Train Loss: 0.5861, Train Acc: 0.6891, Val Loss: 0.5961, Val Acc: 0.6819\n",
      "  -> New best validation loss: 0.5961\n"
     ]
    },
    {
     "name": "stderr",
     "output_type": "stream",
     "text": [
      "/home/ubuntu/data/miniconda3/envs/lysine-torch/lib/python3.9/site-packages/torch_geometric/warnings.py:11: UserWarning: The usage of `scatter(reduce='max')` can be accelerated via the 'torch-scatter' package, but it was not found\n",
      "  warnings.warn(message)\n"
     ]
    },
    {
     "name": "stdout",
     "output_type": "stream",
     "text": [
      "Epoch 9/50, Train Loss: 0.5787, Train Acc: 0.7034, Val Loss: 0.5884, Val Acc: 0.6994\n",
      "  -> New best validation loss: 0.5884\n"
     ]
    },
    {
     "name": "stderr",
     "output_type": "stream",
     "text": [
      "/home/ubuntu/data/miniconda3/envs/lysine-torch/lib/python3.9/site-packages/torch_geometric/warnings.py:11: UserWarning: The usage of `scatter(reduce='max')` can be accelerated via the 'torch-scatter' package, but it was not found\n",
      "  warnings.warn(message)\n"
     ]
    },
    {
     "name": "stdout",
     "output_type": "stream",
     "text": [
      "Epoch 10/50, Train Loss: 0.5782, Train Acc: 0.7055, Val Loss: 0.6012, Val Acc: 0.6780\n"
     ]
    },
    {
     "name": "stderr",
     "output_type": "stream",
     "text": [
      "/home/ubuntu/data/miniconda3/envs/lysine-torch/lib/python3.9/site-packages/torch_geometric/warnings.py:11: UserWarning: The usage of `scatter(reduce='max')` can be accelerated via the 'torch-scatter' package, but it was not found\n",
      "  warnings.warn(message)\n"
     ]
    },
    {
     "name": "stdout",
     "output_type": "stream",
     "text": [
      "Epoch 11/50, Train Loss: 0.5726, Train Acc: 0.7085, Val Loss: 0.5952, Val Acc: 0.6960\n"
     ]
    },
    {
     "name": "stderr",
     "output_type": "stream",
     "text": [
      "/home/ubuntu/data/miniconda3/envs/lysine-torch/lib/python3.9/site-packages/torch_geometric/warnings.py:11: UserWarning: The usage of `scatter(reduce='max')` can be accelerated via the 'torch-scatter' package, but it was not found\n",
      "  warnings.warn(message)\n"
     ]
    },
    {
     "name": "stdout",
     "output_type": "stream",
     "text": [
      "Epoch 12/50, Train Loss: 0.5709, Train Acc: 0.7127, Val Loss: 0.6039, Val Acc: 0.6944\n"
     ]
    },
    {
     "name": "stderr",
     "output_type": "stream",
     "text": [
      "/home/ubuntu/data/miniconda3/envs/lysine-torch/lib/python3.9/site-packages/torch_geometric/warnings.py:11: UserWarning: The usage of `scatter(reduce='max')` can be accelerated via the 'torch-scatter' package, but it was not found\n",
      "  warnings.warn(message)\n"
     ]
    },
    {
     "name": "stdout",
     "output_type": "stream",
     "text": [
      "Epoch 13/50, Train Loss: 0.5682, Train Acc: 0.7069, Val Loss: 0.6126, Val Acc: 0.6520\n"
     ]
    },
    {
     "name": "stderr",
     "output_type": "stream",
     "text": [
      "/home/ubuntu/data/miniconda3/envs/lysine-torch/lib/python3.9/site-packages/torch_geometric/warnings.py:11: UserWarning: The usage of `scatter(reduce='max')` can be accelerated via the 'torch-scatter' package, but it was not found\n",
      "  warnings.warn(message)\n"
     ]
    },
    {
     "name": "stdout",
     "output_type": "stream",
     "text": [
      "Epoch 14/50, Train Loss: 0.5647, Train Acc: 0.7181, Val Loss: 0.6330, Val Acc: 0.6090\n"
     ]
    },
    {
     "name": "stderr",
     "output_type": "stream",
     "text": [
      "/home/ubuntu/data/miniconda3/envs/lysine-torch/lib/python3.9/site-packages/torch_geometric/warnings.py:11: UserWarning: The usage of `scatter(reduce='max')` can be accelerated via the 'torch-scatter' package, but it was not found\n",
      "  warnings.warn(message)\n"
     ]
    },
    {
     "name": "stdout",
     "output_type": "stream",
     "text": [
      "Epoch 15/50, Train Loss: 0.5607, Train Acc: 0.7189, Val Loss: 0.5819, Val Acc: 0.6927\n",
      "  -> New best validation loss: 0.5819\n"
     ]
    },
    {
     "name": "stderr",
     "output_type": "stream",
     "text": [
      "/home/ubuntu/data/miniconda3/envs/lysine-torch/lib/python3.9/site-packages/torch_geometric/warnings.py:11: UserWarning: The usage of `scatter(reduce='max')` can be accelerated via the 'torch-scatter' package, but it was not found\n",
      "  warnings.warn(message)\n"
     ]
    },
    {
     "name": "stdout",
     "output_type": "stream",
     "text": [
      "Epoch 16/50, Train Loss: 0.5574, Train Acc: 0.7190, Val Loss: 0.5714, Val Acc: 0.7186\n",
      "  -> New best validation loss: 0.5714\n"
     ]
    },
    {
     "name": "stderr",
     "output_type": "stream",
     "text": [
      "/home/ubuntu/data/miniconda3/envs/lysine-torch/lib/python3.9/site-packages/torch_geometric/warnings.py:11: UserWarning: The usage of `scatter(reduce='max')` can be accelerated via the 'torch-scatter' package, but it was not found\n",
      "  warnings.warn(message)\n"
     ]
    },
    {
     "name": "stdout",
     "output_type": "stream",
     "text": [
      "Epoch 17/50, Train Loss: 0.5537, Train Acc: 0.7306, Val Loss: 0.5790, Val Acc: 0.6955\n"
     ]
    },
    {
     "name": "stderr",
     "output_type": "stream",
     "text": [
      "/home/ubuntu/data/miniconda3/envs/lysine-torch/lib/python3.9/site-packages/torch_geometric/warnings.py:11: UserWarning: The usage of `scatter(reduce='max')` can be accelerated via the 'torch-scatter' package, but it was not found\n",
      "  warnings.warn(message)\n"
     ]
    },
    {
     "name": "stdout",
     "output_type": "stream",
     "text": [
      "Epoch 18/50, Train Loss: 0.5466, Train Acc: 0.7332, Val Loss: 0.5769, Val Acc: 0.6977\n"
     ]
    },
    {
     "name": "stderr",
     "output_type": "stream",
     "text": [
      "/home/ubuntu/data/miniconda3/envs/lysine-torch/lib/python3.9/site-packages/torch_geometric/warnings.py:11: UserWarning: The usage of `scatter(reduce='max')` can be accelerated via the 'torch-scatter' package, but it was not found\n",
      "  warnings.warn(message)\n"
     ]
    },
    {
     "name": "stdout",
     "output_type": "stream",
     "text": [
      "Epoch 19/50, Train Loss: 0.5430, Train Acc: 0.7395, Val Loss: 0.5616, Val Acc: 0.7226\n",
      "  -> New best validation loss: 0.5616\n"
     ]
    },
    {
     "name": "stderr",
     "output_type": "stream",
     "text": [
      "/home/ubuntu/data/miniconda3/envs/lysine-torch/lib/python3.9/site-packages/torch_geometric/warnings.py:11: UserWarning: The usage of `scatter(reduce='max')` can be accelerated via the 'torch-scatter' package, but it was not found\n",
      "  warnings.warn(message)\n"
     ]
    },
    {
     "name": "stdout",
     "output_type": "stream",
     "text": [
      "Epoch 20/50, Train Loss: 0.5380, Train Acc: 0.7332, Val Loss: 0.5677, Val Acc: 0.7073\n"
     ]
    },
    {
     "name": "stderr",
     "output_type": "stream",
     "text": [
      "/home/ubuntu/data/miniconda3/envs/lysine-torch/lib/python3.9/site-packages/torch_geometric/warnings.py:11: UserWarning: The usage of `scatter(reduce='max')` can be accelerated via the 'torch-scatter' package, but it was not found\n",
      "  warnings.warn(message)\n"
     ]
    },
    {
     "name": "stdout",
     "output_type": "stream",
     "text": [
      "Epoch 21/50, Train Loss: 0.5380, Train Acc: 0.7418, Val Loss: 0.5719, Val Acc: 0.7102\n"
     ]
    },
    {
     "name": "stderr",
     "output_type": "stream",
     "text": [
      "/home/ubuntu/data/miniconda3/envs/lysine-torch/lib/python3.9/site-packages/torch_geometric/warnings.py:11: UserWarning: The usage of `scatter(reduce='max')` can be accelerated via the 'torch-scatter' package, but it was not found\n",
      "  warnings.warn(message)\n"
     ]
    },
    {
     "name": "stdout",
     "output_type": "stream",
     "text": [
      "Epoch 22/50, Train Loss: 0.5328, Train Acc: 0.7409, Val Loss: 0.5715, Val Acc: 0.7023\n"
     ]
    },
    {
     "name": "stderr",
     "output_type": "stream",
     "text": [
      "/home/ubuntu/data/miniconda3/envs/lysine-torch/lib/python3.9/site-packages/torch_geometric/warnings.py:11: UserWarning: The usage of `scatter(reduce='max')` can be accelerated via the 'torch-scatter' package, but it was not found\n",
      "  warnings.warn(message)\n"
     ]
    },
    {
     "name": "stdout",
     "output_type": "stream",
     "text": [
      "Epoch 23/50, Train Loss: 0.5306, Train Acc: 0.7466, Val Loss: 0.5544, Val Acc: 0.7254\n",
      "  -> New best validation loss: 0.5544\n"
     ]
    },
    {
     "name": "stderr",
     "output_type": "stream",
     "text": [
      "/home/ubuntu/data/miniconda3/envs/lysine-torch/lib/python3.9/site-packages/torch_geometric/warnings.py:11: UserWarning: The usage of `scatter(reduce='max')` can be accelerated via the 'torch-scatter' package, but it was not found\n",
      "  warnings.warn(message)\n"
     ]
    },
    {
     "name": "stdout",
     "output_type": "stream",
     "text": [
      "Epoch 24/50, Train Loss: 0.5204, Train Acc: 0.7450, Val Loss: 0.5572, Val Acc: 0.7158\n"
     ]
    },
    {
     "name": "stderr",
     "output_type": "stream",
     "text": [
      "/home/ubuntu/data/miniconda3/envs/lysine-torch/lib/python3.9/site-packages/torch_geometric/warnings.py:11: UserWarning: The usage of `scatter(reduce='max')` can be accelerated via the 'torch-scatter' package, but it was not found\n",
      "  warnings.warn(message)\n"
     ]
    },
    {
     "name": "stdout",
     "output_type": "stream",
     "text": [
      "Epoch 25/50, Train Loss: 0.5185, Train Acc: 0.7497, Val Loss: 0.5624, Val Acc: 0.7153\n"
     ]
    },
    {
     "name": "stderr",
     "output_type": "stream",
     "text": [
      "/home/ubuntu/data/miniconda3/envs/lysine-torch/lib/python3.9/site-packages/torch_geometric/warnings.py:11: UserWarning: The usage of `scatter(reduce='max')` can be accelerated via the 'torch-scatter' package, but it was not found\n",
      "  warnings.warn(message)\n"
     ]
    },
    {
     "name": "stdout",
     "output_type": "stream",
     "text": [
      "Epoch 26/50, Train Loss: 0.5158, Train Acc: 0.7507, Val Loss: 0.5506, Val Acc: 0.7266\n",
      "  -> New best validation loss: 0.5506\n"
     ]
    },
    {
     "name": "stderr",
     "output_type": "stream",
     "text": [
      "/home/ubuntu/data/miniconda3/envs/lysine-torch/lib/python3.9/site-packages/torch_geometric/warnings.py:11: UserWarning: The usage of `scatter(reduce='max')` can be accelerated via the 'torch-scatter' package, but it was not found\n",
      "  warnings.warn(message)\n"
     ]
    },
    {
     "name": "stdout",
     "output_type": "stream",
     "text": [
      "Epoch 27/50, Train Loss: 0.5146, Train Acc: 0.7525, Val Loss: 0.5456, Val Acc: 0.7373\n",
      "  -> New best validation loss: 0.5456\n"
     ]
    },
    {
     "name": "stderr",
     "output_type": "stream",
     "text": [
      "/home/ubuntu/data/miniconda3/envs/lysine-torch/lib/python3.9/site-packages/torch_geometric/warnings.py:11: UserWarning: The usage of `scatter(reduce='max')` can be accelerated via the 'torch-scatter' package, but it was not found\n",
      "  warnings.warn(message)\n"
     ]
    },
    {
     "name": "stdout",
     "output_type": "stream",
     "text": [
      "Epoch 28/50, Train Loss: 0.5090, Train Acc: 0.7617, Val Loss: 0.5650, Val Acc: 0.7141\n"
     ]
    },
    {
     "name": "stderr",
     "output_type": "stream",
     "text": [
      "/home/ubuntu/data/miniconda3/envs/lysine-torch/lib/python3.9/site-packages/torch_geometric/warnings.py:11: UserWarning: The usage of `scatter(reduce='max')` can be accelerated via the 'torch-scatter' package, but it was not found\n",
      "  warnings.warn(message)\n"
     ]
    },
    {
     "name": "stdout",
     "output_type": "stream",
     "text": [
      "Epoch 29/50, Train Loss: 0.5123, Train Acc: 0.7601, Val Loss: 0.5409, Val Acc: 0.7311\n",
      "  -> New best validation loss: 0.5409\n"
     ]
    },
    {
     "name": "stderr",
     "output_type": "stream",
     "text": [
      "/home/ubuntu/data/miniconda3/envs/lysine-torch/lib/python3.9/site-packages/torch_geometric/warnings.py:11: UserWarning: The usage of `scatter(reduce='max')` can be accelerated via the 'torch-scatter' package, but it was not found\n",
      "  warnings.warn(message)\n"
     ]
    },
    {
     "name": "stdout",
     "output_type": "stream",
     "text": [
      "Epoch 30/50, Train Loss: 0.5064, Train Acc: 0.7642, Val Loss: 0.5536, Val Acc: 0.7186\n"
     ]
    },
    {
     "name": "stderr",
     "output_type": "stream",
     "text": [
      "/home/ubuntu/data/miniconda3/envs/lysine-torch/lib/python3.9/site-packages/torch_geometric/warnings.py:11: UserWarning: The usage of `scatter(reduce='max')` can be accelerated via the 'torch-scatter' package, but it was not found\n",
      "  warnings.warn(message)\n"
     ]
    },
    {
     "name": "stdout",
     "output_type": "stream",
     "text": [
      "Epoch 31/50, Train Loss: 0.5061, Train Acc: 0.7652, Val Loss: 0.5448, Val Acc: 0.7345\n"
     ]
    },
    {
     "name": "stderr",
     "output_type": "stream",
     "text": [
      "/home/ubuntu/data/miniconda3/envs/lysine-torch/lib/python3.9/site-packages/torch_geometric/warnings.py:11: UserWarning: The usage of `scatter(reduce='max')` can be accelerated via the 'torch-scatter' package, but it was not found\n",
      "  warnings.warn(message)\n"
     ]
    },
    {
     "name": "stdout",
     "output_type": "stream",
     "text": [
      "Epoch 32/50, Train Loss: 0.4923, Train Acc: 0.7737, Val Loss: 0.5546, Val Acc: 0.7130\n"
     ]
    },
    {
     "name": "stderr",
     "output_type": "stream",
     "text": [
      "/home/ubuntu/data/miniconda3/envs/lysine-torch/lib/python3.9/site-packages/torch_geometric/warnings.py:11: UserWarning: The usage of `scatter(reduce='max')` can be accelerated via the 'torch-scatter' package, but it was not found\n",
      "  warnings.warn(message)\n"
     ]
    },
    {
     "name": "stdout",
     "output_type": "stream",
     "text": [
      "Epoch 33/50, Train Loss: 0.5022, Train Acc: 0.7596, Val Loss: 0.5402, Val Acc: 0.7339\n",
      "  -> New best validation loss: 0.5402\n"
     ]
    },
    {
     "name": "stderr",
     "output_type": "stream",
     "text": [
      "/home/ubuntu/data/miniconda3/envs/lysine-torch/lib/python3.9/site-packages/torch_geometric/warnings.py:11: UserWarning: The usage of `scatter(reduce='max')` can be accelerated via the 'torch-scatter' package, but it was not found\n",
      "  warnings.warn(message)\n"
     ]
    },
    {
     "name": "stdout",
     "output_type": "stream",
     "text": [
      "Epoch 34/50, Train Loss: 0.4873, Train Acc: 0.7735, Val Loss: 0.5504, Val Acc: 0.7254\n"
     ]
    },
    {
     "name": "stderr",
     "output_type": "stream",
     "text": [
      "/home/ubuntu/data/miniconda3/envs/lysine-torch/lib/python3.9/site-packages/torch_geometric/warnings.py:11: UserWarning: The usage of `scatter(reduce='max')` can be accelerated via the 'torch-scatter' package, but it was not found\n",
      "  warnings.warn(message)\n"
     ]
    },
    {
     "name": "stdout",
     "output_type": "stream",
     "text": [
      "Epoch 35/50, Train Loss: 0.4954, Train Acc: 0.7644, Val Loss: 0.5545, Val Acc: 0.7254\n"
     ]
    },
    {
     "name": "stderr",
     "output_type": "stream",
     "text": [
      "/home/ubuntu/data/miniconda3/envs/lysine-torch/lib/python3.9/site-packages/torch_geometric/warnings.py:11: UserWarning: The usage of `scatter(reduce='max')` can be accelerated via the 'torch-scatter' package, but it was not found\n",
      "  warnings.warn(message)\n"
     ]
    },
    {
     "name": "stdout",
     "output_type": "stream",
     "text": [
      "Epoch 36/50, Train Loss: 0.4912, Train Acc: 0.7720, Val Loss: 0.5418, Val Acc: 0.7367\n"
     ]
    },
    {
     "name": "stderr",
     "output_type": "stream",
     "text": [
      "/home/ubuntu/data/miniconda3/envs/lysine-torch/lib/python3.9/site-packages/torch_geometric/warnings.py:11: UserWarning: The usage of `scatter(reduce='max')` can be accelerated via the 'torch-scatter' package, but it was not found\n",
      "  warnings.warn(message)\n"
     ]
    },
    {
     "name": "stdout",
     "output_type": "stream",
     "text": [
      "Epoch 37/50, Train Loss: 0.4887, Train Acc: 0.7693, Val Loss: 0.5624, Val Acc: 0.7119\n"
     ]
    },
    {
     "name": "stderr",
     "output_type": "stream",
     "text": [
      "/home/ubuntu/data/miniconda3/envs/lysine-torch/lib/python3.9/site-packages/torch_geometric/warnings.py:11: UserWarning: The usage of `scatter(reduce='max')` can be accelerated via the 'torch-scatter' package, but it was not found\n",
      "  warnings.warn(message)\n"
     ]
    },
    {
     "name": "stdout",
     "output_type": "stream",
     "text": [
      "Epoch 38/50, Train Loss: 0.4879, Train Acc: 0.7687, Val Loss: 0.5499, Val Acc: 0.7294\n"
     ]
    },
    {
     "name": "stderr",
     "output_type": "stream",
     "text": [
      "/home/ubuntu/data/miniconda3/envs/lysine-torch/lib/python3.9/site-packages/torch_geometric/warnings.py:11: UserWarning: The usage of `scatter(reduce='max')` can be accelerated via the 'torch-scatter' package, but it was not found\n",
      "  warnings.warn(message)\n"
     ]
    },
    {
     "name": "stdout",
     "output_type": "stream",
     "text": [
      "Epoch 39/50, Train Loss: 0.4816, Train Acc: 0.7765, Val Loss: 0.5595, Val Acc: 0.7102\n"
     ]
    },
    {
     "name": "stderr",
     "output_type": "stream",
     "text": [
      "/home/ubuntu/data/miniconda3/envs/lysine-torch/lib/python3.9/site-packages/torch_geometric/warnings.py:11: UserWarning: The usage of `scatter(reduce='max')` can be accelerated via the 'torch-scatter' package, but it was not found\n",
      "  warnings.warn(message)\n"
     ]
    },
    {
     "name": "stdout",
     "output_type": "stream",
     "text": [
      "Epoch 40/50, Train Loss: 0.4606, Train Acc: 0.7885, Val Loss: 0.5408, Val Acc: 0.7328\n"
     ]
    },
    {
     "name": "stderr",
     "output_type": "stream",
     "text": [
      "/home/ubuntu/data/miniconda3/envs/lysine-torch/lib/python3.9/site-packages/torch_geometric/warnings.py:11: UserWarning: The usage of `scatter(reduce='max')` can be accelerated via the 'torch-scatter' package, but it was not found\n",
      "  warnings.warn(message)\n"
     ]
    },
    {
     "name": "stdout",
     "output_type": "stream",
     "text": [
      "Epoch 41/50, Train Loss: 0.4463, Train Acc: 0.7990, Val Loss: 0.5487, Val Acc: 0.7254\n"
     ]
    },
    {
     "name": "stderr",
     "output_type": "stream",
     "text": [
      "/home/ubuntu/data/miniconda3/envs/lysine-torch/lib/python3.9/site-packages/torch_geometric/warnings.py:11: UserWarning: The usage of `scatter(reduce='max')` can be accelerated via the 'torch-scatter' package, but it was not found\n",
      "  warnings.warn(message)\n"
     ]
    },
    {
     "name": "stdout",
     "output_type": "stream",
     "text": [
      "Epoch 42/50, Train Loss: 0.4425, Train Acc: 0.8054, Val Loss: 0.5464, Val Acc: 0.7339\n"
     ]
    },
    {
     "name": "stderr",
     "output_type": "stream",
     "text": [
      "/home/ubuntu/data/miniconda3/envs/lysine-torch/lib/python3.9/site-packages/torch_geometric/warnings.py:11: UserWarning: The usage of `scatter(reduce='max')` can be accelerated via the 'torch-scatter' package, but it was not found\n",
      "  warnings.warn(message)\n"
     ]
    },
    {
     "name": "stdout",
     "output_type": "stream",
     "text": [
      "Epoch 43/50, Train Loss: 0.4264, Train Acc: 0.8067, Val Loss: 0.5617, Val Acc: 0.7141\n",
      "Early stopping triggered\n",
      "\n",
      "Validation metrics:\n",
      "Accuracy: 0.7141\n",
      "Balanced Accuracy: 0.7153\n",
      "MCC: 0.4307\n",
      "Sensitivity: 0.6841\n",
      "Specificity: 0.7465\n",
      "Confusion Matrix:\n",
      "[[636 216]\n",
      " [290 628]]\n"
     ]
    },
    {
     "name": "stderr",
     "output_type": "stream",
     "text": [
      "/home/ubuntu/data/miniconda3/envs/lysine-torch/lib/python3.9/site-packages/torch_geometric/deprecation.py:26: UserWarning: 'data.DataLoader' is deprecated, use 'loader.DataLoader' instead\n",
      "  warnings.warn(out)\n"
     ]
    },
    {
     "name": "stdout",
     "output_type": "stream",
     "text": [
      "\n",
      "--- Cross-validation summary ---\n",
      "accuracy: 0.7253 ± 0.0159\n",
      "balanced_acc: 0.7254 ± 0.0147\n",
      "mcc: 0.4520 ± 0.0289\n",
      "sensitivity: 0.7221 ± 0.0535\n",
      "specificity: 0.7287 ± 0.0313\n",
      "\n",
      "--- Test set evaluation (ensemble) ---\n",
      "Accuracy: 0.7391\n",
      "Balanced Accuracy: 0.7648\n",
      "MCC: 0.3230\n",
      "Sensitivity: 0.7958\n",
      "Specificity: 0.7337\n",
      "Confusion Matrix:\n",
      "[[1832  665]\n",
      " [  49  191]]\n"
     ]
    }
   ],
   "source": [
    "import torch\n",
    "import torch.nn as nn\n",
    "import torch.nn.functional as F\n",
    "from torch_geometric.nn import GCNConv, MessagePassing, NNConv, EdgeConv\n",
    "from torch_geometric.nn import global_mean_pool, global_max_pool\n",
    "from torch_geometric.data import Data, DataLoader\n",
    "import numpy as np\n",
    "import pandas as pd\n",
    "from sklearn.preprocessing import RobustScaler # Keep import if you decide to use pre-scaling later\n",
    "import traceback # For better error reporting\n",
    "from sklearn.metrics import confusion_matrix, matthews_corrcoef, accuracy_score, balanced_accuracy_score\n",
    "from sklearn.model_selection import StratifiedKFold\n",
    "from sklearn.preprocessing import RobustScaler\n",
    "import matplotlib.pyplot as plt\n",
    "import random\n",
    "import os\n",
    "\n",
    "# Set random seeds for reproducibility\n",
    "SEED = 42\n",
    "random.seed(SEED)\n",
    "np.random.seed(SEED)\n",
    "torch.manual_seed(SEED)\n",
    "if torch.cuda.is_available():\n",
    "    torch.cuda.manual_seed_all(SEED)\n",
    "\n",
    "# Device configuration\n",
    "device = torch.device('cuda' if torch.cuda.is_available() else 'cpu')\n",
    "print(f\"Using device: {device}\")\n",
    "\n",
    "# --- Amino Acid Encodings ---\n",
    "# For sequence CNN track\n",
    "AMINO_ACIDS = 'ARNDCQEGHILKMFPSTWYV-'  # Include padding char '-'\n",
    "AA_TO_INT = {aa: i for i, aa in enumerate(AMINO_ACIDS)}\n",
    "VALID_AA = 'ARNDCQEGHILKMFPSTWYV'\n",
    "\n",
    "# --- Simple GNN Layer similar to TF version ---\n",
    "class SimpleGNNLayer(MessagePassing):\n",
    "    def __init__(self, in_channels, out_channels):\n",
    "        super(SimpleGNNLayer, self).__init__(aggr='add')  # \"Add\" aggregation (sum)\n",
    "        self.node_update = nn.Linear(in_channels + out_channels, out_channels)\n",
    "        self.edge_transform = nn.Linear(in_channels, out_channels)\n",
    "        self.message = nn.Linear(in_channels + in_channels, out_channels)\n",
    "        \n",
    "    def forward(self, x, edge_index, edge_attr=None):\n",
    "        # x: Node features [num_nodes, in_channels]\n",
    "        # edge_index: Graph connectivity [2, num_edges]\n",
    "        # edge_attr: Edge features [num_edges, in_channels]\n",
    "        \n",
    "        # No edge attributes: use zero vectors\n",
    "        if edge_attr is None:\n",
    "            edge_attr = torch.zeros(edge_index.size(1), x.size(1), device=x.device)\n",
    "        \n",
    "        # Transform edge features\n",
    "        edge_attr_transformed = self.edge_transform(edge_attr)\n",
    "        \n",
    "        # Propagate messages\n",
    "        out = self.propagate(edge_index, x=x, edge_attr=edge_attr_transformed)\n",
    "        \n",
    "        # Update node features\n",
    "        out = self.node_update(torch.cat([x, out], dim=1))\n",
    "        \n",
    "        return F.relu(out)\n",
    "    \n",
    "    def message(self, x_i, x_j, edge_attr):\n",
    "        # x_i: Target node features [num_edges, in_channels]\n",
    "        # x_j: Source node features [num_edges, in_channels]\n",
    "        # edge_attr: Edge features [num_edges, in_channels]\n",
    "        \n",
    "        # Combine source node features with edge features\n",
    "        combined = torch.cat([x_j, edge_attr], dim=1)\n",
    "        \n",
    "        # Generate messages\n",
    "        return self.message(combined)\n",
    "\n",
    "class GCNNetwork(nn.Module):\n",
    "    def __init__(self, input_dim, hidden_dim=128, dropout=0.4, layers=3):\n",
    "        super(GCNNetwork, self).__init__()\n",
    "        \n",
    "        self.convs = nn.ModuleList()\n",
    "        self.batch_norms = nn.ModuleList()\n",
    "        \n",
    "        # First layer\n",
    "        self.convs.append(GCNConv(input_dim, hidden_dim))\n",
    "        self.batch_norms.append(nn.BatchNorm1d(hidden_dim))\n",
    "        \n",
    "        # Middle layers\n",
    "        for i in range(1, layers):\n",
    "            self.convs.append(GCNConv(hidden_dim, hidden_dim))\n",
    "            self.batch_norms.append(nn.BatchNorm1d(hidden_dim))\n",
    "        \n",
    "        self.dropout = nn.Dropout(dropout)\n",
    "        self.output_dim = hidden_dim\n",
    "        \n",
    "    def forward(self, x, edge_index): # Remove central_node_idx, batch, ptr\n",
    "        # x: Node features [num_nodes, input_dim]\n",
    "        # edge_index: Graph connectivity [2, num_edges]\n",
    "\n",
    "        # First layer\n",
    "        x = self.convs[0](x, edge_index)\n",
    "        if x.shape[0] > 0: # Handle potentially empty graphs after processing\n",
    "            x = self.batch_norms[0](x)\n",
    "        x = F.relu(x)\n",
    "        x = self.dropout(x)\n",
    "\n",
    "        # Middle layers with residual connections\n",
    "        for i in range(1, len(self.convs)):\n",
    "            x_res = x  # Save for residual connection\n",
    "            x = self.convs[i](x, edge_index)\n",
    "            if x.shape[0] > 0:\n",
    "                x = self.batch_norms[i](x)\n",
    "            x = F.relu(x)\n",
    "            if x_res.shape == x.shape: # Check shape match for residual connection\n",
    "                x = x + x_res  # Residual connection\n",
    "            x = self.dropout(x)\n",
    "\n",
    "        # ---- REMOVE THE CENTRAL NODE EXTRACTION FROM HERE ----\n",
    "        # graph_starts = ptr[:-1]\n",
    "        # absolute_central_node_indices = graph_starts + central_node_idx\n",
    "        # if absolute_central_node_indices.max() >= x.shape[0]:\n",
    "        #     raise IndexError(\"GCN absolute central node index out of bounds\")\n",
    "        # central_node_features = x[absolute_central_node_indices]\n",
    "\n",
    "        # Return ALL final node features\n",
    "        return x  # Shape: [num_nodes, output_dim]\n",
    "\n",
    "# --- Sequence CNN Module ---\n",
    "class SequenceCNN(nn.Module):\n",
    "    def __init__(self, vocab_size, embed_dim=21, out_channels=32, kernel_height=17, kernel_width=3, dropout=0.4):\n",
    "        super(SequenceCNN, self).__init__()\n",
    "        self.embedding = nn.Embedding(vocab_size, embed_dim, padding_idx=AA_TO_INT['-'])\n",
    "        \n",
    "        # Using Conv2d like the TF example\n",
    "        self.conv2d = nn.Conv2d(\n",
    "            in_channels=1,  # Add channel dimension\n",
    "            out_channels=out_channels,\n",
    "            kernel_size=(kernel_height, kernel_width),\n",
    "            padding='valid'  # Matches TF 'valid' padding\n",
    "        )\n",
    "        self.bn1 = nn.BatchNorm2d(out_channels)\n",
    "        self.dropout1 = nn.Dropout(dropout)\n",
    "        \n",
    "        # Calculate flattened size based on input dimensions and operations\n",
    "        # Assuming input with seq_len=33, embed_dim=21\n",
    "        # After conv: [batch, out_channels, (33-17+1), (21-3+1)] = [batch, 32, 17, 19]\n",
    "        # After pool: [batch, 32, 8, 9]\n",
    "        self.pool = nn.MaxPool2d(kernel_size=(2, 2), stride=(2, 2))\n",
    "        self.flatten = nn.Flatten()\n",
    "        flat_size = out_channels * 8 * 9  # 32 * 8 * 9 = 2304\n",
    "        \n",
    "        self.fc1 = nn.Linear(flat_size, 32)\n",
    "        self.bn2 = nn.BatchNorm1d(32)\n",
    "        self.dropout2 = nn.Dropout(dropout)\n",
    "\n",
    "    def forward(self, seq_indices):\n",
    "        # seq_indices shape: [batch_size, seq_len]\n",
    "        x = self.embedding(seq_indices)  # [batch_size, seq_len, embed_dim]\n",
    "        \n",
    "        # Reshape for Conv2D: [batch_size, channels, height, width]\n",
    "        x = x.unsqueeze(1)  # [batch_size, 1, seq_len, embed_dim]\n",
    "        \n",
    "        x = self.conv2d(x)  # [batch_size, out_channels, H_out, W_out]\n",
    "        x = self.bn1(x)\n",
    "        x = F.relu(x)\n",
    "        x = self.dropout1(x)\n",
    "        x = self.pool(x)\n",
    "        \n",
    "        x = self.flatten(x)\n",
    "        x = self.fc1(x)\n",
    "        x = self.bn2(x)\n",
    "        x = F.relu(x)\n",
    "        x = self.dropout2(x)\n",
    "        \n",
    "        return x\n",
    "\n",
    "\n",
    "# --- Hybrid Model (GNN + CNN) ---\n",
    "class HybridModel(nn.Module):\n",
    "    def __init__(self, gnn_type, node_feature_dim, edge_feature_dim=18,\n",
    "                 hidden_dim=128, seq_len=33):\n",
    "        super(HybridModel, self).__init__()\n",
    "\n",
    "        # GNN track (keep as before)\n",
    "        self.gnn_type = gnn_type\n",
    "        if gnn_type == 'gcn':\n",
    "            self.gnn = GCNNetwork(node_feature_dim, hidden_dim)\n",
    "        else:\n",
    "            raise ValueError(f\"Unsupported GNN type: {gnn_type}\")\n",
    "\n",
    "        # Sequence CNN track (keep as before)\n",
    "        self.sequence_cnn = SequenceCNN(\n",
    "            vocab_size=len(AMINO_ACIDS),\n",
    "            embed_dim=21,\n",
    "            out_channels=32\n",
    "        )\n",
    "\n",
    "        # Combination layers\n",
    "        gnn_output_dim = hidden_dim\n",
    "        cnn_output_dim = 32  # From SequenceCNN\n",
    "\n",
    "        # ---- ADJUST INPUT DIMENSION FOR FC1 ----\n",
    "        # Input: Central Node + Global Mean Pool + Global Max Pool + CNN Features\n",
    "        combined_input_dim = gnn_output_dim + gnn_output_dim + gnn_output_dim + cnn_output_dim\n",
    "\n",
    "        self.fc1 = nn.Linear(combined_input_dim, 64) # Adjust input size\n",
    "        self.bn = nn.BatchNorm1d(64)\n",
    "        self.dropout = nn.Dropout(0.5)\n",
    "        self.fc2 = nn.Linear(64, 1)\n",
    "\n",
    "    def forward(self, data):\n",
    "        # Process GNN input\n",
    "        x, edge_index = data.x, data.edge_index\n",
    "        edge_attr = data.edge_attr if hasattr(data, 'edge_attr') else None\n",
    "        batch = data.batch # Essential for global pooling\n",
    "        central_node_idx = data.central_node_idx\n",
    "        ptr = data.ptr if hasattr(data, 'ptr') else None # Needed for central node indexing\n",
    "\n",
    "        # Handle missing batch vector (e.g., during single graph inference)\n",
    "        if batch is None:\n",
    "            batch = torch.zeros(x.shape[0], dtype=torch.long, device=x.device)\n",
    "\n",
    "        # Handle potentially missing ptr (needed if using ptr for central node)\n",
    "        if ptr is None:\n",
    "            # Simple way to reconstruct ptr if batch is available (assumes contiguous batches)\n",
    "            # This might be needed if using model outside DataLoader context\n",
    "            # For standard DataLoader use, ptr should be present.\n",
    "            # Add more robust handling if needed.\n",
    "             if batch.numel() > 0:\n",
    "                 counts = torch.bincount(batch)\n",
    "                 ptr = torch.cat([torch.tensor([0], device=batch.device), counts.cumsum(0)])\n",
    "             else: # Handle empty batch case\n",
    "                 ptr = torch.tensor([0], device=batch.device)\n",
    "\n",
    "\n",
    "        # Process sequence input\n",
    "        seq_flat = data.sequence  # Flattened sequence tensor\n",
    "        batch_size = data.num_graphs\n",
    "        seq_len = 33  # Fixed sequence length\n",
    "        # (Keep sequence reshaping and error handling as before)\n",
    "        if seq_flat.numel() != batch_size * seq_len:\n",
    "            print(f\"Warning: Sequence tensor size mismatch: {seq_flat.numel()} vs expected {batch_size * seq_len}. Using zeros.\")\n",
    "            seq_tensor = torch.zeros((batch_size, seq_len), dtype=torch.long, device=seq_flat.device)\n",
    "        else:\n",
    "            seq_tensor = seq_flat.view(batch_size, seq_len)\n",
    "\n",
    "\n",
    "        # --- GNN track ---\n",
    "        # Call the GNN - it now returns ALL node features\n",
    "        if self.gnn_type == 'gcn':\n",
    "            # Pass only node features and edge index to the modified GCNNetwork\n",
    "            gnn_node_features = self.gnn(x, edge_index)\n",
    "        else:\n",
    "             raise ValueError(f\"Unsupported GNN type: {self.gnn_type}\")\n",
    "\n",
    "        # If GNN returned all node features (like modified GCN):\n",
    "        if self.gnn_type == 'gcn': # or if GAT is modified similarly\n",
    "             # --- Perform Central Node Extraction HERE ---\n",
    "             graph_starts = ptr[:-1]\n",
    "             absolute_central_node_indices = graph_starts + central_node_idx\n",
    "             # Add boundary check\n",
    "             if absolute_central_node_indices.numel() > 0: # Check if indices exist\n",
    "                 if absolute_central_node_indices.max() >= gnn_node_features.shape[0]:\n",
    "                      raise IndexError(f\"Hybrid absolute central node index out of bounds: Max index {absolute_central_node_indices.max()} vs shape {gnn_node_features.shape[0]}\")\n",
    "                 central_node_features = gnn_node_features[absolute_central_node_indices]\n",
    "             else: # Handle case where there are no central node indices (e.g., empty batch)\n",
    "                  # Need to decide appropriate action, e.g., create zero tensor of correct shape\n",
    "                  print(\"Warning: No central node indices found.\")\n",
    "                  central_node_features = torch.zeros((0, self.gnn.output_dim), device=gnn_node_features.device) # Placeholder\n",
    "\n",
    "\n",
    "             # --- Perform Global Pooling HERE ---\n",
    "             global_avg_features = global_mean_pool(gnn_node_features, batch)\n",
    "             # Optional: global_max_features = global_max_pool(gnn_node_features, batch)\n",
    "             global_max_features = global_max_pool(gnn_node_features, batch)\n",
    "\n",
    "        else: # If GNN returned only central node features (like original GAT)\n",
    "             central_node_features = gnn_node_features # Already extracted\n",
    "             # Cannot do global pooling unless GNN returns all node features\n",
    "             # Create a placeholder zero tensor for global features if needed for concatenation consistency\n",
    "             print(f\"Warning: Global pooling skipped for GNN type {self.gnn_type} as it doesn't return all node features.\")\n",
    "             global_avg_features = torch.zeros((batch_size, self.gnn.output_dim), device=central_node_features.device)\n",
    "             global_max_features = torch.zeros((batch_size, self.gnn.output_dim), device=central_node_features.device)\n",
    "\n",
    "\n",
    "\n",
    "        # --- CNN track ---\n",
    "        seq_features = self.sequence_cnn(seq_tensor)\n",
    "\n",
    "\n",
    "        # --- Combine features ---\n",
    "        # Ensure dimensions match batch size before concatenating\n",
    "        # Central node features should have shape [batch_size, gnn_dim]\n",
    "        # Global pool features should have shape [batch_size, gnn_dim]\n",
    "        # Seq features should have shape [batch_size, cnn_dim]\n",
    "\n",
    "        # Basic dimension check\n",
    "        if not (central_node_features.shape[0] == global_avg_features.shape[0] == seq_features.shape[0]):\n",
    "             # Handle potential mismatch if batch sizes derived differently or errors occurred\n",
    "             print(f\"Warning: Feature dimension mismatch before concatenation.\")\n",
    "             print(f\"Central: {central_node_features.shape}, Global: {global_avg_features.shape}, Seq: {seq_features.shape}\")\n",
    "             # Fallback or raise error - For now, attempt concatenation, may fail\n",
    "             min_batch_size = min(central_node_features.shape[0], global_avg_features.shape[0], seq_features.shape[0])\n",
    "             if min_batch_size <= 0:\n",
    "                 # If any feature set is empty, return zeros or handle appropriately\n",
    "                 return torch.zeros((batch_size, 1), device=x.device) # Return dummy output\n",
    "\n",
    "             combined = torch.cat([\n",
    "                 central_node_features[:min_batch_size],\n",
    "                 global_avg_features[:min_batch_size],\n",
    "                 global_max_features[:min_batch_size],\n",
    "                 seq_features[:min_batch_size]\n",
    "             ], dim=1)\n",
    "        else:\n",
    "            #  combined = torch.cat([central_node_features, global_avg_features, seq_features], dim=1)\n",
    "             # If using mean and max pooling:\n",
    "             combined = torch.cat([central_node_features, global_avg_features, global_max_features, seq_features], dim=1)\n",
    "\n",
    "\n",
    "        # --- Final classification ---\n",
    "        x = self.fc1(combined)\n",
    "        # Add check for batch norm input size\n",
    "        if x.shape[0] > 0: # Can't apply BatchNorm1d to empty input\n",
    "             x = self.bn(x)\n",
    "        x = F.relu(x)\n",
    "        x = self.dropout(x)\n",
    "        x = self.fc2(x)\n",
    "\n",
    "        return torch.sigmoid(x)\n",
    "\n",
    "\n",
    "def integer_encode_sequence(sequence):\n",
    "    \"\"\"Integer encode sequence for the CNN track (includes padding char).\"\"\"\n",
    "    return [AA_TO_INT.get(char, AA_TO_INT['-']) for char in sequence]\n",
    "\n",
    "def prepare_graph_data(df, distance_threshold=8.0, use_ss=True): # Added use_ss flag\n",
    "    \"\"\"\n",
    "    Prepare graph data for PyTorch Geometric, extracting detailed node features\n",
    "    for all valid residues in the 33-residue window.\n",
    "\n",
    "    Includes: AA one-hot, central K indicator, phi, psi, omega, tau, chi1-4 (sin/cos),\n",
    "              SASA, SS (one-hot), pLDDT.\n",
    "    \"\"\"\n",
    "    graph_list = []\n",
    "    labels = []\n",
    "    skipped = 0\n",
    "    expected_seq_len = 33\n",
    "    central_k_pos_abs = 16 # 0-based index in the 33-residue window\n",
    "\n",
    "    feature_names_to_parse = [\n",
    "        'phi', 'psi', 'omega', 'tau', 'chi1', 'chi2', 'chi3', 'chi4',\n",
    "        'sasa', 'ss', 'plDDT', 'distance_map'\n",
    "    ]\n",
    "\n",
    "    for idx, row in df.iterrows():\n",
    "        try:\n",
    "            sequence = row['sequence']\n",
    "            label = row['label']\n",
    "\n",
    "            # --- Initial Validation ---\n",
    "            if pd.isna(sequence) or len(sequence) != expected_seq_len or sequence[central_k_pos_abs] != 'K':\n",
    "                skipped += 1\n",
    "                continue\n",
    "\n",
    "            # --- Parse Required Data ---\n",
    "            parsed_data = {}\n",
    "            valid_row = True\n",
    "            for name in feature_names_to_parse:\n",
    "                if name not in row or pd.isna(row[name]):\n",
    "                    print(f\"Warning: Missing or NaN data for '{name}' in row {idx}. Skipping row.\")\n",
    "                    valid_row = False\n",
    "                    break\n",
    "                try:\n",
    "                    # Special handling for ss string\n",
    "                    if name == 'ss':\n",
    "                         parsed_data[name] = str(row[name]) # Keep as string initially\n",
    "                         if len(parsed_data[name]) != expected_seq_len:\n",
    "                              raise ValueError(f\"SS sequence length mismatch\")\n",
    "                    else:\n",
    "                        # Use eval carefully - ensure input data is trusted\n",
    "                        parsed_data[name] = np.array(eval(str(row[name])), dtype=np.float32)\n",
    "                except Exception as e:\n",
    "                    print(f\"Warning: Error parsing '{name}' in row {idx}: {e}. Skipping row.\")\n",
    "                    # traceback.print_exc() # Uncomment for detailed parsing errors\n",
    "                    valid_row = False\n",
    "                    break\n",
    "            if not valid_row:\n",
    "                skipped += 1\n",
    "                continue\n",
    "\n",
    "            # Reshape distance map if needed\n",
    "            if parsed_data['distance_map'].size == expected_seq_len * expected_seq_len:\n",
    "                 distance_map = parsed_data['distance_map'].reshape(expected_seq_len, expected_seq_len)\n",
    "            else:\n",
    "                 print(f\"Warning: Unexpected distance_map size ({parsed_data['distance_map'].size}) in row {idx}. Skipping.\")\n",
    "                 skipped += 1\n",
    "                 continue\n",
    "\n",
    "\n",
    "            # --- Identify Valid (Non-padded) Positions ---\n",
    "            valid_pos_indices = [i for i, aa in enumerate(sequence) if aa != '-']\n",
    "            if not valid_pos_indices:\n",
    "                skipped += 1\n",
    "                continue\n",
    "\n",
    "            num_nodes = len(valid_pos_indices)\n",
    "            valid_sequence = ''.join([sequence[i] for i in valid_pos_indices])\n",
    "\n",
    "            # Find new 0-based index of central K within the valid nodes\n",
    "            try:\n",
    "                # Map absolute central K position (16) to its index in the valid_pos_indices list\n",
    "                central_k_new_idx = valid_pos_indices.index(central_k_pos_abs)\n",
    "            except ValueError:\n",
    "                # This happens if the central K was padded '-'\n",
    "                skipped += 1\n",
    "                continue\n",
    "\n",
    "            # --- Node Feature Extraction ---\n",
    "            node_features_list = []\n",
    "\n",
    "            # 1. One-hot encode amino acids (20 features)\n",
    "            aa_onehot = np.zeros((num_nodes, len(VALID_AA)), dtype=np.float32)\n",
    "            for i, aa in enumerate(valid_sequence):\n",
    "                aa_idx = VALID_AA.find(aa)\n",
    "                if aa_idx >= 0:\n",
    "                    aa_onehot[i, aa_idx] = 1.0\n",
    "            node_features_list.append(aa_onehot)\n",
    "\n",
    "            # 2. Central K indicator (1 feature)\n",
    "            is_central_k = np.zeros((num_nodes, 1), dtype=np.float32)\n",
    "            is_central_k[central_k_new_idx, 0] = 1.0\n",
    "            node_features_list.append(is_central_k)\n",
    "\n",
    "            # 3. Process Angles (phi, psi, omega, tau, chi1-4) -> sin/cos encoding (2 features each)\n",
    "            angle_keys = ['phi', 'psi', 'omega', 'tau', 'chi1', 'chi2', 'chi3', 'chi4']\n",
    "            angle_keys = ['phi', 'psi', 'omega']\n",
    "\n",
    "            for key in angle_keys:\n",
    "                # Extract angles for valid positions\n",
    "                valid_angles = parsed_data[key][valid_pos_indices]\n",
    "                # Handle potential NaNs from parsing (e.g., chi angles for GLY) -> replace with 0\n",
    "                valid_angles = np.nan_to_num(valid_angles)\n",
    "                # Convert to radians and apply sin/cos\n",
    "                angle_rad = np.pi * valid_angles / 180.0\n",
    "                sin_cos_features = np.stack([np.sin(angle_rad), np.cos(angle_rad)], axis=-1)\n",
    "                node_features_list.append(sin_cos_features.astype(np.float32))\n",
    "\n",
    "            # 4. Process SASA (1 feature per node)\n",
    "            valid_sasa = parsed_data['sasa'][valid_pos_indices].reshape(-1, 1)\n",
    "            valid_sasa = np.nan_to_num(valid_sasa) # Handle potential NaNs\n",
    "            # node_features_list.append(valid_sasa.astype(np.float32)) # Add raw value, scaling handled by BatchNorm\n",
    "\n",
    "            # 5. Process SS (Secondary Structure) (3 features per node if use_ss=True)\n",
    "            if use_ss:\n",
    "                ss_string = parsed_data['ss']\n",
    "                valid_ss = [ss_string[i] for i in valid_pos_indices]\n",
    "                ss_onehot = np.zeros((num_nodes, 3), dtype=np.float32) # H=0, E=1, L=2\n",
    "                ss_map = {'H': 0, 'E': 1, 'L': 2, '-': 2} # Map '-' to 'L' or handle differently if needed\n",
    "                for i, ss_char in enumerate(valid_ss):\n",
    "                    ss_idx = ss_map.get(ss_char, 2) # Default to 'L' if unexpected char\n",
    "                    ss_onehot[i, ss_idx] = 1.0\n",
    "                # node_features_list.append(ss_onehot)\n",
    "\n",
    "            # 6. Process plDDT (1 feature per node)\n",
    "            valid_plddt = parsed_data['plDDT'][valid_pos_indices].reshape(-1, 1)\n",
    "            valid_plddt = np.nan_to_num(valid_plddt) # Handle potential NaNs\n",
    "            # node_features_list.append(valid_plddt.astype(np.float32)) # Add raw value\n",
    "\n",
    "            # --- Concatenate all node features ---\n",
    "            try:\n",
    "                node_features = np.concatenate(node_features_list, axis=1)\n",
    "            except ValueError as e:\n",
    "                 print(f\"Error concatenating features for row {idx}: {e}\")\n",
    "                 # Print shapes for debugging\n",
    "                 for i, feat in enumerate(node_features_list):\n",
    "                     print(f\"  Feature {i} shape: {feat.shape}\")\n",
    "                 skipped += 1\n",
    "                 continue\n",
    "\n",
    "            # --- Edge Construction (based on distance map) ---\n",
    "            # Extract submatrix for valid positions\n",
    "            valid_distance_map = distance_map[np.ix_(valid_pos_indices, valid_pos_indices)]\n",
    "\n",
    "            edges = []\n",
    "            edge_features = [] # Keep edge feature extraction simple for now\n",
    "\n",
    "            # Create edges based on distance threshold\n",
    "            adj = valid_distance_map < distance_threshold\n",
    "            adj &= valid_distance_map > 0 # Ensure distance > 0\n",
    "            np.fill_diagonal(adj, False) # No self-loops from distance map\n",
    "            edge_list = np.argwhere(adj) # Find indices where condition is True\n",
    "\n",
    "            if edge_list.shape[0] > 0:\n",
    "                edges = edge_list.tolist()\n",
    "                # Basic edge features: distance bins (as before)\n",
    "                for i, j in edges:\n",
    "                    dist = valid_distance_map[i, j]\n",
    "                    edge_feature = np.zeros(4, dtype=np.float32)\n",
    "                    if dist <= 4.0: edge_feature[0] = 1.0\n",
    "                    elif dist <= 8.0: edge_feature[1] = 1.0\n",
    "                    elif dist <= 12.0: edge_feature[2] = 1.0\n",
    "                    else: edge_feature[3] = 1.0\n",
    "                    edge_features.append(edge_feature)\n",
    "\n",
    "            # Add sequential edges as fallback if NO distance-based edges exist\n",
    "            # (Consider if you ALWAYS want sequential edges added)\n",
    "            if not edges and num_nodes > 1:\n",
    "                for i in range(num_nodes - 1):\n",
    "                    edges.extend([[i, i+1], [i+1, i]])\n",
    "                    # Default features for sequential edges (e.g., bin 1-4Å)\n",
    "                    default_edge_feat = np.array([1.0, 0.0, 0.0, 0.0], dtype=np.float32)\n",
    "                    edge_features.extend([default_edge_feat, default_edge_feat])\n",
    "\n",
    "            # Skip graph if it has no edges at all\n",
    "            if not edges:\n",
    "                skipped += 1\n",
    "                continue\n",
    "\n",
    "            # --- Convert to PyTorch Tensors ---\n",
    "            x = torch.tensor(node_features, dtype=torch.float)\n",
    "            edge_index = torch.tensor(edges, dtype=torch.long).t().contiguous()\n",
    "            edge_attr = torch.tensor(edge_features, dtype=torch.float)\n",
    "            y = torch.tensor([label], dtype=torch.float)\n",
    "\n",
    "            # Integer-encode full sequence for CNN (including padding)\n",
    "            sequence_tensor = torch.tensor(integer_encode_sequence(sequence), dtype=torch.long)\n",
    "\n",
    "            # Create PyG Data object\n",
    "            data = Data(\n",
    "                x=x,\n",
    "                edge_index=edge_index,\n",
    "                edge_attr=edge_attr,\n",
    "                y=y,\n",
    "                sequence=sequence_tensor,\n",
    "                central_node_idx=torch.tensor([central_k_new_idx], dtype=torch.long) # Index within valid nodes\n",
    "            )\n",
    "\n",
    "            graph_list.append(data)\n",
    "            labels.append(label)\n",
    "\n",
    "        except Exception as e:\n",
    "            print(f\"--- Critical Error processing row {idx}: {e} ---\")\n",
    "            traceback.print_exc() # Print full traceback for critical errors\n",
    "            skipped += 1\n",
    "            continue\n",
    "\n",
    "    print(f\"\\nCreated {len(graph_list)} graphs, skipped {skipped} rows during data preparation.\")\n",
    "    if graph_list:\n",
    "         print(f\"Example graph node feature dimension: {graph_list[0].x.shape[1]}\")\n",
    "         # Calculate expected dimension:\n",
    "         expected_dim = len(VALID_AA) + 1 + len(angle_keys)*2 + 1 + (3 if use_ss else 0) + 1\n",
    "         print(f\"Expected dimension based on config: {expected_dim}\")\n",
    "    return graph_list, labels\n",
    "\n",
    "\n",
    "def train_model(model, loader, optimizer, device, class_weights=None):\n",
    "    model.train()\n",
    "    total_loss = 0\n",
    "    correct = 0\n",
    "    total = 0\n",
    "    \n",
    "    for batch in loader:\n",
    "        batch = batch.to(device)\n",
    "        optimizer.zero_grad()\n",
    "        \n",
    "        output = model(batch)\n",
    "        target = batch.y.view(-1, 1)\n",
    "        \n",
    "        # Apply class weights if provided\n",
    "        if class_weights is not None:\n",
    "            weight = torch.tensor([class_weights[int(t.item())] for t in target], device=device).view(-1, 1)\n",
    "            loss = F.binary_cross_entropy(output, target, weight=weight)\n",
    "        else:\n",
    "            loss = F.binary_cross_entropy(output, target)\n",
    "        \n",
    "        loss.backward()\n",
    "        optimizer.step()\n",
    "        \n",
    "        total_loss += loss.item() * batch.num_graphs\n",
    "        \n",
    "        # Calculate accuracy\n",
    "        pred = (output > 0.5).float()\n",
    "        correct += (pred == target).sum().item()\n",
    "        total += target.size(0)\n",
    "    \n",
    "    return total_loss / total, correct / total\n",
    "\n",
    "\n",
    "def evaluate_model(model, loader, device):\n",
    "    model.eval()\n",
    "    total_loss = 0\n",
    "    all_preds = []\n",
    "    all_targets = []\n",
    "    \n",
    "    with torch.no_grad():\n",
    "        for batch in loader:\n",
    "            batch = batch.to(device)\n",
    "            output = model(batch)\n",
    "            target = batch.y.view(-1, 1)\n",
    "            \n",
    "            loss = F.binary_cross_entropy(output, target, reduction='sum')\n",
    "            total_loss += loss.item()\n",
    "            \n",
    "            pred = (output > 0.5).float()\n",
    "            all_preds.append(pred.cpu().numpy())\n",
    "            all_targets.append(target.cpu().numpy())\n",
    "    \n",
    "    all_preds = np.concatenate(all_preds).flatten()\n",
    "    all_targets = np.concatenate(all_targets).flatten()\n",
    "    \n",
    "    # Calculate metrics\n",
    "    accuracy = accuracy_score(all_targets, all_preds)\n",
    "    balanced_acc = balanced_accuracy_score(all_targets, all_preds)\n",
    "    mcc = matthews_corrcoef(all_targets, all_preds)\n",
    "    \n",
    "    cm = confusion_matrix(all_targets, all_preds)\n",
    "    if cm.shape == (2, 2):\n",
    "        tn, fp, fn, tp = cm.ravel()\n",
    "        sensitivity = tp / (tp + fn) if (tp + fn) > 0 else 0\n",
    "        specificity = tn / (tn + fp) if (tn + fp) > 0 else 0\n",
    "    else:\n",
    "        sensitivity = specificity = 0\n",
    "    \n",
    "    return {\n",
    "        'accuracy': accuracy,\n",
    "        'balanced_acc': balanced_acc,\n",
    "        'mcc': mcc,\n",
    "        'sensitivity': sensitivity,\n",
    "        'specificity': specificity,\n",
    "        'confusion_matrix': cm,\n",
    "        'loss': total_loss / len(all_targets),\n",
    "        'predictions': all_preds,\n",
    "        'targets': all_targets\n",
    "    }\n",
    "\n",
    "\n",
    "def print_metrics(metrics):\n",
    "    print(f\"Accuracy: {metrics['accuracy']:.4f}\")\n",
    "    print(f\"Balanced Accuracy: {metrics['balanced_acc']:.4f}\")\n",
    "    print(f\"MCC: {metrics['mcc']:.4f}\")\n",
    "    print(f\"Sensitivity: {metrics['sensitivity']:.4f}\")\n",
    "    print(f\"Specificity: {metrics['specificity']:.4f}\")\n",
    "    print(\"Confusion Matrix:\")\n",
    "    print(metrics['confusion_matrix'])\n",
    "\n",
    "\n",
    "def train_with_cv(train_df, test_df, gnn_type='gcn', distance_threshold=8.0):\n",
    "    \"\"\"\n",
    "    Train model with cross-validation\n",
    "    \"\"\"\n",
    "    print(f\"\\n--- Training {gnn_type.upper()} model with distance threshold {distance_threshold}Å ---\")\n",
    "    \n",
    "    # Prepare data\n",
    "    train_graphs, train_labels = prepare_graph_data(train_df, distance_threshold)\n",
    "    test_graphs, test_labels = prepare_graph_data(test_df, distance_threshold)\n",
    "    \n",
    "    if not train_graphs:\n",
    "        print(\"Error: No training graphs created.\")\n",
    "        return None\n",
    "    \n",
    "    # Calculate class weights\n",
    "    total = len(train_labels)\n",
    "    pos = sum(train_labels)\n",
    "    neg = total - pos\n",
    "    class_weights = {\n",
    "        0: total / (2 * neg) if neg > 0 else 1.0,\n",
    "        1: total / (2 * pos) if pos > 0 else 1.0\n",
    "    }\n",
    "    print(f\"Class weights: {class_weights}\")\n",
    "    \n",
    "    # Cross-validation\n",
    "    kfold = StratifiedKFold(n_splits=5, shuffle=True, random_state=SEED)\n",
    "    fold_metrics = []\n",
    "    test_predictions = []\n",
    "    \n",
    "    for fold, (train_idx, val_idx) in enumerate(kfold.split(train_graphs, train_labels), 1):\n",
    "        print(f\"\\n--- Fold {fold}/5 ---\")\n",
    "        \n",
    "        # Split data\n",
    "        train_fold = [train_graphs[i] for i in train_idx]\n",
    "        val_fold = [train_graphs[i] for i in val_idx]\n",
    "        \n",
    "        # Create data loaders\n",
    "        train_loader = DataLoader(train_fold, batch_size=32, shuffle=True)\n",
    "        val_loader = DataLoader(val_fold, batch_size=32, shuffle=False)\n",
    "        \n",
    "        # Create model\n",
    "        node_feature_dim = train_graphs[0].x.shape[1]\n",
    "        model = HybridModel(\n",
    "            gnn_type=gnn_type,\n",
    "            node_feature_dim=node_feature_dim,\n",
    "            edge_feature_dim=train_graphs[0].edge_attr.shape[1],\n",
    "            hidden_dim=128\n",
    "        ).to(device)\n",
    "        \n",
    "        # Optimizer and scheduler\n",
    "        optimizer = torch.optim.Adam(model.parameters(), lr=0.001, weight_decay=0.01)\n",
    "        scheduler = torch.optim.lr_scheduler.ReduceLROnPlateau(\n",
    "            optimizer, mode='min', factor=0.5, patience=5, verbose=True\n",
    "        )\n",
    "        \n",
    "        # Training loop\n",
    "        epochs = 50\n",
    "        patience = 10\n",
    "        best_val_loss = float('inf')\n",
    "        counter = 0\n",
    "        best_state_dict = None\n",
    "        \n",
    "        for epoch in range(epochs):\n",
    "            train_loss, train_acc = train_model(\n",
    "                model, train_loader, optimizer, device, class_weights\n",
    "            )\n",
    "            \n",
    "            val_metrics = evaluate_model(model, val_loader, device)\n",
    "            val_loss = val_metrics['loss']\n",
    "            val_acc = val_metrics['accuracy']\n",
    "            \n",
    "            scheduler.step(val_loss)\n",
    "            \n",
    "            print(f\"Epoch {epoch+1}/{epochs}, Train Loss: {train_loss:.4f}, Train Acc: {train_acc:.4f}, \"\n",
    "                  f\"Val Loss: {val_loss:.4f}, Val Acc: {val_acc:.4f}\")\n",
    "            \n",
    "            if val_loss < best_val_loss:\n",
    "                best_val_loss = val_loss\n",
    "                counter = 0\n",
    "                best_state_dict = model.state_dict().copy()\n",
    "                print(f\"  -> New best validation loss: {best_val_loss:.4f}\")\n",
    "            else:\n",
    "                counter += 1\n",
    "                if counter >= patience:\n",
    "                    print(\"Early stopping triggered\")\n",
    "                    break\n",
    "        \n",
    "        # Load best model\n",
    "        if best_state_dict:\n",
    "            model.load_state_dict(best_state_dict)\n",
    "        \n",
    "        # Evaluate on validation set\n",
    "        val_metrics = evaluate_model(model, val_loader, device)\n",
    "        print(\"\\nValidation metrics:\")\n",
    "        print_metrics(val_metrics)\n",
    "        fold_metrics.append(val_metrics)\n",
    "        \n",
    "        # Predict on test set\n",
    "        if test_graphs:\n",
    "            test_loader = DataLoader(test_graphs, batch_size=32, shuffle=False)\n",
    "            test_fold_metrics = evaluate_model(model, test_loader, device)\n",
    "            test_predictions.append(test_fold_metrics['predictions'])\n",
    "    \n",
    "    # Print average metrics across folds\n",
    "    print(\"\\n--- Cross-validation summary ---\")\n",
    "    metrics_to_report = ['accuracy', 'balanced_acc', 'mcc', 'sensitivity', 'specificity']\n",
    "    for metric in metrics_to_report:\n",
    "        values = [m[metric] for m in fold_metrics]\n",
    "        mean_val = np.mean(values)\n",
    "        std_val = np.std(values)\n",
    "        print(f\"{metric}: {mean_val:.4f} ± {std_val:.4f}\")\n",
    "    \n",
    "    # Ensemble prediction on test set\n",
    "    if test_predictions and test_labels:\n",
    "        print(\"\\n--- Test set evaluation (ensemble) ---\")\n",
    "        test_pred_avg = np.mean(np.stack(test_predictions), axis=0)\n",
    "        test_pred_binary = (test_pred_avg > 0.5).astype(int)\n",
    "        \n",
    "        test_metrics = {\n",
    "            'accuracy': accuracy_score(test_labels, test_pred_binary),\n",
    "            'balanced_acc': balanced_accuracy_score(test_labels, test_pred_binary),\n",
    "            'mcc': matthews_corrcoef(test_labels, test_pred_binary),\n",
    "            'confusion_matrix': confusion_matrix(test_labels, test_pred_binary)\n",
    "        }\n",
    "        \n",
    "        # Calculate sensitivity and specificity\n",
    "        cm = test_metrics['confusion_matrix']\n",
    "        if cm.shape == (2, 2):\n",
    "            tn, fp, fn, tp = cm.ravel()\n",
    "            test_metrics['sensitivity'] = tp / (tp + fn) if (tp + fn) > 0 else 0\n",
    "            test_metrics['specificity'] = tn / (tn + fp) if (tn + fp) > 0 else 0\n",
    "        \n",
    "        print_metrics(test_metrics)\n",
    "        return test_metrics\n",
    "    \n",
    "    return None\n",
    "\n",
    "\n",
    "if __name__ == \"__main__\":\n",
    "    # Load data\n",
    "    try:\n",
    "        train_df = pd.read_csv(\"../../data/train/structure/processed_features_train.csv\")\n",
    "        test_df = pd.read_csv(\"../../data/test/structure/processed_features_test.csv\")\n",
    "        \n",
    "        # Print class distribution\n",
    "        print(\"Train class distribution:\", train_df['label'].value_counts().to_dict())\n",
    "        print(\"Test class distribution:\", test_df['label'].value_counts().to_dict())\n",
    "        \n",
    "        # Train models\n",
    "        gnn_types = ['gcn']\n",
    "        threshold = 8.0  # You can try different thresholds\n",
    "        \n",
    "        for gnn_type in gnn_types:\n",
    "            results = train_with_cv(train_df, test_df, gnn_type=gnn_type, distance_threshold=threshold)\n",
    "            \n",
    "    except Exception as e:\n",
    "        print(f\"Error occurred: {e}\")"
   ]
  }
 ],
 "metadata": {
  "kernelspec": {
   "display_name": "lysine-torch",
   "language": "python",
   "name": "python3"
  },
  "language_info": {
   "codemirror_mode": {
    "name": "ipython",
    "version": 3
   },
   "file_extension": ".py",
   "mimetype": "text/x-python",
   "name": "python",
   "nbconvert_exporter": "python",
   "pygments_lexer": "ipython3",
   "version": "3.9.21"
  }
 },
 "nbformat": 4,
 "nbformat_minor": 5
}
