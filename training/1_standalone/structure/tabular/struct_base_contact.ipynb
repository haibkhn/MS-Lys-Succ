{
 "cells": [
  {
   "cell_type": "code",
   "execution_count": 1,
   "metadata": {},
   "outputs": [],
   "source": [
    "import tensorflow as tf\n",
    "import numpy as np\n",
    "import pandas as pd\n",
    "from sklearn.metrics import confusion_matrix, matthews_corrcoef, accuracy_score, balanced_accuracy_score\n",
    "from sklearn.model_selection import KFold, StratifiedKFold\n",
    "from sklearn.preprocessing import RobustScaler\n",
    "import matplotlib.pyplot as plt\n",
    "import random"
   ]
  },
  {
   "cell_type": "code",
   "execution_count": 2,
   "metadata": {},
   "outputs": [],
   "source": [
    "# Set random seeds for reproducibility\n",
    "SEED = 42\n",
    "random.seed(SEED)\n",
    "np.random.seed(SEED)\n",
    "tf.random.set_seed(SEED)\n",
    "tf.keras.utils.set_random_seed(SEED)  # This sets all random seeds in keras\n",
    "tf.config.experimental.enable_op_determinism()  # For complete reproducibility"
   ]
  },
  {
   "cell_type": "code",
   "execution_count": 3,
   "metadata": {},
   "outputs": [],
   "source": [
    "def prepare_structure_data(df):\n",
    "    \"\"\"Structure data preparation without contacts\"\"\"\n",
    "    features_list = []\n",
    "    middle_pos = 16  \n",
    "    \n",
    "    # Normalize angles to their circular nature\n",
    "    def normalize_angles(angle_array, pos):\n",
    "        angles = np.array([arr[pos] for arr in angle_array])\n",
    "        angle_rad = np.pi * angles / 180.0\n",
    "        return np.stack([np.sin(angle_rad), np.cos(angle_rad)], axis=-1)\n",
    "    \n",
    "    # 1. Process angles\n",
    "    angles = ['phi', 'psi', 'omega']\n",
    "    for angle in angles:\n",
    "        angle_arrays = np.array([np.array(eval(x)) for x in df[angle]])\n",
    "        angle_features = normalize_angles(angle_arrays, middle_pos)\n",
    "        features_list.append(angle_features)\n",
    "        print(f\"{angle} features shape: {angle_features.shape}\")\n",
    "    \n",
    "    # 2. Process SASA\n",
    "    sasa_arrays = np.array([np.array(eval(x)) for x in df['sasa']])\n",
    "    scaler = RobustScaler()\n",
    "    sasa_features = []\n",
    "    for pos in [middle_pos-1, middle_pos, middle_pos+1]:\n",
    "        sasa_pos = np.array([arr[pos] for arr in sasa_arrays]).reshape(-1, 1)\n",
    "        sasa_scaled = scaler.fit_transform(sasa_pos)\n",
    "        sasa_features.append(sasa_scaled)\n",
    "    sasa_features = np.concatenate(sasa_features, axis=1)\n",
    "    features_list.append(sasa_features)\n",
    "    print(f\"SASA features shape: {sasa_features.shape}\")\n",
    "    \n",
    "    # 3. Process chi angles\n",
    "    chi_angles = ['chi1', 'chi2', 'chi3', 'chi4']\n",
    "    for chi in chi_angles:\n",
    "        chi_arrays = np.array([np.array(eval(x)) for x in df[chi]])\n",
    "        chi_features = normalize_angles(chi_arrays, middle_pos)\n",
    "        features_list.append(chi_features)\n",
    "        print(f\"{chi} features shape: {chi_features.shape}\")\n",
    "    \n",
    "    # 4. Process SS (optional)\n",
    "    ss_arrays = np.array([list(seq) for seq in df['ss']])\n",
    "    ss_center = ss_arrays[:, middle_pos]\n",
    "    ss_encoded = np.zeros((len(ss_arrays), 3))\n",
    "    ss_map = {'H': 0, 'E': 1, 'L': 2}\n",
    "    for i, ss in enumerate(ss_center):\n",
    "        ss_encoded[i, ss_map[ss]] = 1\n",
    "    features_list.append(ss_encoded)\n",
    "    print(f\"SS features shape: {ss_encoded.shape}\")\n",
    "    \n",
    "    # 5. Process plDDT\n",
    "    plddt_arrays = np.array([np.array(eval(x)) for x in df['plDDT']])\n",
    "    plddt_center = np.array([arr[middle_pos] for arr in plddt_arrays]).reshape(-1, 1)\n",
    "    scaler = RobustScaler()\n",
    "    plddt_scaled = scaler.fit_transform(plddt_center)\n",
    "    features_list.append(plddt_scaled)\n",
    "    print(f\"plDDT features shape: {plddt_scaled.shape}\")\n",
    "    \n",
    "    # Combine all features\n",
    "    features = np.concatenate(features_list, axis=1)\n",
    "    print(f\"\\nFinal combined features shape: {features.shape}\")\n",
    "    print(\"Feature list lengths:\", [f.shape[1] for f in features_list])\n",
    "    \n",
    "    return features"
   ]
  },
  {
   "cell_type": "code",
   "execution_count": 4,
   "metadata": {},
   "outputs": [],
   "source": [
    "def prepare_contact_map(df, threshold=8.0):\n",
    "    \"\"\"\n",
    "    Process distance maps into binary contact maps with a specific threshold\n",
    "    \n",
    "    Args:\n",
    "        df: DataFrame containing distance_map column\n",
    "        threshold: Distance threshold to consider a contact (in Angstroms)\n",
    "        \n",
    "    Returns:\n",
    "        Array of binary contact maps with shape (n_samples, 33, 33)\n",
    "    \"\"\"\n",
    "    contact_maps = []\n",
    "    \n",
    "    for map_str in df['distance_map']:\n",
    "        # Convert string to array and reshape\n",
    "        values = np.array([float(x) for x in map_str.split(',')])\n",
    "        distance_map = values.reshape(33, 33)\n",
    "        \n",
    "        # Convert to binary contact map based on threshold\n",
    "        contact_map = np.zeros_like(distance_map)\n",
    "        contact_map[distance_map <= threshold] = 1\n",
    "        contact_map[distance_map == 0] = 0  # No self-contacts or missing values\n",
    "        \n",
    "        contact_maps.append(contact_map)\n",
    "    \n",
    "    return np.array(contact_maps)"
   ]
  },
  {
   "cell_type": "code",
   "execution_count": 5,
   "metadata": {},
   "outputs": [],
   "source": [
    "def create_combined_structure_model(struct_input_dim, seq_length=33):\n",
    "    \"\"\"\n",
    "    Create a model that combines contact map data with other structural features\n",
    "    \n",
    "    Args:\n",
    "        struct_input_dim: The dimensionality of the structural features\n",
    "        seq_length: Sequence length (default 33)\n",
    "        \n",
    "    Returns:\n",
    "        A Keras model\n",
    "    \"\"\"\n",
    "    # Input for structural features\n",
    "    struct_input = tf.keras.layers.Input(shape=(struct_input_dim,), name='structure_input')\n",
    "    x_struct = tf.keras.layers.Dense(64, activation='relu')(struct_input)\n",
    "    x_struct = tf.keras.layers.BatchNormalization()(x_struct)\n",
    "    x_struct = tf.keras.layers.Dropout(0.3)(x_struct)\n",
    "    x_struct = tf.keras.layers.Dense(32, activation='relu')(x_struct)\n",
    "    \n",
    "    # Input and processing for contact map\n",
    "    contact_input = tf.keras.layers.Input(shape=(seq_length, seq_length), name='contact_map')\n",
    "    x_contact = tf.keras.layers.Reshape((seq_length, seq_length, 1))(contact_input)\n",
    "    x_contact = tf.keras.layers.Conv2D(16, kernel_size=(3, 3), activation='relu', padding='same')(x_contact)\n",
    "    x_contact = tf.keras.layers.MaxPooling2D(pool_size=(2, 2))(x_contact)\n",
    "    x_contact = tf.keras.layers.Conv2D(32, kernel_size=(3, 3), activation='relu', padding='same')(x_contact)\n",
    "    x_contact = tf.keras.layers.MaxPooling2D(pool_size=(2, 2))(x_contact)\n",
    "    x_contact = tf.keras.layers.Flatten()(x_contact)\n",
    "    x_contact = tf.keras.layers.Dense(32, activation='relu')(x_contact)\n",
    "    \n",
    "    # Combine both feature sets\n",
    "    combined = tf.keras.layers.Concatenate()([x_struct, x_contact])\n",
    "    \n",
    "    # Final layers\n",
    "    x = tf.keras.layers.BatchNormalization()(combined)\n",
    "    x = tf.keras.layers.Dropout(0.3)(x)\n",
    "    x = tf.keras.layers.Dense(32, activation='relu')(x)\n",
    "    outputs = tf.keras.layers.Dense(1, activation='sigmoid')(x)\n",
    "    \n",
    "    # Create model\n",
    "    model = tf.keras.Model(inputs=[struct_input, contact_input], outputs=outputs)\n",
    "    \n",
    "    return model"
   ]
  },
  {
   "cell_type": "code",
   "execution_count": 6,
   "metadata": {},
   "outputs": [],
   "source": [
    "def print_metrics(y_true, y_pred):\n",
    "    \"\"\"\n",
    "    Print comprehensive evaluation metrics\n",
    "    \n",
    "    Parameters:\n",
    "    y_true: array-like of true labels\n",
    "    y_pred: array-like of predicted labels\n",
    "    \"\"\"\n",
    "    # Calculate confusion matrix\n",
    "    cm = confusion_matrix(y_true, y_pred)\n",
    "    \n",
    "    # Calculate metrics\n",
    "    acc = accuracy_score(y_true, y_pred)\n",
    "    balanced_acc = balanced_accuracy_score(y_true, y_pred)\n",
    "    mcc = matthews_corrcoef(y_true, y_pred)\n",
    "    sensitivity = cm[1][1] / (cm[1][1] + cm[1][0])  # True Positive Rate\n",
    "    specificity = cm[0][0] / (cm[0][0] + cm[0][1])  # True Negative Rate\n",
    "    \n",
    "    # Print results\n",
    "    print(f\"Accuracy: {acc:.4f}\")\n",
    "    print(f\"Balanced Accuracy: {balanced_acc:.4f}\")\n",
    "    print(f\"MCC: {mcc:.4f}\")\n",
    "    print(f\"Sensitivity: {sensitivity:.4f}\")\n",
    "    print(f\"Specificity: {specificity:.4f}\")\n",
    "    print(\"Confusion Matrix:\")\n",
    "    print(cm)"
   ]
  },
  {
   "cell_type": "code",
   "execution_count": null,
   "metadata": {},
   "outputs": [],
   "source": [
    "def train_and_evaluate_combined_structure(threshold=8.0):\n",
    "    \"\"\"Train and evaluate combined structure and contact map model\"\"\"\n",
    "    print(\"Loading structural data...\")\n",
    "    \n",
    "    # Load data\n",
    "    train_df = pd.read_csv(\"../../../../data/train/structure/processed_features_train.csv\")\n",
    "    test_df = pd.read_csv(\"../../../../data/test/structure/processed_features_test.csv\")\n",
    "    \n",
    "    # Extract labels\n",
    "    y_train = train_df['label'].values\n",
    "    y_test = test_df['label'].values\n",
    "    \n",
    "    # Prepare feature data\n",
    "    X_train_struct = prepare_structure_data(train_df)\n",
    "    X_test_struct = prepare_structure_data(test_df)\n",
    "    \n",
    "    # Prepare contact map data\n",
    "    X_train_contact = prepare_contact_map(train_df, threshold=threshold)\n",
    "    X_test_contact = prepare_contact_map(test_df, threshold=threshold)\n",
    "    \n",
    "    # Shuffle training data\n",
    "    shuffle_idx = np.random.RandomState(42).permutation(len(y_train))\n",
    "    X_train_struct = X_train_struct[shuffle_idx]\n",
    "    X_train_contact = X_train_contact[shuffle_idx]\n",
    "    y_train = y_train[shuffle_idx]\n",
    "    \n",
    "    # Calculate class weights\n",
    "    total_samples = len(y_train)\n",
    "    pos_samples = np.sum(y_train == 1)\n",
    "    neg_samples = np.sum(y_train == 0)\n",
    "    \n",
    "    class_weights = {\n",
    "        0: total_samples / (2 * neg_samples),\n",
    "        1: total_samples / (2 * pos_samples)\n",
    "    }\n",
    "    \n",
    "    print(f\"Training data shapes - Structural: {X_train_struct.shape}, Contact Map: {X_train_contact.shape}\")\n",
    "    print(f\"Testing data shapes - Structural: {X_test_struct.shape}, Contact Map: {X_test_contact.shape}\")\n",
    "    print(f\"Class weights: {class_weights}\")\n",
    "    \n",
    "    # Cross-validation setup\n",
    "    kfold = StratifiedKFold(n_splits=5, shuffle=True, random_state=42)\n",
    "    metrics = {'acc': [], 'balanced_acc': [], 'mcc': [], 'sn': [], 'sp': []}\n",
    "    test_predictions = []\n",
    "    \n",
    "    for fold, (train_idx, val_idx) in enumerate(kfold.split(X_train_struct, y_train), 1):\n",
    "        print(f\"\\nFold {fold}/5\")\n",
    "        \n",
    "        # Callbacks\n",
    "        callbacks = [\n",
    "            tf.keras.callbacks.EarlyStopping(\n",
    "                monitor='val_loss',\n",
    "                patience=10,\n",
    "                restore_best_weights=True\n",
    "            ),\n",
    "            tf.keras.callbacks.ReduceLROnPlateau(\n",
    "                monitor='val_loss',\n",
    "                factor=0.5,\n",
    "                patience=5,\n",
    "                min_lr=1e-6\n",
    "            )\n",
    "        ]\n",
    "        \n",
    "        # Create and compile model\n",
    "        model = create_combined_structure_model(X_train_struct.shape[1])\n",
    "        model.compile(\n",
    "            optimizer=tf.keras.optimizers.Adam(learning_rate=1e-3),\n",
    "            loss='binary_crossentropy',\n",
    "            metrics=['accuracy']\n",
    "        )\n",
    "        \n",
    "        # Train model\n",
    "        history = model.fit(\n",
    "            [X_train_struct[train_idx], X_train_contact[train_idx]], \n",
    "            y_train[train_idx],\n",
    "            validation_data=(\n",
    "                [X_train_struct[val_idx], X_train_contact[val_idx]], \n",
    "                y_train[val_idx]\n",
    "            ),\n",
    "            batch_size=32,\n",
    "            epochs=50,\n",
    "            callbacks=callbacks,\n",
    "            class_weight=class_weights,\n",
    "            verbose=1\n",
    "        )\n",
    "        \n",
    "        # Evaluate on validation set\n",
    "        val_pred = model.predict([X_train_struct[val_idx], X_train_contact[val_idx]])\n",
    "        val_pred_binary = (val_pred > 0.5).astype(int).flatten()\n",
    "        \n",
    "        # Calculate metrics\n",
    "        cm = confusion_matrix(y_train[val_idx], val_pred_binary)\n",
    "        metrics['acc'].append(accuracy_score(y_train[val_idx], val_pred_binary))\n",
    "        metrics['balanced_acc'].append(balanced_accuracy_score(y_train[val_idx], val_pred_binary))\n",
    "        metrics['mcc'].append(matthews_corrcoef(y_train[val_idx], val_pred_binary))\n",
    "        metrics['sn'].append(cm[1][1]/(cm[1][1]+cm[1][0]) if cm[1][0]+cm[1][1] > 0 else 0)\n",
    "        metrics['sp'].append(cm[0][0]/(cm[0][0]+cm[0][1]) if cm[0][0]+cm[0][1] > 0 else 0)\n",
    "        \n",
    "        # Predict on test set\n",
    "        test_pred = model.predict([X_test_struct, X_test_contact])\n",
    "        test_predictions.append(test_pred)\n",
    "        \n",
    "        print(f\"\\nFold {fold} Results:\")\n",
    "        print(f\"Accuracy: {metrics['acc'][-1]:.4f}\")\n",
    "        print(f\"Balanced Accuracy: {metrics['balanced_acc'][-1]:.4f}\")\n",
    "        print(f\"MCC: {metrics['mcc'][-1]:.4f}\")\n",
    "        print(f\"Sensitivity: {metrics['sn'][-1]:.4f}\")\n",
    "        print(f\"Specificity: {metrics['sp'][-1]:.4f}\")\n",
    "    \n",
    "    # Print average cross-validation results\n",
    "    print(\"\\nAverage Cross-validation Results:\")\n",
    "    for metric in metrics:\n",
    "        print(f\"{metric.upper()}: {np.mean(metrics[metric]):.4f} ± {np.std(metrics[metric]):.4f}\")\n",
    "    \n",
    "    # Ensemble predictions on test set\n",
    "    test_pred_avg = np.mean(test_predictions, axis=0)\n",
    "    test_pred_binary = (test_pred_avg > 0.5).astype(int).flatten()\n",
    "    \n",
    "    # Calculate final test metrics\n",
    "    cm_test = confusion_matrix(y_test, test_pred_binary)\n",
    "    \n",
    "    print(\"\\nFinal Test Set Results:\")\n",
    "    print(f\"Accuracy: {accuracy_score(y_test, test_pred_binary):.4f}\")\n",
    "    print(f\"Balanced Accuracy: {balanced_accuracy_score(y_test, test_pred_binary):.4f}\")\n",
    "    print(f\"MCC: {matthews_corrcoef(y_test, test_pred_binary):.4f}\")\n",
    "    print(f\"Sensitivity: {cm_test[1][1]/(cm_test[1][1]+cm_test[1][0]):.4f}\")\n",
    "    print(f\"Specificity: {cm_test[0][0]/(cm_test[0][0]+cm_test[0][1]):.4f}\")\n",
    "    print(\"Confusion Matrix:\")\n",
    "    print(cm_test)\n",
    "    \n",
    "    return model, test_pred_avg"
   ]
  },
  {
   "cell_type": "code",
   "execution_count": 8,
   "metadata": {},
   "outputs": [
    {
     "name": "stdout",
     "output_type": "stream",
     "text": [
      "Loading structural data...\n",
      "phi features shape: (8853, 2)\n",
      "psi features shape: (8853, 2)\n",
      "omega features shape: (8853, 2)\n",
      "SASA features shape: (8853, 3)\n",
      "chi1 features shape: (8853, 2)\n",
      "chi2 features shape: (8853, 2)\n",
      "chi3 features shape: (8853, 2)\n",
      "chi4 features shape: (8853, 2)\n",
      "SS features shape: (8853, 3)\n",
      "plDDT features shape: (8853, 1)\n",
      "\n",
      "Final combined features shape: (8853, 21)\n",
      "Feature list lengths: [2, 2, 2, 3, 2, 2, 2, 2, 3, 1]\n",
      "phi features shape: (2737, 2)\n",
      "psi features shape: (2737, 2)\n",
      "omega features shape: (2737, 2)\n",
      "SASA features shape: (2737, 3)\n",
      "chi1 features shape: (2737, 2)\n",
      "chi2 features shape: (2737, 2)\n",
      "chi3 features shape: (2737, 2)\n",
      "chi4 features shape: (2737, 2)\n",
      "SS features shape: (2737, 3)\n",
      "plDDT features shape: (2737, 1)\n",
      "\n",
      "Final combined features shape: (2737, 21)\n",
      "Feature list lengths: [2, 2, 2, 3, 2, 2, 2, 2, 3, 1]\n"
     ]
    },
    {
     "name": "stderr",
     "output_type": "stream",
     "text": [
      "WARNING:absl:At this time, the v2.11+ optimizer `tf.keras.optimizers.Adam` runs slowly on M1/M2 Macs, please use the legacy Keras optimizer instead, located at `tf.keras.optimizers.legacy.Adam`.\n",
      "WARNING:absl:There is a known slowdown when using v2.11+ Keras optimizers on M1/M2 Macs. Falling back to the legacy Keras optimizer, i.e., `tf.keras.optimizers.legacy.Adam`.\n"
     ]
    },
    {
     "name": "stdout",
     "output_type": "stream",
     "text": [
      "Training data shapes - Structural: (8853, 21), Contact Map: (8853, 33, 33)\n",
      "Testing data shapes - Structural: (2737, 21), Contact Map: (2737, 33, 33)\n",
      "Class weights: {0: 1.0388406477352734, 1: 0.9639590592334495}\n",
      "\n",
      "Fold 1/5\n",
      "Epoch 1/50\n"
     ]
    },
    {
     "name": "stderr",
     "output_type": "stream",
     "text": [
      "2025-05-18 12:42:16.415937: I tensorflow/core/common_runtime/executor.cc:1197] [/device:CPU:0] (DEBUG INFO) Executor start aborting (this does not indicate an error and you can ignore this message): INVALID_ARGUMENT: You must feed a value for placeholder tensor 'Placeholder/_10' with dtype float and shape [7082,21]\n",
      "\t [[{{node Placeholder/_10}}]]\n",
      "2025-05-18 12:42:16.416177: I tensorflow/core/common_runtime/executor.cc:1197] [/device:CPU:0] (DEBUG INFO) Executor start aborting (this does not indicate an error and you can ignore this message): INVALID_ARGUMENT: You must feed a value for placeholder tensor 'Placeholder/_21' with dtype double and shape [2]\n",
      "\t [[{{node Placeholder/_21}}]]\n",
      "2025-05-18 12:42:16.445099: W tensorflow/tsl/platform/profile_utils/cpu_utils.cc:128] Failed to get CPU frequency: 0 Hz\n"
     ]
    },
    {
     "name": "stdout",
     "output_type": "stream",
     "text": [
      "221/222 [============================>.] - ETA: 0s - loss: 0.7037 - accuracy: 0.5738"
     ]
    },
    {
     "name": "stderr",
     "output_type": "stream",
     "text": [
      "2025-05-18 12:42:18.586064: I tensorflow/core/common_runtime/executor.cc:1197] [/device:CPU:0] (DEBUG INFO) Executor start aborting (this does not indicate an error and you can ignore this message): INVALID_ARGUMENT: You must feed a value for placeholder tensor 'Placeholder/_10' with dtype float and shape [1771,21]\n",
      "\t [[{{node Placeholder/_10}}]]\n",
      "2025-05-18 12:42:18.586246: I tensorflow/core/common_runtime/executor.cc:1197] [/device:CPU:0] (DEBUG INFO) Executor start aborting (this does not indicate an error and you can ignore this message): INVALID_ARGUMENT: You must feed a value for placeholder tensor 'Placeholder/_12' with dtype int64 and shape [1771]\n",
      "\t [[{{node Placeholder/_12}}]]\n"
     ]
    },
    {
     "name": "stdout",
     "output_type": "stream",
     "text": [
      "222/222 [==============================] - 2s 8ms/step - loss: 0.7041 - accuracy: 0.5736 - val_loss: 0.6655 - val_accuracy: 0.5884 - lr: 0.0010\n",
      "Epoch 2/50\n",
      "222/222 [==============================] - 2s 9ms/step - loss: 0.6714 - accuracy: 0.5911 - val_loss: 0.6532 - val_accuracy: 0.6132 - lr: 0.0010\n",
      "Epoch 3/50\n",
      "222/222 [==============================] - 2s 10ms/step - loss: 0.6596 - accuracy: 0.6004 - val_loss: 0.6829 - val_accuracy: 0.5844 - lr: 0.0010\n",
      "Epoch 4/50\n",
      "222/222 [==============================] - 3s 13ms/step - loss: 0.6549 - accuracy: 0.6154 - val_loss: 0.6502 - val_accuracy: 0.6217 - lr: 0.0010\n",
      "Epoch 5/50\n",
      "222/222 [==============================] - 2s 8ms/step - loss: 0.6447 - accuracy: 0.6282 - val_loss: 0.6533 - val_accuracy: 0.6110 - lr: 0.0010\n",
      "Epoch 6/50\n",
      "222/222 [==============================] - 2s 10ms/step - loss: 0.6443 - accuracy: 0.6282 - val_loss: 0.6836 - val_accuracy: 0.5584 - lr: 0.0010\n",
      "Epoch 7/50\n",
      "222/222 [==============================] - 2s 8ms/step - loss: 0.6424 - accuracy: 0.6272 - val_loss: 0.6843 - val_accuracy: 0.5647 - lr: 0.0010\n",
      "Epoch 8/50\n",
      "222/222 [==============================] - 2s 7ms/step - loss: 0.6392 - accuracy: 0.6326 - val_loss: 0.6678 - val_accuracy: 0.5901 - lr: 0.0010\n",
      "Epoch 9/50\n",
      "222/222 [==============================] - 2s 9ms/step - loss: 0.6314 - accuracy: 0.6463 - val_loss: 0.6541 - val_accuracy: 0.6177 - lr: 0.0010\n",
      "Epoch 10/50\n",
      "222/222 [==============================] - 2s 11ms/step - loss: 0.6167 - accuracy: 0.6542 - val_loss: 0.6609 - val_accuracy: 0.6262 - lr: 5.0000e-04\n",
      "Epoch 11/50\n",
      "222/222 [==============================] - 2s 11ms/step - loss: 0.6035 - accuracy: 0.6653 - val_loss: 0.6824 - val_accuracy: 0.6014 - lr: 5.0000e-04\n",
      "Epoch 12/50\n",
      "222/222 [==============================] - 4s 16ms/step - loss: 0.5987 - accuracy: 0.6785 - val_loss: 0.6896 - val_accuracy: 0.5872 - lr: 5.0000e-04\n",
      "Epoch 13/50\n",
      "222/222 [==============================] - 2s 8ms/step - loss: 0.5870 - accuracy: 0.6799 - val_loss: 0.6827 - val_accuracy: 0.5940 - lr: 5.0000e-04\n",
      "Epoch 14/50\n",
      "222/222 [==============================] - 2s 8ms/step - loss: 0.5756 - accuracy: 0.6980 - val_loss: 0.7093 - val_accuracy: 0.5793 - lr: 5.0000e-04\n",
      "20/56 [=========>....................] - ETA: 0s"
     ]
    },
    {
     "name": "stderr",
     "output_type": "stream",
     "text": [
      "2025-05-18 12:42:47.389332: I tensorflow/core/common_runtime/executor.cc:1197] [/device:CPU:0] (DEBUG INFO) Executor start aborting (this does not indicate an error and you can ignore this message): INVALID_ARGUMENT: You must feed a value for placeholder tensor 'Placeholder/_11' with dtype float and shape [1771,33,33]\n",
      "\t [[{{node Placeholder/_11}}]]\n",
      "2025-05-18 12:42:47.389591: I tensorflow/core/common_runtime/executor.cc:1197] [/device:CPU:0] (DEBUG INFO) Executor start aborting (this does not indicate an error and you can ignore this message): INVALID_ARGUMENT: You must feed a value for placeholder tensor 'Placeholder/_11' with dtype float and shape [1771,33,33]\n",
      "\t [[{{node Placeholder/_11}}]]\n"
     ]
    },
    {
     "name": "stdout",
     "output_type": "stream",
     "text": [
      "56/56 [==============================] - 0s 3ms/step\n",
      "58/86 [===================>..........] - ETA: 0s"
     ]
    },
    {
     "name": "stderr",
     "output_type": "stream",
     "text": [
      "2025-05-18 12:42:47.732888: I tensorflow/core/common_runtime/executor.cc:1197] [/device:CPU:0] (DEBUG INFO) Executor start aborting (this does not indicate an error and you can ignore this message): INVALID_ARGUMENT: You must feed a value for placeholder tensor 'Placeholder/_11' with dtype float and shape [2737,33,33]\n",
      "\t [[{{node Placeholder/_11}}]]\n",
      "2025-05-18 12:42:47.733049: I tensorflow/core/common_runtime/executor.cc:1197] [/device:CPU:0] (DEBUG INFO) Executor start aborting (this does not indicate an error and you can ignore this message): INVALID_ARGUMENT: You must feed a value for placeholder tensor 'Placeholder/_11' with dtype float and shape [2737,33,33]\n",
      "\t [[{{node Placeholder/_11}}]]\n"
     ]
    },
    {
     "name": "stdout",
     "output_type": "stream",
     "text": [
      "86/86 [==============================] - 0s 3ms/step\n",
      "\n",
      "Fold 1 Results:\n",
      "Accuracy: 0.6217\n",
      "Balanced Accuracy: 0.6211\n",
      "MCC: 0.2422\n",
      "Sensitivity: 0.6376\n",
      "Specificity: 0.6045\n",
      "\n",
      "Fold 2/5\n"
     ]
    },
    {
     "name": "stderr",
     "output_type": "stream",
     "text": [
      "WARNING:absl:At this time, the v2.11+ optimizer `tf.keras.optimizers.Adam` runs slowly on M1/M2 Macs, please use the legacy Keras optimizer instead, located at `tf.keras.optimizers.legacy.Adam`.\n",
      "WARNING:absl:There is a known slowdown when using v2.11+ Keras optimizers on M1/M2 Macs. Falling back to the legacy Keras optimizer, i.e., `tf.keras.optimizers.legacy.Adam`.\n"
     ]
    },
    {
     "name": "stdout",
     "output_type": "stream",
     "text": [
      "Epoch 1/50\n"
     ]
    },
    {
     "name": "stderr",
     "output_type": "stream",
     "text": [
      "2025-05-18 12:42:48.143508: I tensorflow/core/common_runtime/executor.cc:1197] [/device:CPU:0] (DEBUG INFO) Executor start aborting (this does not indicate an error and you can ignore this message): INVALID_ARGUMENT: You must feed a value for placeholder tensor 'Placeholder/_21' with dtype double and shape [2]\n",
      "\t [[{{node Placeholder/_21}}]]\n",
      "2025-05-18 12:42:48.143716: I tensorflow/core/common_runtime/executor.cc:1197] [/device:CPU:0] (DEBUG INFO) Executor start aborting (this does not indicate an error and you can ignore this message): INVALID_ARGUMENT: You must feed a value for placeholder tensor 'Placeholder/_10' with dtype float and shape [7082,21]\n",
      "\t [[{{node Placeholder/_10}}]]\n"
     ]
    },
    {
     "name": "stdout",
     "output_type": "stream",
     "text": [
      "220/222 [============================>.] - ETA: 0s - loss: 0.6986 - accuracy: 0.5568"
     ]
    },
    {
     "name": "stderr",
     "output_type": "stream",
     "text": [
      "2025-05-18 12:42:50.214179: I tensorflow/core/common_runtime/executor.cc:1197] [/device:CPU:0] (DEBUG INFO) Executor start aborting (this does not indicate an error and you can ignore this message): INVALID_ARGUMENT: You must feed a value for placeholder tensor 'Placeholder/_10' with dtype float and shape [1771,21]\n",
      "\t [[{{node Placeholder/_10}}]]\n",
      "2025-05-18 12:42:50.214435: I tensorflow/core/common_runtime/executor.cc:1197] [/device:CPU:0] (DEBUG INFO) Executor start aborting (this does not indicate an error and you can ignore this message): INVALID_ARGUMENT: You must feed a value for placeholder tensor 'Placeholder/_12' with dtype int64 and shape [1771]\n",
      "\t [[{{node Placeholder/_12}}]]\n"
     ]
    },
    {
     "name": "stdout",
     "output_type": "stream",
     "text": [
      "222/222 [==============================] - 2s 9ms/step - loss: 0.6985 - accuracy: 0.5569 - val_loss: 0.6658 - val_accuracy: 0.6110 - lr: 0.0010\n",
      "Epoch 2/50\n",
      "222/222 [==============================] - 2s 9ms/step - loss: 0.6709 - accuracy: 0.5884 - val_loss: 0.6559 - val_accuracy: 0.6160 - lr: 0.0010\n",
      "Epoch 3/50\n",
      "222/222 [==============================] - 2s 7ms/step - loss: 0.6592 - accuracy: 0.6029 - val_loss: 0.6646 - val_accuracy: 0.5889 - lr: 0.0010\n",
      "Epoch 4/50\n",
      "222/222 [==============================] - 2s 8ms/step - loss: 0.6510 - accuracy: 0.6202 - val_loss: 0.6494 - val_accuracy: 0.6217 - lr: 0.0010\n",
      "Epoch 5/50\n",
      "222/222 [==============================] - 2s 8ms/step - loss: 0.6484 - accuracy: 0.6221 - val_loss: 0.6698 - val_accuracy: 0.6008 - lr: 0.0010\n",
      "Epoch 6/50\n",
      "222/222 [==============================] - 2s 8ms/step - loss: 0.6358 - accuracy: 0.6367 - val_loss: 0.6592 - val_accuracy: 0.6149 - lr: 0.0010\n",
      "Epoch 7/50\n",
      "222/222 [==============================] - 2s 9ms/step - loss: 0.6272 - accuracy: 0.6447 - val_loss: 0.6685 - val_accuracy: 0.6042 - lr: 0.0010\n",
      "Epoch 8/50\n",
      "222/222 [==============================] - 2s 7ms/step - loss: 0.6167 - accuracy: 0.6610 - val_loss: 0.6743 - val_accuracy: 0.5997 - lr: 0.0010\n",
      "Epoch 9/50\n",
      "222/222 [==============================] - 2s 8ms/step - loss: 0.6076 - accuracy: 0.6738 - val_loss: 0.6616 - val_accuracy: 0.6104 - lr: 0.0010\n",
      "Epoch 10/50\n",
      "222/222 [==============================] - 2s 9ms/step - loss: 0.5728 - accuracy: 0.7087 - val_loss: 0.6801 - val_accuracy: 0.6093 - lr: 5.0000e-04\n",
      "Epoch 11/50\n",
      "222/222 [==============================] - 2s 8ms/step - loss: 0.5540 - accuracy: 0.7145 - val_loss: 0.7238 - val_accuracy: 0.5951 - lr: 5.0000e-04\n",
      "Epoch 12/50\n",
      "222/222 [==============================] - 2s 8ms/step - loss: 0.5425 - accuracy: 0.7208 - val_loss: 0.7582 - val_accuracy: 0.5822 - lr: 5.0000e-04\n",
      "Epoch 13/50\n",
      "222/222 [==============================] - 2s 8ms/step - loss: 0.5213 - accuracy: 0.7433 - val_loss: 0.7258 - val_accuracy: 0.6155 - lr: 5.0000e-04\n",
      "Epoch 14/50\n",
      "222/222 [==============================] - 2s 8ms/step - loss: 0.5109 - accuracy: 0.7478 - val_loss: 0.7685 - val_accuracy: 0.5906 - lr: 5.0000e-04\n",
      "39/56 [===================>..........] - ETA: 0s"
     ]
    },
    {
     "name": "stderr",
     "output_type": "stream",
     "text": [
      "2025-05-18 12:43:13.222138: I tensorflow/core/common_runtime/executor.cc:1197] [/device:CPU:0] (DEBUG INFO) Executor start aborting (this does not indicate an error and you can ignore this message): INVALID_ARGUMENT: You must feed a value for placeholder tensor 'Placeholder/_11' with dtype float and shape [1771,33,33]\n",
      "\t [[{{node Placeholder/_11}}]]\n",
      "2025-05-18 12:43:13.222312: I tensorflow/core/common_runtime/executor.cc:1197] [/device:CPU:0] (DEBUG INFO) Executor start aborting (this does not indicate an error and you can ignore this message): INVALID_ARGUMENT: You must feed a value for placeholder tensor 'Placeholder/_11' with dtype float and shape [1771,33,33]\n",
      "\t [[{{node Placeholder/_11}}]]\n"
     ]
    },
    {
     "name": "stdout",
     "output_type": "stream",
     "text": [
      "56/56 [==============================] - 0s 3ms/step\n",
      "58/86 [===================>..........] - ETA: 0s"
     ]
    },
    {
     "name": "stderr",
     "output_type": "stream",
     "text": [
      "2025-05-18 12:43:13.474292: I tensorflow/core/common_runtime/executor.cc:1197] [/device:CPU:0] (DEBUG INFO) Executor start aborting (this does not indicate an error and you can ignore this message): INVALID_ARGUMENT: You must feed a value for placeholder tensor 'Placeholder/_11' with dtype float and shape [2737,33,33]\n",
      "\t [[{{node Placeholder/_11}}]]\n",
      "2025-05-18 12:43:13.474455: I tensorflow/core/common_runtime/executor.cc:1197] [/device:CPU:0] (DEBUG INFO) Executor start aborting (this does not indicate an error and you can ignore this message): INVALID_ARGUMENT: You must feed a value for placeholder tensor 'Placeholder/_11' with dtype float and shape [2737,33,33]\n",
      "\t [[{{node Placeholder/_11}}]]\n"
     ]
    },
    {
     "name": "stdout",
     "output_type": "stream",
     "text": [
      "86/86 [==============================] - 0s 3ms/step\n",
      "\n",
      "Fold 2 Results:\n",
      "Accuracy: 0.6217\n",
      "Balanced Accuracy: 0.6215\n",
      "MCC: 0.2429\n",
      "Sensitivity: 0.6257\n",
      "Specificity: 0.6174\n",
      "\n",
      "Fold 3/5\n"
     ]
    },
    {
     "name": "stderr",
     "output_type": "stream",
     "text": [
      "WARNING:absl:At this time, the v2.11+ optimizer `tf.keras.optimizers.Adam` runs slowly on M1/M2 Macs, please use the legacy Keras optimizer instead, located at `tf.keras.optimizers.legacy.Adam`.\n",
      "WARNING:absl:There is a known slowdown when using v2.11+ Keras optimizers on M1/M2 Macs. Falling back to the legacy Keras optimizer, i.e., `tf.keras.optimizers.legacy.Adam`.\n"
     ]
    },
    {
     "name": "stdout",
     "output_type": "stream",
     "text": [
      "Epoch 1/50\n"
     ]
    },
    {
     "name": "stderr",
     "output_type": "stream",
     "text": [
      "2025-05-18 12:43:13.833027: I tensorflow/core/common_runtime/executor.cc:1197] [/device:CPU:0] (DEBUG INFO) Executor start aborting (this does not indicate an error and you can ignore this message): INVALID_ARGUMENT: You must feed a value for placeholder tensor 'Placeholder/_21' with dtype double and shape [2]\n",
      "\t [[{{node Placeholder/_21}}]]\n",
      "2025-05-18 12:43:13.833235: I tensorflow/core/common_runtime/executor.cc:1197] [/device:CPU:0] (DEBUG INFO) Executor start aborting (this does not indicate an error and you can ignore this message): INVALID_ARGUMENT: You must feed a value for placeholder tensor 'Placeholder/_12' with dtype int64 and shape [7082]\n",
      "\t [[{{node Placeholder/_12}}]]\n"
     ]
    },
    {
     "name": "stdout",
     "output_type": "stream",
     "text": [
      "215/222 [============================>.] - ETA: 0s - loss: 0.7051 - accuracy: 0.5493"
     ]
    },
    {
     "name": "stderr",
     "output_type": "stream",
     "text": [
      "2025-05-18 12:43:15.997235: I tensorflow/core/common_runtime/executor.cc:1197] [/device:CPU:0] (DEBUG INFO) Executor start aborting (this does not indicate an error and you can ignore this message): INVALID_ARGUMENT: You must feed a value for placeholder tensor 'Placeholder/_12' with dtype int64 and shape [1771]\n",
      "\t [[{{node Placeholder/_12}}]]\n",
      "2025-05-18 12:43:15.997404: I tensorflow/core/common_runtime/executor.cc:1197] [/device:CPU:0] (DEBUG INFO) Executor start aborting (this does not indicate an error and you can ignore this message): INVALID_ARGUMENT: You must feed a value for placeholder tensor 'Placeholder/_12' with dtype int64 and shape [1771]\n",
      "\t [[{{node Placeholder/_12}}]]\n"
     ]
    },
    {
     "name": "stdout",
     "output_type": "stream",
     "text": [
      "222/222 [==============================] - 2s 9ms/step - loss: 0.7053 - accuracy: 0.5497 - val_loss: 0.6670 - val_accuracy: 0.5844 - lr: 0.0010\n",
      "Epoch 2/50\n",
      "222/222 [==============================] - 2s 8ms/step - loss: 0.6743 - accuracy: 0.5923 - val_loss: 0.6638 - val_accuracy: 0.5844 - lr: 0.0010\n",
      "Epoch 3/50\n",
      "222/222 [==============================] - 2s 8ms/step - loss: 0.6598 - accuracy: 0.6097 - val_loss: 0.6852 - val_accuracy: 0.5759 - lr: 0.0010\n",
      "Epoch 4/50\n",
      "222/222 [==============================] - 2s 8ms/step - loss: 0.6521 - accuracy: 0.6180 - val_loss: 0.6701 - val_accuracy: 0.5771 - lr: 0.0010\n",
      "Epoch 5/50\n",
      "222/222 [==============================] - 2s 8ms/step - loss: 0.6454 - accuracy: 0.6240 - val_loss: 0.6604 - val_accuracy: 0.6098 - lr: 0.0010\n",
      "Epoch 6/50\n",
      "222/222 [==============================] - 2s 8ms/step - loss: 0.6399 - accuracy: 0.6332 - val_loss: 0.6857 - val_accuracy: 0.5663 - lr: 0.0010\n",
      "Epoch 7/50\n",
      "222/222 [==============================] - 2s 8ms/step - loss: 0.6227 - accuracy: 0.6555 - val_loss: 0.6591 - val_accuracy: 0.6189 - lr: 0.0010\n",
      "Epoch 8/50\n",
      "222/222 [==============================] - 2s 8ms/step - loss: 0.6107 - accuracy: 0.6628 - val_loss: 0.6752 - val_accuracy: 0.6008 - lr: 0.0010\n",
      "Epoch 9/50\n",
      "222/222 [==============================] - 2s 8ms/step - loss: 0.6021 - accuracy: 0.6738 - val_loss: 0.6702 - val_accuracy: 0.5963 - lr: 0.0010\n",
      "Epoch 10/50\n",
      "222/222 [==============================] - 2s 9ms/step - loss: 0.5946 - accuracy: 0.6875 - val_loss: 0.7019 - val_accuracy: 0.6222 - lr: 0.0010\n",
      "Epoch 11/50\n",
      "222/222 [==============================] - 2s 9ms/step - loss: 0.5743 - accuracy: 0.6984 - val_loss: 0.7043 - val_accuracy: 0.5748 - lr: 0.0010\n",
      "Epoch 12/50\n",
      "222/222 [==============================] - 3s 14ms/step - loss: 0.5668 - accuracy: 0.7030 - val_loss: 0.7040 - val_accuracy: 0.5997 - lr: 0.0010\n",
      "Epoch 13/50\n",
      "222/222 [==============================] - 2s 10ms/step - loss: 0.5358 - accuracy: 0.7289 - val_loss: 0.7094 - val_accuracy: 0.5839 - lr: 5.0000e-04\n",
      "Epoch 14/50\n",
      "222/222 [==============================] - 3s 14ms/step - loss: 0.5140 - accuracy: 0.7477 - val_loss: 0.7243 - val_accuracy: 0.5963 - lr: 5.0000e-04\n",
      "Epoch 15/50\n",
      "222/222 [==============================] - 2s 9ms/step - loss: 0.4937 - accuracy: 0.7578 - val_loss: 0.7353 - val_accuracy: 0.5935 - lr: 5.0000e-04\n",
      "Epoch 16/50\n",
      "222/222 [==============================] - 2s 11ms/step - loss: 0.4787 - accuracy: 0.7679 - val_loss: 0.7584 - val_accuracy: 0.5985 - lr: 5.0000e-04\n",
      "Epoch 17/50\n",
      "222/222 [==============================] - 2s 9ms/step - loss: 0.4656 - accuracy: 0.7772 - val_loss: 0.7598 - val_accuracy: 0.5635 - lr: 5.0000e-04\n",
      "28/56 [==============>...............] - ETA: 0s"
     ]
    },
    {
     "name": "stderr",
     "output_type": "stream",
     "text": [
      "2025-05-18 12:43:48.974386: I tensorflow/core/common_runtime/executor.cc:1197] [/device:CPU:0] (DEBUG INFO) Executor start aborting (this does not indicate an error and you can ignore this message): INVALID_ARGUMENT: You must feed a value for placeholder tensor 'Placeholder/_11' with dtype float and shape [1771,33,33]\n",
      "\t [[{{node Placeholder/_11}}]]\n",
      "2025-05-18 12:43:48.974614: I tensorflow/core/common_runtime/executor.cc:1197] [/device:CPU:0] (DEBUG INFO) Executor start aborting (this does not indicate an error and you can ignore this message): INVALID_ARGUMENT: You must feed a value for placeholder tensor 'Placeholder/_11' with dtype float and shape [1771,33,33]\n",
      "\t [[{{node Placeholder/_11}}]]\n"
     ]
    },
    {
     "name": "stdout",
     "output_type": "stream",
     "text": [
      "56/56 [==============================] - 0s 4ms/step\n",
      "55/86 [==================>...........] - ETA: 0s"
     ]
    },
    {
     "name": "stderr",
     "output_type": "stream",
     "text": [
      "2025-05-18 12:43:49.278145: I tensorflow/core/common_runtime/executor.cc:1197] [/device:CPU:0] (DEBUG INFO) Executor start aborting (this does not indicate an error and you can ignore this message): INVALID_ARGUMENT: You must feed a value for placeholder tensor 'Placeholder/_11' with dtype float and shape [2737,33,33]\n",
      "\t [[{{node Placeholder/_11}}]]\n",
      "2025-05-18 12:43:49.278300: I tensorflow/core/common_runtime/executor.cc:1197] [/device:CPU:0] (DEBUG INFO) Executor start aborting (this does not indicate an error and you can ignore this message): INVALID_ARGUMENT: You must feed a value for placeholder tensor 'Placeholder/_11' with dtype float and shape [2737,33,33]\n",
      "\t [[{{node Placeholder/_11}}]]\n"
     ]
    },
    {
     "name": "stdout",
     "output_type": "stream",
     "text": [
      "86/86 [==============================] - 0s 3ms/step\n",
      "\n",
      "Fold 3 Results:\n",
      "Accuracy: 0.6189\n",
      "Balanced Accuracy: 0.6176\n",
      "MCC: 0.2358\n",
      "Sensitivity: 0.6514\n",
      "Specificity: 0.5838\n",
      "\n",
      "Fold 4/5\n"
     ]
    },
    {
     "name": "stderr",
     "output_type": "stream",
     "text": [
      "WARNING:absl:At this time, the v2.11+ optimizer `tf.keras.optimizers.Adam` runs slowly on M1/M2 Macs, please use the legacy Keras optimizer instead, located at `tf.keras.optimizers.legacy.Adam`.\n",
      "WARNING:absl:There is a known slowdown when using v2.11+ Keras optimizers on M1/M2 Macs. Falling back to the legacy Keras optimizer, i.e., `tf.keras.optimizers.legacy.Adam`.\n"
     ]
    },
    {
     "name": "stdout",
     "output_type": "stream",
     "text": [
      "Epoch 1/50\n"
     ]
    },
    {
     "name": "stderr",
     "output_type": "stream",
     "text": [
      "2025-05-18 12:43:49.694409: I tensorflow/core/common_runtime/executor.cc:1197] [/device:CPU:0] (DEBUG INFO) Executor start aborting (this does not indicate an error and you can ignore this message): INVALID_ARGUMENT: You must feed a value for placeholder tensor 'Placeholder/_12' with dtype int64 and shape [7083]\n",
      "\t [[{{node Placeholder/_12}}]]\n",
      "2025-05-18 12:43:49.694619: I tensorflow/core/common_runtime/executor.cc:1197] [/device:CPU:0] (DEBUG INFO) Executor start aborting (this does not indicate an error and you can ignore this message): INVALID_ARGUMENT: You must feed a value for placeholder tensor 'Placeholder/_21' with dtype double and shape [2]\n",
      "\t [[{{node Placeholder/_21}}]]\n"
     ]
    },
    {
     "name": "stdout",
     "output_type": "stream",
     "text": [
      "218/222 [============================>.] - ETA: 0s - loss: 0.7121 - accuracy: 0.5638"
     ]
    },
    {
     "name": "stderr",
     "output_type": "stream",
     "text": [
      "2025-05-18 12:43:52.255178: I tensorflow/core/common_runtime/executor.cc:1197] [/device:CPU:0] (DEBUG INFO) Executor start aborting (this does not indicate an error and you can ignore this message): INVALID_ARGUMENT: You must feed a value for placeholder tensor 'Placeholder/_12' with dtype int64 and shape [1770]\n",
      "\t [[{{node Placeholder/_12}}]]\n",
      "2025-05-18 12:43:52.255422: I tensorflow/core/common_runtime/executor.cc:1197] [/device:CPU:0] (DEBUG INFO) Executor start aborting (this does not indicate an error and you can ignore this message): INVALID_ARGUMENT: You must feed a value for placeholder tensor 'Placeholder/_12' with dtype int64 and shape [1770]\n",
      "\t [[{{node Placeholder/_12}}]]\n"
     ]
    },
    {
     "name": "stdout",
     "output_type": "stream",
     "text": [
      "222/222 [==============================] - 3s 11ms/step - loss: 0.7113 - accuracy: 0.5646 - val_loss: 0.6707 - val_accuracy: 0.5808 - lr: 0.0010\n",
      "Epoch 2/50\n",
      "222/222 [==============================] - 2s 10ms/step - loss: 0.6688 - accuracy: 0.5903 - val_loss: 0.6661 - val_accuracy: 0.5881 - lr: 0.0010\n",
      "Epoch 3/50\n",
      "222/222 [==============================] - 2s 11ms/step - loss: 0.6551 - accuracy: 0.6174 - val_loss: 0.6685 - val_accuracy: 0.5994 - lr: 0.0010\n",
      "Epoch 4/50\n",
      "222/222 [==============================] - 2s 9ms/step - loss: 0.6466 - accuracy: 0.6274 - val_loss: 0.6683 - val_accuracy: 0.6102 - lr: 0.0010\n",
      "Epoch 5/50\n",
      "222/222 [==============================] - 2s 9ms/step - loss: 0.6376 - accuracy: 0.6355 - val_loss: 0.6744 - val_accuracy: 0.5859 - lr: 0.0010\n",
      "Epoch 6/50\n",
      "222/222 [==============================] - 3s 13ms/step - loss: 0.6290 - accuracy: 0.6480 - val_loss: 0.7327 - val_accuracy: 0.5441 - lr: 0.0010\n",
      "Epoch 7/50\n",
      "222/222 [==============================] - 4s 18ms/step - loss: 0.6182 - accuracy: 0.6614 - val_loss: 0.6672 - val_accuracy: 0.6000 - lr: 0.0010\n",
      "Epoch 8/50\n",
      "222/222 [==============================] - 2s 9ms/step - loss: 0.6014 - accuracy: 0.6750 - val_loss: 0.6817 - val_accuracy: 0.6045 - lr: 5.0000e-04\n",
      "Epoch 9/50\n",
      "222/222 [==============================] - 2s 8ms/step - loss: 0.5851 - accuracy: 0.6880 - val_loss: 0.6840 - val_accuracy: 0.6045 - lr: 5.0000e-04\n",
      "Epoch 10/50\n",
      "222/222 [==============================] - 2s 8ms/step - loss: 0.5640 - accuracy: 0.7123 - val_loss: 0.7033 - val_accuracy: 0.6124 - lr: 5.0000e-04\n",
      "Epoch 11/50\n",
      "222/222 [==============================] - 2s 9ms/step - loss: 0.5544 - accuracy: 0.7073 - val_loss: 0.7170 - val_accuracy: 0.5859 - lr: 5.0000e-04\n",
      "Epoch 12/50\n",
      "222/222 [==============================] - 2s 9ms/step - loss: 0.5402 - accuracy: 0.7272 - val_loss: 0.7654 - val_accuracy: 0.5955 - lr: 5.0000e-04\n",
      "33/56 [================>.............] - ETA: 0s"
     ]
    },
    {
     "name": "stderr",
     "output_type": "stream",
     "text": [
      "2025-05-18 12:44:17.546155: I tensorflow/core/common_runtime/executor.cc:1197] [/device:CPU:0] (DEBUG INFO) Executor start aborting (this does not indicate an error and you can ignore this message): INVALID_ARGUMENT: You must feed a value for placeholder tensor 'Placeholder/_11' with dtype float and shape [1770,33,33]\n",
      "\t [[{{node Placeholder/_11}}]]\n",
      "2025-05-18 12:44:17.546426: I tensorflow/core/common_runtime/executor.cc:1197] [/device:CPU:0] (DEBUG INFO) Executor start aborting (this does not indicate an error and you can ignore this message): INVALID_ARGUMENT: You must feed a value for placeholder tensor 'Placeholder/_11' with dtype float and shape [1770,33,33]\n",
      "\t [[{{node Placeholder/_11}}]]\n"
     ]
    },
    {
     "name": "stdout",
     "output_type": "stream",
     "text": [
      "56/56 [==============================] - 0s 3ms/step\n",
      "51/86 [================>.............] - ETA: 0s"
     ]
    },
    {
     "name": "stderr",
     "output_type": "stream",
     "text": [
      "2025-05-18 12:44:17.844291: I tensorflow/core/common_runtime/executor.cc:1197] [/device:CPU:0] (DEBUG INFO) Executor start aborting (this does not indicate an error and you can ignore this message): INVALID_ARGUMENT: You must feed a value for placeholder tensor 'Placeholder/_11' with dtype float and shape [2737,33,33]\n",
      "\t [[{{node Placeholder/_11}}]]\n",
      "2025-05-18 12:44:17.844462: I tensorflow/core/common_runtime/executor.cc:1197] [/device:CPU:0] (DEBUG INFO) Executor start aborting (this does not indicate an error and you can ignore this message): INVALID_ARGUMENT: You must feed a value for placeholder tensor 'Placeholder/_11' with dtype float and shape [2737,33,33]\n",
      "\t [[{{node Placeholder/_11}}]]\n"
     ]
    },
    {
     "name": "stdout",
     "output_type": "stream",
     "text": [
      "86/86 [==============================] - 0s 4ms/step\n"
     ]
    },
    {
     "name": "stderr",
     "output_type": "stream",
     "text": [
      "WARNING:absl:At this time, the v2.11+ optimizer `tf.keras.optimizers.Adam` runs slowly on M1/M2 Macs, please use the legacy Keras optimizer instead, located at `tf.keras.optimizers.legacy.Adam`.\n",
      "WARNING:absl:There is a known slowdown when using v2.11+ Keras optimizers on M1/M2 Macs. Falling back to the legacy Keras optimizer, i.e., `tf.keras.optimizers.legacy.Adam`.\n"
     ]
    },
    {
     "name": "stdout",
     "output_type": "stream",
     "text": [
      "\n",
      "Fold 4 Results:\n",
      "Accuracy: 0.5881\n",
      "Balanced Accuracy: 0.5814\n",
      "MCC: 0.1750\n",
      "Sensitivity: 0.7625\n",
      "Specificity: 0.4002\n",
      "\n",
      "Fold 5/5\n",
      "Epoch 1/50\n"
     ]
    },
    {
     "name": "stderr",
     "output_type": "stream",
     "text": [
      "2025-05-18 12:44:18.360309: I tensorflow/core/common_runtime/executor.cc:1197] [/device:CPU:0] (DEBUG INFO) Executor start aborting (this does not indicate an error and you can ignore this message): INVALID_ARGUMENT: You must feed a value for placeholder tensor 'Placeholder/_10' with dtype float and shape [7083,21]\n",
      "\t [[{{node Placeholder/_10}}]]\n",
      "2025-05-18 12:44:18.360523: I tensorflow/core/common_runtime/executor.cc:1197] [/device:CPU:0] (DEBUG INFO) Executor start aborting (this does not indicate an error and you can ignore this message): INVALID_ARGUMENT: You must feed a value for placeholder tensor 'Placeholder/_11' with dtype float and shape [7083,33,33]\n",
      "\t [[{{node Placeholder/_11}}]]\n"
     ]
    },
    {
     "name": "stdout",
     "output_type": "stream",
     "text": [
      "221/222 [============================>.] - ETA: 0s - loss: 0.7004 - accuracy: 0.5737"
     ]
    },
    {
     "name": "stderr",
     "output_type": "stream",
     "text": [
      "2025-05-18 12:44:20.472401: I tensorflow/core/common_runtime/executor.cc:1197] [/device:CPU:0] (DEBUG INFO) Executor start aborting (this does not indicate an error and you can ignore this message): INVALID_ARGUMENT: You must feed a value for placeholder tensor 'Placeholder/_10' with dtype float and shape [1770,21]\n",
      "\t [[{{node Placeholder/_10}}]]\n",
      "2025-05-18 12:44:20.472669: I tensorflow/core/common_runtime/executor.cc:1197] [/device:CPU:0] (DEBUG INFO) Executor start aborting (this does not indicate an error and you can ignore this message): INVALID_ARGUMENT: You must feed a value for placeholder tensor 'Placeholder/_12' with dtype int64 and shape [1770]\n",
      "\t [[{{node Placeholder/_12}}]]\n"
     ]
    },
    {
     "name": "stdout",
     "output_type": "stream",
     "text": [
      "222/222 [==============================] - 2s 9ms/step - loss: 0.7006 - accuracy: 0.5736 - val_loss: 0.6689 - val_accuracy: 0.5814 - lr: 0.0010\n",
      "Epoch 2/50\n",
      "222/222 [==============================] - 2s 9ms/step - loss: 0.6615 - accuracy: 0.5982 - val_loss: 0.6566 - val_accuracy: 0.6079 - lr: 0.0010\n",
      "Epoch 3/50\n",
      "222/222 [==============================] - 2s 10ms/step - loss: 0.6536 - accuracy: 0.6164 - val_loss: 0.6617 - val_accuracy: 0.6051 - lr: 0.0010\n",
      "Epoch 4/50\n",
      "222/222 [==============================] - 2s 8ms/step - loss: 0.6471 - accuracy: 0.6267 - val_loss: 0.6709 - val_accuracy: 0.5938 - lr: 0.0010\n",
      "Epoch 5/50\n",
      "222/222 [==============================] - 2s 11ms/step - loss: 0.6394 - accuracy: 0.6326 - val_loss: 0.6541 - val_accuracy: 0.6085 - lr: 0.0010\n",
      "Epoch 6/50\n",
      "222/222 [==============================] - 2s 8ms/step - loss: 0.6371 - accuracy: 0.6352 - val_loss: 0.6854 - val_accuracy: 0.5927 - lr: 0.0010\n",
      "Epoch 7/50\n",
      "222/222 [==============================] - 2s 8ms/step - loss: 0.6273 - accuracy: 0.6456 - val_loss: 0.6581 - val_accuracy: 0.6107 - lr: 0.0010\n",
      "Epoch 8/50\n",
      "222/222 [==============================] - 2s 8ms/step - loss: 0.6138 - accuracy: 0.6595 - val_loss: 0.7164 - val_accuracy: 0.5831 - lr: 0.0010\n",
      "Epoch 9/50\n",
      "222/222 [==============================] - 2s 9ms/step - loss: 0.6056 - accuracy: 0.6698 - val_loss: 0.6698 - val_accuracy: 0.6085 - lr: 0.0010\n",
      "Epoch 10/50\n",
      "222/222 [==============================] - 2s 9ms/step - loss: 0.5873 - accuracy: 0.6850 - val_loss: 0.7229 - val_accuracy: 0.5746 - lr: 0.0010\n",
      "Epoch 11/50\n",
      "222/222 [==============================] - 3s 11ms/step - loss: 0.5660 - accuracy: 0.7024 - val_loss: 0.7621 - val_accuracy: 0.5667 - lr: 5.0000e-04\n",
      "Epoch 12/50\n",
      "222/222 [==============================] - 3s 11ms/step - loss: 0.5423 - accuracy: 0.7213 - val_loss: 0.7167 - val_accuracy: 0.5898 - lr: 5.0000e-04\n",
      "Epoch 13/50\n",
      "222/222 [==============================] - 2s 10ms/step - loss: 0.5279 - accuracy: 0.7391 - val_loss: 0.7175 - val_accuracy: 0.5763 - lr: 5.0000e-04\n",
      "Epoch 14/50\n",
      "222/222 [==============================] - 2s 10ms/step - loss: 0.5161 - accuracy: 0.7438 - val_loss: 0.7692 - val_accuracy: 0.5763 - lr: 5.0000e-04\n",
      "Epoch 15/50\n",
      "222/222 [==============================] - 3s 13ms/step - loss: 0.5050 - accuracy: 0.7542 - val_loss: 0.7625 - val_accuracy: 0.5768 - lr: 5.0000e-04\n",
      "25/56 [============>.................] - ETA: 0s"
     ]
    },
    {
     "name": "stderr",
     "output_type": "stream",
     "text": [
      "2025-05-18 12:44:50.706466: I tensorflow/core/common_runtime/executor.cc:1197] [/device:CPU:0] (DEBUG INFO) Executor start aborting (this does not indicate an error and you can ignore this message): INVALID_ARGUMENT: You must feed a value for placeholder tensor 'Placeholder/_11' with dtype float and shape [1770,33,33]\n",
      "\t [[{{node Placeholder/_11}}]]\n",
      "2025-05-18 12:44:50.706753: I tensorflow/core/common_runtime/executor.cc:1197] [/device:CPU:0] (DEBUG INFO) Executor start aborting (this does not indicate an error and you can ignore this message): INVALID_ARGUMENT: You must feed a value for placeholder tensor 'Placeholder/_11' with dtype float and shape [1770,33,33]\n",
      "\t [[{{node Placeholder/_11}}]]\n"
     ]
    },
    {
     "name": "stdout",
     "output_type": "stream",
     "text": [
      "56/56 [==============================] - 0s 5ms/step\n",
      " 9/86 [==>...........................] - ETA: 1s"
     ]
    },
    {
     "name": "stderr",
     "output_type": "stream",
     "text": [
      "2025-05-18 12:44:51.108071: I tensorflow/core/common_runtime/executor.cc:1197] [/device:CPU:0] (DEBUG INFO) Executor start aborting (this does not indicate an error and you can ignore this message): INVALID_ARGUMENT: You must feed a value for placeholder tensor 'Placeholder/_11' with dtype float and shape [2737,33,33]\n",
      "\t [[{{node Placeholder/_11}}]]\n",
      "2025-05-18 12:44:51.108241: I tensorflow/core/common_runtime/executor.cc:1197] [/device:CPU:0] (DEBUG INFO) Executor start aborting (this does not indicate an error and you can ignore this message): INVALID_ARGUMENT: You must feed a value for placeholder tensor 'Placeholder/_11' with dtype float and shape [2737,33,33]\n",
      "\t [[{{node Placeholder/_11}}]]\n"
     ]
    },
    {
     "name": "stdout",
     "output_type": "stream",
     "text": [
      "86/86 [==============================] - 1s 10ms/step\n",
      "\n",
      "Fold 5 Results:\n",
      "Accuracy: 0.6085\n",
      "Balanced Accuracy: 0.6065\n",
      "MCC: 0.2142\n",
      "Sensitivity: 0.6601\n",
      "Specificity: 0.5528\n",
      "\n",
      "Average Cross-validation Results:\n",
      "ACC: 0.6118 ± 0.0128\n",
      "BALANCED_ACC: 0.6096 ± 0.0151\n",
      "MCC: 0.2220 ± 0.0257\n",
      "SN: 0.6675 ± 0.0490\n",
      "SP: 0.5517 ± 0.0788\n",
      "\n",
      "Final Test Set Results:\n",
      "Accuracy: 0.4987\n",
      "Balanced Accuracy: 0.5746\n",
      "MCC: 0.0846\n",
      "Sensitivity: 0.6667\n",
      "Specificity: 0.4826\n",
      "Confusion Matrix:\n",
      "[[1205 1292]\n",
      " [  80  160]]\n",
      "Loading structural data...\n",
      "phi features shape: (8853, 2)\n",
      "psi features shape: (8853, 2)\n",
      "omega features shape: (8853, 2)\n",
      "SASA features shape: (8853, 3)\n",
      "chi1 features shape: (8853, 2)\n",
      "chi2 features shape: (8853, 2)\n",
      "chi3 features shape: (8853, 2)\n",
      "chi4 features shape: (8853, 2)\n",
      "SS features shape: (8853, 3)\n",
      "plDDT features shape: (8853, 1)\n",
      "\n",
      "Final combined features shape: (8853, 21)\n",
      "Feature list lengths: [2, 2, 2, 3, 2, 2, 2, 2, 3, 1]\n",
      "phi features shape: (2737, 2)\n",
      "psi features shape: (2737, 2)\n",
      "omega features shape: (2737, 2)\n",
      "SASA features shape: (2737, 3)\n",
      "chi1 features shape: (2737, 2)\n",
      "chi2 features shape: (2737, 2)\n",
      "chi3 features shape: (2737, 2)\n",
      "chi4 features shape: (2737, 2)\n",
      "SS features shape: (2737, 3)\n",
      "plDDT features shape: (2737, 1)\n",
      "\n",
      "Final combined features shape: (2737, 21)\n",
      "Feature list lengths: [2, 2, 2, 3, 2, 2, 2, 2, 3, 1]\n"
     ]
    },
    {
     "name": "stderr",
     "output_type": "stream",
     "text": [
      "WARNING:absl:At this time, the v2.11+ optimizer `tf.keras.optimizers.Adam` runs slowly on M1/M2 Macs, please use the legacy Keras optimizer instead, located at `tf.keras.optimizers.legacy.Adam`.\n",
      "WARNING:absl:There is a known slowdown when using v2.11+ Keras optimizers on M1/M2 Macs. Falling back to the legacy Keras optimizer, i.e., `tf.keras.optimizers.legacy.Adam`.\n"
     ]
    },
    {
     "name": "stdout",
     "output_type": "stream",
     "text": [
      "Training data shapes - Structural: (8853, 21), Contact Map: (8853, 33, 33)\n",
      "Testing data shapes - Structural: (2737, 21), Contact Map: (2737, 33, 33)\n",
      "Class weights: {0: 1.0388406477352734, 1: 0.9639590592334495}\n",
      "\n",
      "Fold 1/5\n",
      "Epoch 1/50\n"
     ]
    },
    {
     "name": "stderr",
     "output_type": "stream",
     "text": [
      "2025-05-18 12:45:01.740385: I tensorflow/core/common_runtime/executor.cc:1197] [/device:CPU:0] (DEBUG INFO) Executor start aborting (this does not indicate an error and you can ignore this message): INVALID_ARGUMENT: You must feed a value for placeholder tensor 'Placeholder/_21' with dtype double and shape [2]\n",
      "\t [[{{node Placeholder/_21}}]]\n",
      "2025-05-18 12:45:01.740788: I tensorflow/core/common_runtime/executor.cc:1197] [/device:CPU:0] (DEBUG INFO) Executor start aborting (this does not indicate an error and you can ignore this message): INVALID_ARGUMENT: You must feed a value for placeholder tensor 'Placeholder/_21' with dtype double and shape [2]\n",
      "\t [[{{node Placeholder/_21}}]]\n"
     ]
    },
    {
     "name": "stdout",
     "output_type": "stream",
     "text": [
      "220/222 [============================>.] - ETA: 0s - loss: 0.7086 - accuracy: 0.5649"
     ]
    },
    {
     "name": "stderr",
     "output_type": "stream",
     "text": [
      "2025-05-18 12:45:04.422261: I tensorflow/core/common_runtime/executor.cc:1197] [/device:CPU:0] (DEBUG INFO) Executor start aborting (this does not indicate an error and you can ignore this message): INVALID_ARGUMENT: You must feed a value for placeholder tensor 'Placeholder/_12' with dtype int64 and shape [1771]\n",
      "\t [[{{node Placeholder/_12}}]]\n",
      "2025-05-18 12:45:04.422949: I tensorflow/core/common_runtime/executor.cc:1197] [/device:CPU:0] (DEBUG INFO) Executor start aborting (this does not indicate an error and you can ignore this message): INVALID_ARGUMENT: You must feed a value for placeholder tensor 'Placeholder/_12' with dtype int64 and shape [1771]\n",
      "\t [[{{node Placeholder/_12}}]]\n"
     ]
    },
    {
     "name": "stdout",
     "output_type": "stream",
     "text": [
      "222/222 [==============================] - 3s 13ms/step - loss: 0.7086 - accuracy: 0.5651 - val_loss: 0.6702 - val_accuracy: 0.5844 - lr: 0.0010\n",
      "Epoch 2/50\n",
      "222/222 [==============================] - 3s 12ms/step - loss: 0.6668 - accuracy: 0.5935 - val_loss: 0.6547 - val_accuracy: 0.6087 - lr: 0.0010\n",
      "Epoch 3/50\n",
      "222/222 [==============================] - 3s 13ms/step - loss: 0.6576 - accuracy: 0.6072 - val_loss: 0.6654 - val_accuracy: 0.6064 - lr: 0.0010\n",
      "Epoch 4/50\n",
      "222/222 [==============================] - 2s 10ms/step - loss: 0.6486 - accuracy: 0.6227 - val_loss: 0.6513 - val_accuracy: 0.6160 - lr: 0.0010\n",
      "Epoch 5/50\n",
      "222/222 [==============================] - 2s 8ms/step - loss: 0.6389 - accuracy: 0.6320 - val_loss: 0.6663 - val_accuracy: 0.5991 - lr: 0.0010\n",
      "Epoch 6/50\n",
      "222/222 [==============================] - 2s 9ms/step - loss: 0.6289 - accuracy: 0.6437 - val_loss: 0.6580 - val_accuracy: 0.6183 - lr: 0.0010\n",
      "Epoch 7/50\n",
      "222/222 [==============================] - 3s 12ms/step - loss: 0.6161 - accuracy: 0.6507 - val_loss: 0.6909 - val_accuracy: 0.5833 - lr: 0.0010\n",
      "Epoch 8/50\n",
      "222/222 [==============================] - 2s 8ms/step - loss: 0.5992 - accuracy: 0.6778 - val_loss: 0.6716 - val_accuracy: 0.6002 - lr: 0.0010\n",
      "Epoch 9/50\n",
      "222/222 [==============================] - 2s 8ms/step - loss: 0.5894 - accuracy: 0.6892 - val_loss: 0.8192 - val_accuracy: 0.5737 - lr: 0.0010\n",
      "Epoch 10/50\n",
      "222/222 [==============================] - 2s 9ms/step - loss: 0.5607 - accuracy: 0.7091 - val_loss: 0.7157 - val_accuracy: 0.5872 - lr: 5.0000e-04\n",
      "Epoch 11/50\n",
      "222/222 [==============================] - 3s 13ms/step - loss: 0.5392 - accuracy: 0.7235 - val_loss: 0.7109 - val_accuracy: 0.6002 - lr: 5.0000e-04\n",
      "Epoch 12/50\n",
      "222/222 [==============================] - 2s 8ms/step - loss: 0.5104 - accuracy: 0.7477 - val_loss: 0.7253 - val_accuracy: 0.6008 - lr: 5.0000e-04\n",
      "Epoch 13/50\n",
      "222/222 [==============================] - 2s 9ms/step - loss: 0.4878 - accuracy: 0.7587 - val_loss: 0.7699 - val_accuracy: 0.5872 - lr: 5.0000e-04\n",
      "Epoch 14/50\n",
      "222/222 [==============================] - 2s 10ms/step - loss: 0.4740 - accuracy: 0.7708 - val_loss: 0.7815 - val_accuracy: 0.5957 - lr: 5.0000e-04\n",
      "32/56 [================>.............] - ETA: 0s"
     ]
    },
    {
     "name": "stderr",
     "output_type": "stream",
     "text": [
      "2025-05-18 12:45:33.581425: I tensorflow/core/common_runtime/executor.cc:1197] [/device:CPU:0] (DEBUG INFO) Executor start aborting (this does not indicate an error and you can ignore this message): INVALID_ARGUMENT: You must feed a value for placeholder tensor 'Placeholder/_11' with dtype float and shape [1771,33,33]\n",
      "\t [[{{node Placeholder/_11}}]]\n",
      "2025-05-18 12:45:33.581640: I tensorflow/core/common_runtime/executor.cc:1197] [/device:CPU:0] (DEBUG INFO) Executor start aborting (this does not indicate an error and you can ignore this message): INVALID_ARGUMENT: You must feed a value for placeholder tensor 'Placeholder/_11' with dtype float and shape [1771,33,33]\n",
      "\t [[{{node Placeholder/_11}}]]\n"
     ]
    },
    {
     "name": "stdout",
     "output_type": "stream",
     "text": [
      "56/56 [==============================] - 0s 6ms/step\n",
      "44/86 [==============>...............] - ETA: 0s"
     ]
    },
    {
     "name": "stderr",
     "output_type": "stream",
     "text": [
      "2025-05-18 12:45:34.014895: I tensorflow/core/common_runtime/executor.cc:1197] [/device:CPU:0] (DEBUG INFO) Executor start aborting (this does not indicate an error and you can ignore this message): INVALID_ARGUMENT: You must feed a value for placeholder tensor 'Placeholder/_11' with dtype float and shape [2737,33,33]\n",
      "\t [[{{node Placeholder/_11}}]]\n",
      "2025-05-18 12:45:34.015064: I tensorflow/core/common_runtime/executor.cc:1197] [/device:CPU:0] (DEBUG INFO) Executor start aborting (this does not indicate an error and you can ignore this message): INVALID_ARGUMENT: You must feed a value for placeholder tensor 'Placeholder/_11' with dtype float and shape [2737,33,33]\n",
      "\t [[{{node Placeholder/_11}}]]\n"
     ]
    },
    {
     "name": "stdout",
     "output_type": "stream",
     "text": [
      "86/86 [==============================] - 0s 5ms/step\n",
      "\n",
      "Fold 1 Results:\n",
      "Accuracy: 0.6160\n",
      "Balanced Accuracy: 0.6089\n",
      "MCC: 0.2357\n",
      "Sensitivity: 0.7965\n",
      "Specificity: 0.4214\n",
      "\n",
      "Fold 2/5\n"
     ]
    },
    {
     "name": "stderr",
     "output_type": "stream",
     "text": [
      "WARNING:absl:At this time, the v2.11+ optimizer `tf.keras.optimizers.Adam` runs slowly on M1/M2 Macs, please use the legacy Keras optimizer instead, located at `tf.keras.optimizers.legacy.Adam`.\n",
      "WARNING:absl:There is a known slowdown when using v2.11+ Keras optimizers on M1/M2 Macs. Falling back to the legacy Keras optimizer, i.e., `tf.keras.optimizers.legacy.Adam`.\n"
     ]
    },
    {
     "name": "stdout",
     "output_type": "stream",
     "text": [
      "Epoch 1/50\n"
     ]
    },
    {
     "name": "stderr",
     "output_type": "stream",
     "text": [
      "2025-05-18 12:45:34.546362: I tensorflow/core/common_runtime/executor.cc:1197] [/device:CPU:0] (DEBUG INFO) Executor start aborting (this does not indicate an error and you can ignore this message): INVALID_ARGUMENT: You must feed a value for placeholder tensor 'Placeholder/_10' with dtype float and shape [7082,21]\n",
      "\t [[{{node Placeholder/_10}}]]\n",
      "2025-05-18 12:45:34.546576: I tensorflow/core/common_runtime/executor.cc:1197] [/device:CPU:0] (DEBUG INFO) Executor start aborting (this does not indicate an error and you can ignore this message): INVALID_ARGUMENT: You must feed a value for placeholder tensor 'Placeholder/_11' with dtype float and shape [7082,33,33]\n",
      "\t [[{{node Placeholder/_11}}]]\n"
     ]
    },
    {
     "name": "stdout",
     "output_type": "stream",
     "text": [
      "221/222 [============================>.] - ETA: 0s - loss: 0.6952 - accuracy: 0.5670"
     ]
    },
    {
     "name": "stderr",
     "output_type": "stream",
     "text": [
      "2025-05-18 12:45:38.347588: I tensorflow/core/common_runtime/executor.cc:1197] [/device:CPU:0] (DEBUG INFO) Executor start aborting (this does not indicate an error and you can ignore this message): INVALID_ARGUMENT: You must feed a value for placeholder tensor 'Placeholder/_10' with dtype float and shape [1771,21]\n",
      "\t [[{{node Placeholder/_10}}]]\n",
      "2025-05-18 12:45:38.347957: I tensorflow/core/common_runtime/executor.cc:1197] [/device:CPU:0] (DEBUG INFO) Executor start aborting (this does not indicate an error and you can ignore this message): INVALID_ARGUMENT: You must feed a value for placeholder tensor 'Placeholder/_12' with dtype int64 and shape [1771]\n",
      "\t [[{{node Placeholder/_12}}]]\n"
     ]
    },
    {
     "name": "stdout",
     "output_type": "stream",
     "text": [
      "222/222 [==============================] - 4s 17ms/step - loss: 0.6951 - accuracy: 0.5672 - val_loss: 0.6631 - val_accuracy: 0.5901 - lr: 0.0010\n",
      "Epoch 2/50\n",
      "222/222 [==============================] - 2s 10ms/step - loss: 0.6701 - accuracy: 0.5979 - val_loss: 0.6458 - val_accuracy: 0.6228 - lr: 0.0010\n",
      "Epoch 3/50\n",
      "222/222 [==============================] - 2s 9ms/step - loss: 0.6604 - accuracy: 0.6097 - val_loss: 0.6463 - val_accuracy: 0.6222 - lr: 0.0010\n",
      "Epoch 4/50\n",
      "222/222 [==============================] - 2s 8ms/step - loss: 0.6552 - accuracy: 0.6107 - val_loss: 0.6560 - val_accuracy: 0.6093 - lr: 0.0010\n",
      "Epoch 5/50\n",
      "222/222 [==============================] - 2s 8ms/step - loss: 0.6503 - accuracy: 0.6196 - val_loss: 0.6480 - val_accuracy: 0.6183 - lr: 0.0010\n",
      "Epoch 6/50\n",
      "222/222 [==============================] - 2s 10ms/step - loss: 0.6426 - accuracy: 0.6278 - val_loss: 0.6480 - val_accuracy: 0.6143 - lr: 0.0010\n",
      "Epoch 7/50\n",
      "222/222 [==============================] - 2s 9ms/step - loss: 0.6359 - accuracy: 0.6358 - val_loss: 0.6607 - val_accuracy: 0.6081 - lr: 0.0010\n",
      "Epoch 8/50\n",
      "222/222 [==============================] - 2s 10ms/step - loss: 0.6242 - accuracy: 0.6514 - val_loss: 0.6515 - val_accuracy: 0.6302 - lr: 5.0000e-04\n",
      "Epoch 9/50\n",
      "222/222 [==============================] - 2s 9ms/step - loss: 0.6102 - accuracy: 0.6694 - val_loss: 0.6605 - val_accuracy: 0.6081 - lr: 5.0000e-04\n",
      "Epoch 10/50\n",
      "222/222 [==============================] - 2s 8ms/step - loss: 0.5910 - accuracy: 0.6836 - val_loss: 0.6797 - val_accuracy: 0.6076 - lr: 5.0000e-04\n",
      "Epoch 11/50\n",
      "222/222 [==============================] - 2s 8ms/step - loss: 0.5766 - accuracy: 0.7056 - val_loss: 0.6885 - val_accuracy: 0.5884 - lr: 5.0000e-04\n",
      "Epoch 12/50\n",
      "222/222 [==============================] - 2s 9ms/step - loss: 0.5595 - accuracy: 0.7100 - val_loss: 0.6831 - val_accuracy: 0.6008 - lr: 5.0000e-04\n",
      "34/56 [=================>............] - ETA: 0s"
     ]
    },
    {
     "name": "stderr",
     "output_type": "stream",
     "text": [
      "2025-05-18 12:46:00.708528: I tensorflow/core/common_runtime/executor.cc:1197] [/device:CPU:0] (DEBUG INFO) Executor start aborting (this does not indicate an error and you can ignore this message): INVALID_ARGUMENT: You must feed a value for placeholder tensor 'Placeholder/_11' with dtype float and shape [1771,33,33]\n",
      "\t [[{{node Placeholder/_11}}]]\n",
      "2025-05-18 12:46:00.708681: I tensorflow/core/common_runtime/executor.cc:1197] [/device:CPU:0] (DEBUG INFO) Executor start aborting (this does not indicate an error and you can ignore this message): INVALID_ARGUMENT: You must feed a value for placeholder tensor 'Placeholder/_11' with dtype float and shape [1771,33,33]\n",
      "\t [[{{node Placeholder/_11}}]]\n"
     ]
    },
    {
     "name": "stdout",
     "output_type": "stream",
     "text": [
      "56/56 [==============================] - 0s 4ms/step\n",
      "49/86 [================>.............] - ETA: 0s"
     ]
    },
    {
     "name": "stderr",
     "output_type": "stream",
     "text": [
      "2025-05-18 12:46:01.024388: I tensorflow/core/common_runtime/executor.cc:1197] [/device:CPU:0] (DEBUG INFO) Executor start aborting (this does not indicate an error and you can ignore this message): INVALID_ARGUMENT: You must feed a value for placeholder tensor 'Placeholder/_11' with dtype float and shape [2737,33,33]\n",
      "\t [[{{node Placeholder/_11}}]]\n",
      "2025-05-18 12:46:01.024546: I tensorflow/core/common_runtime/executor.cc:1197] [/device:CPU:0] (DEBUG INFO) Executor start aborting (this does not indicate an error and you can ignore this message): INVALID_ARGUMENT: You must feed a value for placeholder tensor 'Placeholder/_11' with dtype float and shape [2737,33,33]\n",
      "\t [[{{node Placeholder/_11}}]]\n"
     ]
    },
    {
     "name": "stdout",
     "output_type": "stream",
     "text": [
      "86/86 [==============================] - 0s 3ms/step\n",
      "\n",
      "Fold 2 Results:\n",
      "Accuracy: 0.6228\n",
      "Balanced Accuracy: 0.6193\n",
      "MCC: 0.2431\n",
      "Sensitivity: 0.7127\n",
      "Specificity: 0.5258\n",
      "\n",
      "Fold 3/5\n"
     ]
    },
    {
     "name": "stderr",
     "output_type": "stream",
     "text": [
      "WARNING:absl:At this time, the v2.11+ optimizer `tf.keras.optimizers.Adam` runs slowly on M1/M2 Macs, please use the legacy Keras optimizer instead, located at `tf.keras.optimizers.legacy.Adam`.\n",
      "WARNING:absl:There is a known slowdown when using v2.11+ Keras optimizers on M1/M2 Macs. Falling back to the legacy Keras optimizer, i.e., `tf.keras.optimizers.legacy.Adam`.\n"
     ]
    },
    {
     "name": "stdout",
     "output_type": "stream",
     "text": [
      "Epoch 1/50\n"
     ]
    },
    {
     "name": "stderr",
     "output_type": "stream",
     "text": [
      "2025-05-18 12:46:01.452910: I tensorflow/core/common_runtime/executor.cc:1197] [/device:CPU:0] (DEBUG INFO) Executor start aborting (this does not indicate an error and you can ignore this message): INVALID_ARGUMENT: You must feed a value for placeholder tensor 'Placeholder/_11' with dtype float and shape [7082,33,33]\n",
      "\t [[{{node Placeholder/_11}}]]\n",
      "2025-05-18 12:46:01.453184: I tensorflow/core/common_runtime/executor.cc:1197] [/device:CPU:0] (DEBUG INFO) Executor start aborting (this does not indicate an error and you can ignore this message): INVALID_ARGUMENT: You must feed a value for placeholder tensor 'Placeholder/_21' with dtype double and shape [2]\n",
      "\t [[{{node Placeholder/_21}}]]\n"
     ]
    },
    {
     "name": "stdout",
     "output_type": "stream",
     "text": [
      "219/222 [============================>.] - ETA: 0s - loss: 0.7168 - accuracy: 0.5402"
     ]
    },
    {
     "name": "stderr",
     "output_type": "stream",
     "text": [
      "2025-05-18 12:46:03.476896: I tensorflow/core/common_runtime/executor.cc:1197] [/device:CPU:0] (DEBUG INFO) Executor start aborting (this does not indicate an error and you can ignore this message): INVALID_ARGUMENT: You must feed a value for placeholder tensor 'Placeholder/_12' with dtype int64 and shape [1771]\n",
      "\t [[{{node Placeholder/_12}}]]\n",
      "2025-05-18 12:46:03.477067: I tensorflow/core/common_runtime/executor.cc:1197] [/device:CPU:0] (DEBUG INFO) Executor start aborting (this does not indicate an error and you can ignore this message): INVALID_ARGUMENT: You must feed a value for placeholder tensor 'Placeholder/_12' with dtype int64 and shape [1771]\n",
      "\t [[{{node Placeholder/_12}}]]\n"
     ]
    },
    {
     "name": "stdout",
     "output_type": "stream",
     "text": [
      "222/222 [==============================] - 2s 8ms/step - loss: 0.7167 - accuracy: 0.5400 - val_loss: 0.6774 - val_accuracy: 0.5658 - lr: 0.0010\n",
      "Epoch 2/50\n",
      "222/222 [==============================] - 2s 9ms/step - loss: 0.6742 - accuracy: 0.5819 - val_loss: 0.6566 - val_accuracy: 0.6115 - lr: 0.0010\n",
      "Epoch 3/50\n",
      "222/222 [==============================] - 2s 10ms/step - loss: 0.6617 - accuracy: 0.6019 - val_loss: 0.6551 - val_accuracy: 0.6070 - lr: 0.0010\n",
      "Epoch 4/50\n",
      "222/222 [==============================] - 2s 9ms/step - loss: 0.6568 - accuracy: 0.6083 - val_loss: 0.6696 - val_accuracy: 0.5839 - lr: 0.0010\n",
      "Epoch 5/50\n",
      "222/222 [==============================] - 2s 7ms/step - loss: 0.6505 - accuracy: 0.6155 - val_loss: 0.6658 - val_accuracy: 0.5810 - lr: 0.0010\n",
      "Epoch 6/50\n",
      "222/222 [==============================] - 2s 7ms/step - loss: 0.6398 - accuracy: 0.6343 - val_loss: 0.6520 - val_accuracy: 0.6149 - lr: 0.0010\n",
      "Epoch 7/50\n",
      "222/222 [==============================] - 2s 7ms/step - loss: 0.6347 - accuracy: 0.6395 - val_loss: 0.6543 - val_accuracy: 0.6110 - lr: 0.0010\n",
      "Epoch 8/50\n",
      "222/222 [==============================] - 2s 8ms/step - loss: 0.6226 - accuracy: 0.6566 - val_loss: 0.6696 - val_accuracy: 0.5923 - lr: 0.0010\n",
      "Epoch 9/50\n",
      "222/222 [==============================] - 2s 8ms/step - loss: 0.6057 - accuracy: 0.6717 - val_loss: 0.6996 - val_accuracy: 0.5624 - lr: 0.0010\n",
      "Epoch 10/50\n",
      "222/222 [==============================] - 2s 8ms/step - loss: 0.5945 - accuracy: 0.6837 - val_loss: 0.7137 - val_accuracy: 0.5782 - lr: 0.0010\n",
      "Epoch 11/50\n",
      "222/222 [==============================] - 2s 10ms/step - loss: 0.5757 - accuracy: 0.7009 - val_loss: 0.7921 - val_accuracy: 0.5692 - lr: 0.0010\n",
      "Epoch 12/50\n",
      "222/222 [==============================] - 2s 9ms/step - loss: 0.5317 - accuracy: 0.7293 - val_loss: 0.7087 - val_accuracy: 0.6064 - lr: 5.0000e-04\n",
      "Epoch 13/50\n",
      "222/222 [==============================] - 2s 8ms/step - loss: 0.5127 - accuracy: 0.7467 - val_loss: 0.7418 - val_accuracy: 0.5940 - lr: 5.0000e-04\n",
      "Epoch 14/50\n",
      "222/222 [==============================] - 2s 10ms/step - loss: 0.4882 - accuracy: 0.7662 - val_loss: 0.7637 - val_accuracy: 0.6047 - lr: 5.0000e-04\n",
      "Epoch 15/50\n",
      "222/222 [==============================] - 2s 9ms/step - loss: 0.4662 - accuracy: 0.7707 - val_loss: 0.8255 - val_accuracy: 0.5776 - lr: 5.0000e-04\n",
      "Epoch 16/50\n",
      "222/222 [==============================] - 2s 9ms/step - loss: 0.4465 - accuracy: 0.7875 - val_loss: 0.8211 - val_accuracy: 0.5951 - lr: 5.0000e-04\n",
      "38/56 [===================>..........] - ETA: 0s"
     ]
    },
    {
     "name": "stderr",
     "output_type": "stream",
     "text": [
      "2025-05-18 12:46:32.178945: I tensorflow/core/common_runtime/executor.cc:1197] [/device:CPU:0] (DEBUG INFO) Executor start aborting (this does not indicate an error and you can ignore this message): INVALID_ARGUMENT: You must feed a value for placeholder tensor 'Placeholder/_11' with dtype float and shape [1771,33,33]\n",
      "\t [[{{node Placeholder/_11}}]]\n",
      "2025-05-18 12:46:32.179105: I tensorflow/core/common_runtime/executor.cc:1197] [/device:CPU:0] (DEBUG INFO) Executor start aborting (this does not indicate an error and you can ignore this message): INVALID_ARGUMENT: You must feed a value for placeholder tensor 'Placeholder/_11' with dtype float and shape [1771,33,33]\n",
      "\t [[{{node Placeholder/_11}}]]\n"
     ]
    },
    {
     "name": "stdout",
     "output_type": "stream",
     "text": [
      "56/56 [==============================] - 0s 3ms/step\n",
      "56/86 [==================>...........] - ETA: 0s"
     ]
    },
    {
     "name": "stderr",
     "output_type": "stream",
     "text": [
      "2025-05-18 12:46:32.437867: I tensorflow/core/common_runtime/executor.cc:1197] [/device:CPU:0] (DEBUG INFO) Executor start aborting (this does not indicate an error and you can ignore this message): INVALID_ARGUMENT: You must feed a value for placeholder tensor 'Placeholder/_11' with dtype float and shape [2737,33,33]\n",
      "\t [[{{node Placeholder/_11}}]]\n",
      "2025-05-18 12:46:32.438071: I tensorflow/core/common_runtime/executor.cc:1197] [/device:CPU:0] (DEBUG INFO) Executor start aborting (this does not indicate an error and you can ignore this message): INVALID_ARGUMENT: You must feed a value for placeholder tensor 'Placeholder/_11' with dtype float and shape [2737,33,33]\n",
      "\t [[{{node Placeholder/_11}}]]\n"
     ]
    },
    {
     "name": "stdout",
     "output_type": "stream",
     "text": [
      "86/86 [==============================] - 0s 3ms/step\n"
     ]
    },
    {
     "name": "stderr",
     "output_type": "stream",
     "text": [
      "WARNING:absl:At this time, the v2.11+ optimizer `tf.keras.optimizers.Adam` runs slowly on M1/M2 Macs, please use the legacy Keras optimizer instead, located at `tf.keras.optimizers.legacy.Adam`.\n",
      "WARNING:absl:There is a known slowdown when using v2.11+ Keras optimizers on M1/M2 Macs. Falling back to the legacy Keras optimizer, i.e., `tf.keras.optimizers.legacy.Adam`.\n"
     ]
    },
    {
     "name": "stdout",
     "output_type": "stream",
     "text": [
      "\n",
      "Fold 3 Results:\n",
      "Accuracy: 0.6149\n",
      "Balanced Accuracy: 0.6105\n",
      "MCC: 0.2280\n",
      "Sensitivity: 0.7298\n",
      "Specificity: 0.4912\n",
      "\n",
      "Fold 4/5\n",
      "Epoch 1/50\n"
     ]
    },
    {
     "name": "stderr",
     "output_type": "stream",
     "text": [
      "2025-05-18 12:46:32.807189: I tensorflow/core/common_runtime/executor.cc:1197] [/device:CPU:0] (DEBUG INFO) Executor start aborting (this does not indicate an error and you can ignore this message): INVALID_ARGUMENT: You must feed a value for placeholder tensor 'Placeholder/_11' with dtype float and shape [7083,33,33]\n",
      "\t [[{{node Placeholder/_11}}]]\n",
      "2025-05-18 12:46:32.807395: I tensorflow/core/common_runtime/executor.cc:1197] [/device:CPU:0] (DEBUG INFO) Executor start aborting (this does not indicate an error and you can ignore this message): INVALID_ARGUMENT: You must feed a value for placeholder tensor 'Placeholder/_21' with dtype double and shape [2]\n",
      "\t [[{{node Placeholder/_21}}]]\n"
     ]
    },
    {
     "name": "stdout",
     "output_type": "stream",
     "text": [
      "220/222 [============================>.] - ETA: 0s - loss: 0.7042 - accuracy: 0.5554"
     ]
    },
    {
     "name": "stderr",
     "output_type": "stream",
     "text": [
      "2025-05-18 12:46:34.829822: I tensorflow/core/common_runtime/executor.cc:1197] [/device:CPU:0] (DEBUG INFO) Executor start aborting (this does not indicate an error and you can ignore this message): INVALID_ARGUMENT: You must feed a value for placeholder tensor 'Placeholder/_10' with dtype float and shape [1770,21]\n",
      "\t [[{{node Placeholder/_10}}]]\n",
      "2025-05-18 12:46:34.829988: I tensorflow/core/common_runtime/executor.cc:1197] [/device:CPU:0] (DEBUG INFO) Executor start aborting (this does not indicate an error and you can ignore this message): INVALID_ARGUMENT: You must feed a value for placeholder tensor 'Placeholder/_12' with dtype int64 and shape [1770]\n",
      "\t [[{{node Placeholder/_12}}]]\n"
     ]
    },
    {
     "name": "stdout",
     "output_type": "stream",
     "text": [
      "222/222 [==============================] - 2s 8ms/step - loss: 0.7041 - accuracy: 0.5550 - val_loss: 0.6691 - val_accuracy: 0.5921 - lr: 0.0010\n",
      "Epoch 2/50\n",
      "222/222 [==============================] - 2s 8ms/step - loss: 0.6663 - accuracy: 0.5981 - val_loss: 0.6708 - val_accuracy: 0.5864 - lr: 0.0010\n",
      "Epoch 3/50\n",
      "222/222 [==============================] - 2s 9ms/step - loss: 0.6579 - accuracy: 0.6086 - val_loss: 0.6682 - val_accuracy: 0.5938 - lr: 0.0010\n",
      "Epoch 4/50\n",
      "222/222 [==============================] - 2s 8ms/step - loss: 0.6486 - accuracy: 0.6270 - val_loss: 0.6671 - val_accuracy: 0.5949 - lr: 0.0010\n",
      "Epoch 5/50\n",
      "222/222 [==============================] - 2s 8ms/step - loss: 0.6389 - accuracy: 0.6267 - val_loss: 0.6751 - val_accuracy: 0.5904 - lr: 0.0010\n",
      "Epoch 6/50\n",
      "222/222 [==============================] - 2s 8ms/step - loss: 0.6289 - accuracy: 0.6494 - val_loss: 0.7047 - val_accuracy: 0.5638 - lr: 0.0010\n",
      "Epoch 7/50\n",
      "222/222 [==============================] - 2s 8ms/step - loss: 0.6153 - accuracy: 0.6617 - val_loss: 0.6870 - val_accuracy: 0.5932 - lr: 0.0010\n",
      "Epoch 8/50\n",
      "222/222 [==============================] - 2s 8ms/step - loss: 0.6014 - accuracy: 0.6737 - val_loss: 0.7431 - val_accuracy: 0.5763 - lr: 0.0010\n",
      "Epoch 9/50\n",
      "222/222 [==============================] - 2s 8ms/step - loss: 0.5869 - accuracy: 0.6894 - val_loss: 0.7129 - val_accuracy: 0.5616 - lr: 0.0010\n",
      "Epoch 10/50\n",
      "222/222 [==============================] - 2s 8ms/step - loss: 0.5418 - accuracy: 0.7295 - val_loss: 0.7246 - val_accuracy: 0.5802 - lr: 5.0000e-04\n",
      "Epoch 11/50\n",
      "222/222 [==============================] - 2s 8ms/step - loss: 0.5092 - accuracy: 0.7481 - val_loss: 0.8122 - val_accuracy: 0.5678 - lr: 5.0000e-04\n",
      "Epoch 12/50\n",
      "222/222 [==============================] - 2s 8ms/step - loss: 0.4949 - accuracy: 0.7594 - val_loss: 0.8706 - val_accuracy: 0.5627 - lr: 5.0000e-04\n",
      "Epoch 13/50\n",
      "222/222 [==============================] - 2s 8ms/step - loss: 0.4679 - accuracy: 0.7728 - val_loss: 0.8078 - val_accuracy: 0.5977 - lr: 5.0000e-04\n",
      "Epoch 14/50\n",
      "222/222 [==============================] - 2s 8ms/step - loss: 0.4502 - accuracy: 0.7840 - val_loss: 0.8320 - val_accuracy: 0.5898 - lr: 5.0000e-04\n",
      "32/56 [================>.............] - ETA: 0s"
     ]
    },
    {
     "name": "stderr",
     "output_type": "stream",
     "text": [
      "2025-05-18 12:46:57.914732: I tensorflow/core/common_runtime/executor.cc:1197] [/device:CPU:0] (DEBUG INFO) Executor start aborting (this does not indicate an error and you can ignore this message): INVALID_ARGUMENT: You must feed a value for placeholder tensor 'Placeholder/_10' with dtype float and shape [1770,21]\n",
      "\t [[{{node Placeholder/_10}}]]\n",
      "2025-05-18 12:46:57.914889: I tensorflow/core/common_runtime/executor.cc:1197] [/device:CPU:0] (DEBUG INFO) Executor start aborting (this does not indicate an error and you can ignore this message): INVALID_ARGUMENT: You must feed a value for placeholder tensor 'Placeholder/_11' with dtype float and shape [1770,33,33]\n",
      "\t [[{{node Placeholder/_11}}]]\n"
     ]
    },
    {
     "name": "stdout",
     "output_type": "stream",
     "text": [
      "56/56 [==============================] - 0s 4ms/step\n",
      "51/86 [================>.............] - ETA: 0s"
     ]
    },
    {
     "name": "stderr",
     "output_type": "stream",
     "text": [
      "2025-05-18 12:46:58.221249: I tensorflow/core/common_runtime/executor.cc:1197] [/device:CPU:0] (DEBUG INFO) Executor start aborting (this does not indicate an error and you can ignore this message): INVALID_ARGUMENT: You must feed a value for placeholder tensor 'Placeholder/_11' with dtype float and shape [2737,33,33]\n",
      "\t [[{{node Placeholder/_11}}]]\n",
      "2025-05-18 12:46:58.221410: I tensorflow/core/common_runtime/executor.cc:1197] [/device:CPU:0] (DEBUG INFO) Executor start aborting (this does not indicate an error and you can ignore this message): INVALID_ARGUMENT: You must feed a value for placeholder tensor 'Placeholder/_11' with dtype float and shape [2737,33,33]\n",
      "\t [[{{node Placeholder/_11}}]]\n"
     ]
    },
    {
     "name": "stdout",
     "output_type": "stream",
     "text": [
      "86/86 [==============================] - 0s 3ms/step\n"
     ]
    },
    {
     "name": "stderr",
     "output_type": "stream",
     "text": [
      "WARNING:absl:At this time, the v2.11+ optimizer `tf.keras.optimizers.Adam` runs slowly on M1/M2 Macs, please use the legacy Keras optimizer instead, located at `tf.keras.optimizers.legacy.Adam`.\n",
      "WARNING:absl:There is a known slowdown when using v2.11+ Keras optimizers on M1/M2 Macs. Falling back to the legacy Keras optimizer, i.e., `tf.keras.optimizers.legacy.Adam`.\n"
     ]
    },
    {
     "name": "stdout",
     "output_type": "stream",
     "text": [
      "\n",
      "Fold 4 Results:\n",
      "Accuracy: 0.5949\n",
      "Balanced Accuracy: 0.5958\n",
      "MCC: 0.1915\n",
      "Sensitivity: 0.5730\n",
      "Specificity: 0.6185\n",
      "\n",
      "Fold 5/5\n",
      "Epoch 1/50\n"
     ]
    },
    {
     "name": "stderr",
     "output_type": "stream",
     "text": [
      "2025-05-18 12:46:58.596754: I tensorflow/core/common_runtime/executor.cc:1197] [/device:CPU:0] (DEBUG INFO) Executor start aborting (this does not indicate an error and you can ignore this message): INVALID_ARGUMENT: You must feed a value for placeholder tensor 'Placeholder/_21' with dtype double and shape [2]\n",
      "\t [[{{node Placeholder/_21}}]]\n",
      "2025-05-18 12:46:58.596956: I tensorflow/core/common_runtime/executor.cc:1197] [/device:CPU:0] (DEBUG INFO) Executor start aborting (this does not indicate an error and you can ignore this message): INVALID_ARGUMENT: You must feed a value for placeholder tensor 'Placeholder/_21' with dtype double and shape [2]\n",
      "\t [[{{node Placeholder/_21}}]]\n"
     ]
    },
    {
     "name": "stdout",
     "output_type": "stream",
     "text": [
      "219/222 [============================>.] - ETA: 0s - loss: 0.7035 - accuracy: 0.5609"
     ]
    },
    {
     "name": "stderr",
     "output_type": "stream",
     "text": [
      "2025-05-18 12:47:00.576312: I tensorflow/core/common_runtime/executor.cc:1197] [/device:CPU:0] (DEBUG INFO) Executor start aborting (this does not indicate an error and you can ignore this message): INVALID_ARGUMENT: You must feed a value for placeholder tensor 'Placeholder/_10' with dtype float and shape [1770,21]\n",
      "\t [[{{node Placeholder/_10}}]]\n",
      "2025-05-18 12:47:00.576484: I tensorflow/core/common_runtime/executor.cc:1197] [/device:CPU:0] (DEBUG INFO) Executor start aborting (this does not indicate an error and you can ignore this message): INVALID_ARGUMENT: You must feed a value for placeholder tensor 'Placeholder/_12' with dtype int64 and shape [1770]\n",
      "\t [[{{node Placeholder/_12}}]]\n"
     ]
    },
    {
     "name": "stdout",
     "output_type": "stream",
     "text": [
      "222/222 [==============================] - 2s 8ms/step - loss: 0.7031 - accuracy: 0.5622 - val_loss: 0.6720 - val_accuracy: 0.5831 - lr: 0.0010\n",
      "Epoch 2/50\n",
      "222/222 [==============================] - 2s 8ms/step - loss: 0.6698 - accuracy: 0.5997 - val_loss: 0.6650 - val_accuracy: 0.5983 - lr: 0.0010\n",
      "Epoch 3/50\n",
      "222/222 [==============================] - 2s 8ms/step - loss: 0.6585 - accuracy: 0.6089 - val_loss: 0.6627 - val_accuracy: 0.5881 - lr: 0.0010\n",
      "Epoch 4/50\n",
      "222/222 [==============================] - 2s 8ms/step - loss: 0.6506 - accuracy: 0.6168 - val_loss: 0.6728 - val_accuracy: 0.5723 - lr: 0.0010\n",
      "Epoch 5/50\n",
      "222/222 [==============================] - 2s 8ms/step - loss: 0.6485 - accuracy: 0.6225 - val_loss: 0.6683 - val_accuracy: 0.5938 - lr: 0.0010\n",
      "Epoch 6/50\n",
      "222/222 [==============================] - 2s 8ms/step - loss: 0.6386 - accuracy: 0.6353 - val_loss: 0.6880 - val_accuracy: 0.5785 - lr: 0.0010\n",
      "Epoch 7/50\n",
      "222/222 [==============================] - 2s 8ms/step - loss: 0.6280 - accuracy: 0.6482 - val_loss: 0.7567 - val_accuracy: 0.5672 - lr: 0.0010\n",
      "Epoch 8/50\n",
      "222/222 [==============================] - 2s 8ms/step - loss: 0.6201 - accuracy: 0.6579 - val_loss: 0.6727 - val_accuracy: 0.6028 - lr: 0.0010\n",
      "Epoch 9/50\n",
      "222/222 [==============================] - 2s 8ms/step - loss: 0.5946 - accuracy: 0.6777 - val_loss: 0.6909 - val_accuracy: 0.5842 - lr: 5.0000e-04\n",
      "Epoch 10/50\n",
      "222/222 [==============================] - 2s 8ms/step - loss: 0.5721 - accuracy: 0.7017 - val_loss: 0.6892 - val_accuracy: 0.5955 - lr: 5.0000e-04\n",
      "Epoch 11/50\n",
      "222/222 [==============================] - 2s 7ms/step - loss: 0.5553 - accuracy: 0.7158 - val_loss: 0.7778 - val_accuracy: 0.5576 - lr: 5.0000e-04\n",
      "Epoch 12/50\n",
      "222/222 [==============================] - 2s 8ms/step - loss: 0.5328 - accuracy: 0.7303 - val_loss: 0.7473 - val_accuracy: 0.5994 - lr: 5.0000e-04\n",
      "Epoch 13/50\n",
      "222/222 [==============================] - 2s 8ms/step - loss: 0.5113 - accuracy: 0.7435 - val_loss: 0.7264 - val_accuracy: 0.6107 - lr: 5.0000e-04\n",
      "38/56 [===================>..........] - ETA: 0s"
     ]
    },
    {
     "name": "stderr",
     "output_type": "stream",
     "text": [
      "2025-05-18 12:47:21.312138: I tensorflow/core/common_runtime/executor.cc:1197] [/device:CPU:0] (DEBUG INFO) Executor start aborting (this does not indicate an error and you can ignore this message): INVALID_ARGUMENT: You must feed a value for placeholder tensor 'Placeholder/_11' with dtype float and shape [1770,33,33]\n",
      "\t [[{{node Placeholder/_11}}]]\n",
      "2025-05-18 12:47:21.312344: I tensorflow/core/common_runtime/executor.cc:1197] [/device:CPU:0] (DEBUG INFO) Executor start aborting (this does not indicate an error and you can ignore this message): INVALID_ARGUMENT: You must feed a value for placeholder tensor 'Placeholder/_11' with dtype float and shape [1770,33,33]\n",
      "\t [[{{node Placeholder/_11}}]]\n"
     ]
    },
    {
     "name": "stdout",
     "output_type": "stream",
     "text": [
      "56/56 [==============================] - 0s 3ms/step\n",
      "61/86 [====================>.........] - ETA: 0s"
     ]
    },
    {
     "name": "stderr",
     "output_type": "stream",
     "text": [
      "2025-05-18 12:47:21.566680: I tensorflow/core/common_runtime/executor.cc:1197] [/device:CPU:0] (DEBUG INFO) Executor start aborting (this does not indicate an error and you can ignore this message): INVALID_ARGUMENT: You must feed a value for placeholder tensor 'Placeholder/_11' with dtype float and shape [2737,33,33]\n",
      "\t [[{{node Placeholder/_11}}]]\n",
      "2025-05-18 12:47:21.566847: I tensorflow/core/common_runtime/executor.cc:1197] [/device:CPU:0] (DEBUG INFO) Executor start aborting (this does not indicate an error and you can ignore this message): INVALID_ARGUMENT: You must feed a value for placeholder tensor 'Placeholder/_11' with dtype float and shape [2737,33,33]\n",
      "\t [[{{node Placeholder/_11}}]]\n"
     ]
    },
    {
     "name": "stdout",
     "output_type": "stream",
     "text": [
      "86/86 [==============================] - 0s 3ms/step\n",
      "\n",
      "Fold 5 Results:\n",
      "Accuracy: 0.5881\n",
      "Balanced Accuracy: 0.5853\n",
      "MCC: 0.1726\n",
      "Sensitivity: 0.6623\n",
      "Specificity: 0.5082\n",
      "\n",
      "Average Cross-validation Results:\n",
      "ACC: 0.6074 ± 0.0134\n",
      "BALANCED_ACC: 0.6040 ± 0.0120\n",
      "MCC: 0.2142 ± 0.0273\n",
      "SN: 0.6949 ± 0.0746\n",
      "SP: 0.5130 ± 0.0636\n",
      "\n",
      "Final Test Set Results:\n",
      "Accuracy: 0.4633\n",
      "Balanced Accuracy: 0.5816\n",
      "MCC: 0.0934\n",
      "Sensitivity: 0.7250\n",
      "Specificity: 0.4381\n",
      "Confusion Matrix:\n",
      "[[1094 1403]\n",
      " [  66  174]]\n",
      "Loading structural data...\n",
      "phi features shape: (8853, 2)\n",
      "psi features shape: (8853, 2)\n",
      "omega features shape: (8853, 2)\n",
      "SASA features shape: (8853, 3)\n",
      "chi1 features shape: (8853, 2)\n",
      "chi2 features shape: (8853, 2)\n",
      "chi3 features shape: (8853, 2)\n",
      "chi4 features shape: (8853, 2)\n",
      "SS features shape: (8853, 3)\n",
      "plDDT features shape: (8853, 1)\n",
      "\n",
      "Final combined features shape: (8853, 21)\n",
      "Feature list lengths: [2, 2, 2, 3, 2, 2, 2, 2, 3, 1]\n",
      "phi features shape: (2737, 2)\n",
      "psi features shape: (2737, 2)\n",
      "omega features shape: (2737, 2)\n",
      "SASA features shape: (2737, 3)\n",
      "chi1 features shape: (2737, 2)\n",
      "chi2 features shape: (2737, 2)\n",
      "chi3 features shape: (2737, 2)\n",
      "chi4 features shape: (2737, 2)\n",
      "SS features shape: (2737, 3)\n",
      "plDDT features shape: (2737, 1)\n",
      "\n",
      "Final combined features shape: (2737, 21)\n",
      "Feature list lengths: [2, 2, 2, 3, 2, 2, 2, 2, 3, 1]\n"
     ]
    },
    {
     "name": "stderr",
     "output_type": "stream",
     "text": [
      "WARNING:absl:At this time, the v2.11+ optimizer `tf.keras.optimizers.Adam` runs slowly on M1/M2 Macs, please use the legacy Keras optimizer instead, located at `tf.keras.optimizers.legacy.Adam`.\n",
      "WARNING:absl:There is a known slowdown when using v2.11+ Keras optimizers on M1/M2 Macs. Falling back to the legacy Keras optimizer, i.e., `tf.keras.optimizers.legacy.Adam`.\n"
     ]
    },
    {
     "name": "stdout",
     "output_type": "stream",
     "text": [
      "Training data shapes - Structural: (8853, 21), Contact Map: (8853, 33, 33)\n",
      "Testing data shapes - Structural: (2737, 21), Contact Map: (2737, 33, 33)\n",
      "Class weights: {0: 1.0388406477352734, 1: 0.9639590592334495}\n",
      "\n",
      "Fold 1/5\n",
      "Epoch 1/50\n"
     ]
    },
    {
     "name": "stderr",
     "output_type": "stream",
     "text": [
      "2025-05-18 12:47:30.185332: I tensorflow/core/common_runtime/executor.cc:1197] [/device:CPU:0] (DEBUG INFO) Executor start aborting (this does not indicate an error and you can ignore this message): INVALID_ARGUMENT: You must feed a value for placeholder tensor 'Placeholder/_12' with dtype int64 and shape [7082]\n",
      "\t [[{{node Placeholder/_12}}]]\n",
      "2025-05-18 12:47:30.185537: I tensorflow/core/common_runtime/executor.cc:1197] [/device:CPU:0] (DEBUG INFO) Executor start aborting (this does not indicate an error and you can ignore this message): INVALID_ARGUMENT: You must feed a value for placeholder tensor 'Placeholder/_11' with dtype float and shape [7082,33,33]\n",
      "\t [[{{node Placeholder/_11}}]]\n"
     ]
    },
    {
     "name": "stdout",
     "output_type": "stream",
     "text": [
      "221/222 [============================>.] - ETA: 0s - loss: 0.6964 - accuracy: 0.5604"
     ]
    },
    {
     "name": "stderr",
     "output_type": "stream",
     "text": [
      "2025-05-18 12:47:32.593777: I tensorflow/core/common_runtime/executor.cc:1197] [/device:CPU:0] (DEBUG INFO) Executor start aborting (this does not indicate an error and you can ignore this message): INVALID_ARGUMENT: You must feed a value for placeholder tensor 'Placeholder/_12' with dtype int64 and shape [1771]\n",
      "\t [[{{node Placeholder/_12}}]]\n",
      "2025-05-18 12:47:32.593947: I tensorflow/core/common_runtime/executor.cc:1197] [/device:CPU:0] (DEBUG INFO) Executor start aborting (this does not indicate an error and you can ignore this message): INVALID_ARGUMENT: You must feed a value for placeholder tensor 'Placeholder/_12' with dtype int64 and shape [1771]\n",
      "\t [[{{node Placeholder/_12}}]]\n"
     ]
    },
    {
     "name": "stdout",
     "output_type": "stream",
     "text": [
      "222/222 [==============================] - 3s 9ms/step - loss: 0.6964 - accuracy: 0.5604 - val_loss: 0.6765 - val_accuracy: 0.5460 - lr: 0.0010\n",
      "Epoch 2/50\n",
      "222/222 [==============================] - 2s 8ms/step - loss: 0.6667 - accuracy: 0.5939 - val_loss: 0.6590 - val_accuracy: 0.5985 - lr: 0.0010\n",
      "Epoch 3/50\n",
      "222/222 [==============================] - 2s 8ms/step - loss: 0.6567 - accuracy: 0.6134 - val_loss: 0.6576 - val_accuracy: 0.5912 - lr: 0.0010\n",
      "Epoch 4/50\n",
      "222/222 [==============================] - 2s 8ms/step - loss: 0.6493 - accuracy: 0.6151 - val_loss: 0.6543 - val_accuracy: 0.6115 - lr: 0.0010\n",
      "Epoch 5/50\n",
      "222/222 [==============================] - 2s 9ms/step - loss: 0.6394 - accuracy: 0.6315 - val_loss: 0.6686 - val_accuracy: 0.5895 - lr: 0.0010\n",
      "Epoch 6/50\n",
      "222/222 [==============================] - 2s 8ms/step - loss: 0.6268 - accuracy: 0.6453 - val_loss: 0.6723 - val_accuracy: 0.5997 - lr: 0.0010\n",
      "Epoch 7/50\n",
      "222/222 [==============================] - 2s 8ms/step - loss: 0.6026 - accuracy: 0.6833 - val_loss: 0.7038 - val_accuracy: 0.5980 - lr: 0.0010\n",
      "Epoch 8/50\n",
      "222/222 [==============================] - 2s 8ms/step - loss: 0.5755 - accuracy: 0.6956 - val_loss: 0.6822 - val_accuracy: 0.6042 - lr: 0.0010\n",
      "Epoch 9/50\n",
      "222/222 [==============================] - 2s 8ms/step - loss: 0.5452 - accuracy: 0.7235 - val_loss: 0.7126 - val_accuracy: 0.5816 - lr: 0.0010\n",
      "Epoch 10/50\n",
      "222/222 [==============================] - 2s 8ms/step - loss: 0.4927 - accuracy: 0.7605 - val_loss: 0.7582 - val_accuracy: 0.5878 - lr: 5.0000e-04\n",
      "Epoch 11/50\n",
      "222/222 [==============================] - 2s 8ms/step - loss: 0.4514 - accuracy: 0.7924 - val_loss: 0.8086 - val_accuracy: 0.5906 - lr: 5.0000e-04\n",
      "Epoch 12/50\n",
      "222/222 [==============================] - 2s 7ms/step - loss: 0.4212 - accuracy: 0.8034 - val_loss: 0.8774 - val_accuracy: 0.5968 - lr: 5.0000e-04\n",
      "Epoch 13/50\n",
      "222/222 [==============================] - 2s 7ms/step - loss: 0.3885 - accuracy: 0.8231 - val_loss: 1.1077 - val_accuracy: 0.5505 - lr: 5.0000e-04\n",
      "Epoch 14/50\n",
      "222/222 [==============================] - 2s 8ms/step - loss: 0.3698 - accuracy: 0.8313 - val_loss: 0.9100 - val_accuracy: 0.5839 - lr: 5.0000e-04\n",
      "23/56 [===========>..................] - ETA: 0s"
     ]
    },
    {
     "name": "stderr",
     "output_type": "stream",
     "text": [
      "2025-05-18 12:47:55.437081: I tensorflow/core/common_runtime/executor.cc:1197] [/device:CPU:0] (DEBUG INFO) Executor start aborting (this does not indicate an error and you can ignore this message): INVALID_ARGUMENT: You must feed a value for placeholder tensor 'Placeholder/_11' with dtype float and shape [1771,33,33]\n",
      "\t [[{{node Placeholder/_11}}]]\n",
      "2025-05-18 12:47:55.437233: I tensorflow/core/common_runtime/executor.cc:1197] [/device:CPU:0] (DEBUG INFO) Executor start aborting (this does not indicate an error and you can ignore this message): INVALID_ARGUMENT: You must feed a value for placeholder tensor 'Placeholder/_11' with dtype float and shape [1771,33,33]\n",
      "\t [[{{node Placeholder/_11}}]]\n"
     ]
    },
    {
     "name": "stdout",
     "output_type": "stream",
     "text": [
      "56/56 [==============================] - 0s 5ms/step\n",
      "57/86 [==================>...........] - ETA: 0s"
     ]
    },
    {
     "name": "stderr",
     "output_type": "stream",
     "text": [
      "2025-05-18 12:47:55.802629: I tensorflow/core/common_runtime/executor.cc:1197] [/device:CPU:0] (DEBUG INFO) Executor start aborting (this does not indicate an error and you can ignore this message): INVALID_ARGUMENT: You must feed a value for placeholder tensor 'Placeholder/_11' with dtype float and shape [2737,33,33]\n",
      "\t [[{{node Placeholder/_11}}]]\n",
      "2025-05-18 12:47:55.802792: I tensorflow/core/common_runtime/executor.cc:1197] [/device:CPU:0] (DEBUG INFO) Executor start aborting (this does not indicate an error and you can ignore this message): INVALID_ARGUMENT: You must feed a value for placeholder tensor 'Placeholder/_11' with dtype float and shape [2737,33,33]\n",
      "\t [[{{node Placeholder/_11}}]]\n"
     ]
    },
    {
     "name": "stdout",
     "output_type": "stream",
     "text": [
      "86/86 [==============================] - 0s 3ms/step\n",
      "\n",
      "Fold 1 Results:\n",
      "Accuracy: 0.6115\n",
      "Balanced Accuracy: 0.6037\n",
      "MCC: 0.2284\n",
      "Sensitivity: 0.8096\n",
      "Specificity: 0.3979\n",
      "\n",
      "Fold 2/5\n"
     ]
    },
    {
     "name": "stderr",
     "output_type": "stream",
     "text": [
      "WARNING:absl:At this time, the v2.11+ optimizer `tf.keras.optimizers.Adam` runs slowly on M1/M2 Macs, please use the legacy Keras optimizer instead, located at `tf.keras.optimizers.legacy.Adam`.\n",
      "WARNING:absl:There is a known slowdown when using v2.11+ Keras optimizers on M1/M2 Macs. Falling back to the legacy Keras optimizer, i.e., `tf.keras.optimizers.legacy.Adam`.\n"
     ]
    },
    {
     "name": "stdout",
     "output_type": "stream",
     "text": [
      "Epoch 1/50\n"
     ]
    },
    {
     "name": "stderr",
     "output_type": "stream",
     "text": [
      "2025-05-18 12:47:56.215610: I tensorflow/core/common_runtime/executor.cc:1197] [/device:CPU:0] (DEBUG INFO) Executor start aborting (this does not indicate an error and you can ignore this message): INVALID_ARGUMENT: You must feed a value for placeholder tensor 'Placeholder/_21' with dtype double and shape [2]\n",
      "\t [[{{node Placeholder/_21}}]]\n",
      "2025-05-18 12:47:56.215866: I tensorflow/core/common_runtime/executor.cc:1197] [/device:CPU:0] (DEBUG INFO) Executor start aborting (this does not indicate an error and you can ignore this message): INVALID_ARGUMENT: You must feed a value for placeholder tensor 'Placeholder/_12' with dtype int64 and shape [7082]\n",
      "\t [[{{node Placeholder/_12}}]]\n"
     ]
    },
    {
     "name": "stdout",
     "output_type": "stream",
     "text": [
      "218/222 [============================>.] - ETA: 0s - loss: 0.7040 - accuracy: 0.5546"
     ]
    },
    {
     "name": "stderr",
     "output_type": "stream",
     "text": [
      "2025-05-18 12:47:58.154307: I tensorflow/core/common_runtime/executor.cc:1197] [/device:CPU:0] (DEBUG INFO) Executor start aborting (this does not indicate an error and you can ignore this message): INVALID_ARGUMENT: You must feed a value for placeholder tensor 'Placeholder/_12' with dtype int64 and shape [1771]\n",
      "\t [[{{node Placeholder/_12}}]]\n",
      "2025-05-18 12:47:58.154477: I tensorflow/core/common_runtime/executor.cc:1197] [/device:CPU:0] (DEBUG INFO) Executor start aborting (this does not indicate an error and you can ignore this message): INVALID_ARGUMENT: You must feed a value for placeholder tensor 'Placeholder/_12' with dtype int64 and shape [1771]\n",
      "\t [[{{node Placeholder/_12}}]]\n"
     ]
    },
    {
     "name": "stdout",
     "output_type": "stream",
     "text": [
      "222/222 [==============================] - 2s 8ms/step - loss: 0.7036 - accuracy: 0.5546 - val_loss: 0.6663 - val_accuracy: 0.6149 - lr: 0.0010\n",
      "Epoch 2/50\n",
      "222/222 [==============================] - 2s 8ms/step - loss: 0.6685 - accuracy: 0.5902 - val_loss: 0.6521 - val_accuracy: 0.6177 - lr: 0.0010\n",
      "Epoch 3/50\n",
      "222/222 [==============================] - 2s 8ms/step - loss: 0.6618 - accuracy: 0.6051 - val_loss: 0.6555 - val_accuracy: 0.6110 - lr: 0.0010\n",
      "Epoch 4/50\n",
      "222/222 [==============================] - 2s 8ms/step - loss: 0.6553 - accuracy: 0.6154 - val_loss: 0.6470 - val_accuracy: 0.6318 - lr: 0.0010\n",
      "Epoch 5/50\n",
      "222/222 [==============================] - 2s 8ms/step - loss: 0.6489 - accuracy: 0.6231 - val_loss: 0.6631 - val_accuracy: 0.6121 - lr: 0.0010\n",
      "Epoch 6/50\n",
      "222/222 [==============================] - 2s 8ms/step - loss: 0.6369 - accuracy: 0.6371 - val_loss: 0.6531 - val_accuracy: 0.6172 - lr: 0.0010\n",
      "Epoch 7/50\n",
      "222/222 [==============================] - 2s 10ms/step - loss: 0.6338 - accuracy: 0.6406 - val_loss: 0.6686 - val_accuracy: 0.5872 - lr: 0.0010\n",
      "Epoch 8/50\n",
      "222/222 [==============================] - 2s 8ms/step - loss: 0.6183 - accuracy: 0.6545 - val_loss: 0.6790 - val_accuracy: 0.5980 - lr: 0.0010\n",
      "Epoch 9/50\n",
      "222/222 [==============================] - 2s 7ms/step - loss: 0.6027 - accuracy: 0.6716 - val_loss: 0.6912 - val_accuracy: 0.5951 - lr: 0.0010\n",
      "Epoch 10/50\n",
      "222/222 [==============================] - 2s 7ms/step - loss: 0.5655 - accuracy: 0.7035 - val_loss: 0.7219 - val_accuracy: 0.5805 - lr: 5.0000e-04\n",
      "Epoch 11/50\n",
      "222/222 [==============================] - 2s 8ms/step - loss: 0.5443 - accuracy: 0.7217 - val_loss: 0.7427 - val_accuracy: 0.5850 - lr: 5.0000e-04\n",
      "Epoch 12/50\n",
      "222/222 [==============================] - 2s 7ms/step - loss: 0.5201 - accuracy: 0.7408 - val_loss: 0.7520 - val_accuracy: 0.5901 - lr: 5.0000e-04\n",
      "Epoch 13/50\n",
      "222/222 [==============================] - 2s 8ms/step - loss: 0.4962 - accuracy: 0.7571 - val_loss: 0.7767 - val_accuracy: 0.5951 - lr: 5.0000e-04\n",
      "Epoch 14/50\n",
      "222/222 [==============================] - 2s 8ms/step - loss: 0.4745 - accuracy: 0.7720 - val_loss: 0.8305 - val_accuracy: 0.5692 - lr: 5.0000e-04\n",
      "41/56 [====================>.........] - ETA: 0s"
     ]
    },
    {
     "name": "stderr",
     "output_type": "stream",
     "text": [
      "2025-05-18 12:48:21.321572: I tensorflow/core/common_runtime/executor.cc:1197] [/device:CPU:0] (DEBUG INFO) Executor start aborting (this does not indicate an error and you can ignore this message): INVALID_ARGUMENT: You must feed a value for placeholder tensor 'Placeholder/_11' with dtype float and shape [1771,33,33]\n",
      "\t [[{{node Placeholder/_11}}]]\n",
      "2025-05-18 12:48:21.321734: I tensorflow/core/common_runtime/executor.cc:1197] [/device:CPU:0] (DEBUG INFO) Executor start aborting (this does not indicate an error and you can ignore this message): INVALID_ARGUMENT: You must feed a value for placeholder tensor 'Placeholder/_11' with dtype float and shape [1771,33,33]\n",
      "\t [[{{node Placeholder/_11}}]]\n"
     ]
    },
    {
     "name": "stdout",
     "output_type": "stream",
     "text": [
      "56/56 [==============================] - 0s 3ms/step\n",
      "60/86 [===================>..........] - ETA: 0s"
     ]
    },
    {
     "name": "stderr",
     "output_type": "stream",
     "text": [
      "2025-05-18 12:48:21.571671: I tensorflow/core/common_runtime/executor.cc:1197] [/device:CPU:0] (DEBUG INFO) Executor start aborting (this does not indicate an error and you can ignore this message): INVALID_ARGUMENT: You must feed a value for placeholder tensor 'Placeholder/_11' with dtype float and shape [2737,33,33]\n",
      "\t [[{{node Placeholder/_11}}]]\n",
      "2025-05-18 12:48:21.571825: I tensorflow/core/common_runtime/executor.cc:1197] [/device:CPU:0] (DEBUG INFO) Executor start aborting (this does not indicate an error and you can ignore this message): INVALID_ARGUMENT: You must feed a value for placeholder tensor 'Placeholder/_11' with dtype float and shape [2737,33,33]\n",
      "\t [[{{node Placeholder/_11}}]]\n"
     ]
    },
    {
     "name": "stdout",
     "output_type": "stream",
     "text": [
      "86/86 [==============================] - 0s 3ms/step\n",
      "\n",
      "Fold 2 Results:\n",
      "Accuracy: 0.6318\n",
      "Balanced Accuracy: 0.6299\n",
      "MCC: 0.2613\n",
      "Sensitivity: 0.6823\n",
      "Specificity: 0.5775\n",
      "\n",
      "Fold 3/5\n"
     ]
    },
    {
     "name": "stderr",
     "output_type": "stream",
     "text": [
      "WARNING:absl:At this time, the v2.11+ optimizer `tf.keras.optimizers.Adam` runs slowly on M1/M2 Macs, please use the legacy Keras optimizer instead, located at `tf.keras.optimizers.legacy.Adam`.\n",
      "WARNING:absl:There is a known slowdown when using v2.11+ Keras optimizers on M1/M2 Macs. Falling back to the legacy Keras optimizer, i.e., `tf.keras.optimizers.legacy.Adam`.\n"
     ]
    },
    {
     "name": "stdout",
     "output_type": "stream",
     "text": [
      "Epoch 1/50\n"
     ]
    },
    {
     "name": "stderr",
     "output_type": "stream",
     "text": [
      "2025-05-18 12:48:21.920236: I tensorflow/core/common_runtime/executor.cc:1197] [/device:CPU:0] (DEBUG INFO) Executor start aborting (this does not indicate an error and you can ignore this message): INVALID_ARGUMENT: You must feed a value for placeholder tensor 'Placeholder/_21' with dtype double and shape [2]\n",
      "\t [[{{node Placeholder/_21}}]]\n",
      "2025-05-18 12:48:21.920452: I tensorflow/core/common_runtime/executor.cc:1197] [/device:CPU:0] (DEBUG INFO) Executor start aborting (this does not indicate an error and you can ignore this message): INVALID_ARGUMENT: You must feed a value for placeholder tensor 'Placeholder/_10' with dtype float and shape [7082,21]\n",
      "\t [[{{node Placeholder/_10}}]]\n"
     ]
    },
    {
     "name": "stdout",
     "output_type": "stream",
     "text": [
      "220/222 [============================>.] - ETA: 0s - loss: 0.6951 - accuracy: 0.5690"
     ]
    },
    {
     "name": "stderr",
     "output_type": "stream",
     "text": [
      "2025-05-18 12:48:23.807860: I tensorflow/core/common_runtime/executor.cc:1197] [/device:CPU:0] (DEBUG INFO) Executor start aborting (this does not indicate an error and you can ignore this message): INVALID_ARGUMENT: You must feed a value for placeholder tensor 'Placeholder/_12' with dtype int64 and shape [1771]\n",
      "\t [[{{node Placeholder/_12}}]]\n",
      "2025-05-18 12:48:23.810335: I tensorflow/core/common_runtime/executor.cc:1197] [/device:CPU:0] (DEBUG INFO) Executor start aborting (this does not indicate an error and you can ignore this message): INVALID_ARGUMENT: You must feed a value for placeholder tensor 'Placeholder/_12' with dtype int64 and shape [1771]\n",
      "\t [[{{node Placeholder/_12}}]]\n"
     ]
    },
    {
     "name": "stdout",
     "output_type": "stream",
     "text": [
      "222/222 [==============================] - 2s 8ms/step - loss: 0.6954 - accuracy: 0.5683 - val_loss: 0.6589 - val_accuracy: 0.6206 - lr: 0.0010\n",
      "Epoch 2/50\n",
      "222/222 [==============================] - 2s 8ms/step - loss: 0.6681 - accuracy: 0.5957 - val_loss: 0.6530 - val_accuracy: 0.6132 - lr: 0.0010\n",
      "Epoch 3/50\n",
      "222/222 [==============================] - 2s 9ms/step - loss: 0.6551 - accuracy: 0.6103 - val_loss: 0.6728 - val_accuracy: 0.5861 - lr: 0.0010\n",
      "Epoch 4/50\n",
      "222/222 [==============================] - 2s 9ms/step - loss: 0.6490 - accuracy: 0.6251 - val_loss: 0.6635 - val_accuracy: 0.5968 - lr: 0.0010\n",
      "Epoch 5/50\n",
      "222/222 [==============================] - 2s 7ms/step - loss: 0.6432 - accuracy: 0.6282 - val_loss: 0.6613 - val_accuracy: 0.5974 - lr: 0.0010\n",
      "Epoch 6/50\n",
      "222/222 [==============================] - 2s 8ms/step - loss: 0.6385 - accuracy: 0.6308 - val_loss: 0.6607 - val_accuracy: 0.6081 - lr: 0.0010\n",
      "Epoch 7/50\n",
      "222/222 [==============================] - 2s 8ms/step - loss: 0.6288 - accuracy: 0.6497 - val_loss: 0.6771 - val_accuracy: 0.5968 - lr: 0.0010\n",
      "Epoch 8/50\n",
      "222/222 [==============================] - 2s 8ms/step - loss: 0.6103 - accuracy: 0.6658 - val_loss: 0.6923 - val_accuracy: 0.5782 - lr: 5.0000e-04\n",
      "Epoch 9/50\n",
      "222/222 [==============================] - 2s 9ms/step - loss: 0.5866 - accuracy: 0.6884 - val_loss: 0.7055 - val_accuracy: 0.5743 - lr: 5.0000e-04\n",
      "Epoch 10/50\n",
      "222/222 [==============================] - 2s 11ms/step - loss: 0.5754 - accuracy: 0.6943 - val_loss: 0.7244 - val_accuracy: 0.5918 - lr: 5.0000e-04\n",
      "Epoch 11/50\n",
      "222/222 [==============================] - 2s 11ms/step - loss: 0.5560 - accuracy: 0.7097 - val_loss: 0.7475 - val_accuracy: 0.5776 - lr: 5.0000e-04\n",
      "Epoch 12/50\n",
      "222/222 [==============================] - 2s 9ms/step - loss: 0.5330 - accuracy: 0.7320 - val_loss: 0.7498 - val_accuracy: 0.5601 - lr: 5.0000e-04\n",
      "37/56 [==================>...........] - ETA: 0s"
     ]
    },
    {
     "name": "stderr",
     "output_type": "stream",
     "text": [
      "2025-05-18 12:48:45.345136: I tensorflow/core/common_runtime/executor.cc:1197] [/device:CPU:0] (DEBUG INFO) Executor start aborting (this does not indicate an error and you can ignore this message): INVALID_ARGUMENT: You must feed a value for placeholder tensor 'Placeholder/_11' with dtype float and shape [1771,33,33]\n",
      "\t [[{{node Placeholder/_11}}]]\n",
      "2025-05-18 12:48:45.345293: I tensorflow/core/common_runtime/executor.cc:1197] [/device:CPU:0] (DEBUG INFO) Executor start aborting (this does not indicate an error and you can ignore this message): INVALID_ARGUMENT: You must feed a value for placeholder tensor 'Placeholder/_11' with dtype float and shape [1771,33,33]\n",
      "\t [[{{node Placeholder/_11}}]]\n"
     ]
    },
    {
     "name": "stdout",
     "output_type": "stream",
     "text": [
      "56/56 [==============================] - 0s 3ms/step\n",
      "54/86 [=================>............] - ETA: 0s"
     ]
    },
    {
     "name": "stderr",
     "output_type": "stream",
     "text": [
      "2025-05-18 12:48:45.630966: I tensorflow/core/common_runtime/executor.cc:1197] [/device:CPU:0] (DEBUG INFO) Executor start aborting (this does not indicate an error and you can ignore this message): INVALID_ARGUMENT: You must feed a value for placeholder tensor 'Placeholder/_11' with dtype float and shape [2737,33,33]\n",
      "\t [[{{node Placeholder/_11}}]]\n",
      "2025-05-18 12:48:45.631227: I tensorflow/core/common_runtime/executor.cc:1197] [/device:CPU:0] (DEBUG INFO) Executor start aborting (this does not indicate an error and you can ignore this message): INVALID_ARGUMENT: You must feed a value for placeholder tensor 'Placeholder/_11' with dtype float and shape [2737,33,33]\n",
      "\t [[{{node Placeholder/_11}}]]\n"
     ]
    },
    {
     "name": "stdout",
     "output_type": "stream",
     "text": [
      "86/86 [==============================] - 0s 3ms/step\n",
      "\n",
      "Fold 3 Results:\n",
      "Accuracy: 0.6132\n",
      "Balanced Accuracy: 0.6106\n",
      "MCC: 0.2236\n",
      "Sensitivity: 0.6808\n",
      "Specificity: 0.5404\n",
      "\n",
      "Fold 4/5\n"
     ]
    },
    {
     "name": "stderr",
     "output_type": "stream",
     "text": [
      "WARNING:absl:At this time, the v2.11+ optimizer `tf.keras.optimizers.Adam` runs slowly on M1/M2 Macs, please use the legacy Keras optimizer instead, located at `tf.keras.optimizers.legacy.Adam`.\n",
      "WARNING:absl:There is a known slowdown when using v2.11+ Keras optimizers on M1/M2 Macs. Falling back to the legacy Keras optimizer, i.e., `tf.keras.optimizers.legacy.Adam`.\n"
     ]
    },
    {
     "name": "stdout",
     "output_type": "stream",
     "text": [
      "Epoch 1/50\n"
     ]
    },
    {
     "name": "stderr",
     "output_type": "stream",
     "text": [
      "2025-05-18 12:48:46.097276: I tensorflow/core/common_runtime/executor.cc:1197] [/device:CPU:0] (DEBUG INFO) Executor start aborting (this does not indicate an error and you can ignore this message): INVALID_ARGUMENT: You must feed a value for placeholder tensor 'Placeholder/_12' with dtype int64 and shape [7083]\n",
      "\t [[{{node Placeholder/_12}}]]\n",
      "2025-05-18 12:48:46.097697: I tensorflow/core/common_runtime/executor.cc:1197] [/device:CPU:0] (DEBUG INFO) Executor start aborting (this does not indicate an error and you can ignore this message): INVALID_ARGUMENT: You must feed a value for placeholder tensor 'Placeholder/_21' with dtype double and shape [2]\n",
      "\t [[{{node Placeholder/_21}}]]\n"
     ]
    },
    {
     "name": "stdout",
     "output_type": "stream",
     "text": [
      "220/222 [============================>.] - ETA: 0s - loss: 0.6971 - accuracy: 0.5609"
     ]
    },
    {
     "name": "stderr",
     "output_type": "stream",
     "text": [
      "2025-05-18 12:48:48.482286: I tensorflow/core/common_runtime/executor.cc:1197] [/device:CPU:0] (DEBUG INFO) Executor start aborting (this does not indicate an error and you can ignore this message): INVALID_ARGUMENT: You must feed a value for placeholder tensor 'Placeholder/_12' with dtype int64 and shape [1770]\n",
      "\t [[{{node Placeholder/_12}}]]\n",
      "2025-05-18 12:48:48.482512: I tensorflow/core/common_runtime/executor.cc:1197] [/device:CPU:0] (DEBUG INFO) Executor start aborting (this does not indicate an error and you can ignore this message): INVALID_ARGUMENT: You must feed a value for placeholder tensor 'Placeholder/_12' with dtype int64 and shape [1770]\n",
      "\t [[{{node Placeholder/_12}}]]\n"
     ]
    },
    {
     "name": "stdout",
     "output_type": "stream",
     "text": [
      "222/222 [==============================] - 3s 10ms/step - loss: 0.6973 - accuracy: 0.5605 - val_loss: 0.6736 - val_accuracy: 0.5610 - lr: 0.0010\n",
      "Epoch 2/50\n",
      "222/222 [==============================] - 2s 9ms/step - loss: 0.6700 - accuracy: 0.5911 - val_loss: 0.6703 - val_accuracy: 0.5927 - lr: 0.0010\n",
      "Epoch 3/50\n",
      "222/222 [==============================] - 3s 12ms/step - loss: 0.6584 - accuracy: 0.6099 - val_loss: 0.6680 - val_accuracy: 0.5904 - lr: 0.0010\n",
      "Epoch 4/50\n",
      "222/222 [==============================] - 2s 9ms/step - loss: 0.6523 - accuracy: 0.6158 - val_loss: 0.6676 - val_accuracy: 0.5785 - lr: 0.0010\n",
      "Epoch 5/50\n",
      "222/222 [==============================] - 2s 9ms/step - loss: 0.6423 - accuracy: 0.6263 - val_loss: 0.6612 - val_accuracy: 0.5989 - lr: 0.0010\n",
      "Epoch 6/50\n",
      "222/222 [==============================] - 2s 7ms/step - loss: 0.6349 - accuracy: 0.6309 - val_loss: 0.6696 - val_accuracy: 0.5983 - lr: 0.0010\n",
      "Epoch 7/50\n",
      "222/222 [==============================] - 2s 7ms/step - loss: 0.6230 - accuracy: 0.6523 - val_loss: 0.6713 - val_accuracy: 0.5836 - lr: 0.0010\n",
      "Epoch 8/50\n",
      "222/222 [==============================] - 2s 7ms/step - loss: 0.6128 - accuracy: 0.6661 - val_loss: 0.7089 - val_accuracy: 0.5723 - lr: 0.0010\n",
      "Epoch 9/50\n",
      "222/222 [==============================] - 2s 7ms/step - loss: 0.5999 - accuracy: 0.6758 - val_loss: 0.7089 - val_accuracy: 0.5672 - lr: 0.0010\n",
      "Epoch 10/50\n",
      "222/222 [==============================] - 2s 8ms/step - loss: 0.5795 - accuracy: 0.7021 - val_loss: 0.7252 - val_accuracy: 0.5836 - lr: 0.0010\n",
      "Epoch 11/50\n",
      "222/222 [==============================] - 2s 8ms/step - loss: 0.5309 - accuracy: 0.7415 - val_loss: 0.8078 - val_accuracy: 0.5599 - lr: 5.0000e-04\n",
      "Epoch 12/50\n",
      "222/222 [==============================] - 2s 8ms/step - loss: 0.5043 - accuracy: 0.7524 - val_loss: 0.8361 - val_accuracy: 0.5672 - lr: 5.0000e-04\n",
      "Epoch 13/50\n",
      "222/222 [==============================] - 2s 8ms/step - loss: 0.4833 - accuracy: 0.7613 - val_loss: 0.8085 - val_accuracy: 0.5751 - lr: 5.0000e-04\n",
      "Epoch 14/50\n",
      "222/222 [==============================] - 2s 7ms/step - loss: 0.4627 - accuracy: 0.7836 - val_loss: 0.8672 - val_accuracy: 0.5718 - lr: 5.0000e-04\n",
      "Epoch 15/50\n",
      "222/222 [==============================] - 2s 7ms/step - loss: 0.4386 - accuracy: 0.7943 - val_loss: 0.9188 - val_accuracy: 0.5757 - lr: 5.0000e-04\n",
      "39/56 [===================>..........] - ETA: 0s"
     ]
    },
    {
     "name": "stderr",
     "output_type": "stream",
     "text": [
      "2025-05-18 12:49:14.279337: I tensorflow/core/common_runtime/executor.cc:1197] [/device:CPU:0] (DEBUG INFO) Executor start aborting (this does not indicate an error and you can ignore this message): INVALID_ARGUMENT: You must feed a value for placeholder tensor 'Placeholder/_11' with dtype float and shape [1770,33,33]\n",
      "\t [[{{node Placeholder/_11}}]]\n",
      "2025-05-18 12:49:14.279518: I tensorflow/core/common_runtime/executor.cc:1197] [/device:CPU:0] (DEBUG INFO) Executor start aborting (this does not indicate an error and you can ignore this message): INVALID_ARGUMENT: You must feed a value for placeholder tensor 'Placeholder/_11' with dtype float and shape [1770,33,33]\n",
      "\t [[{{node Placeholder/_11}}]]\n"
     ]
    },
    {
     "name": "stdout",
     "output_type": "stream",
     "text": [
      "56/56 [==============================] - 0s 3ms/step\n",
      "56/86 [==================>...........] - ETA: 0s"
     ]
    },
    {
     "name": "stderr",
     "output_type": "stream",
     "text": [
      "2025-05-18 12:49:14.524140: I tensorflow/core/common_runtime/executor.cc:1197] [/device:CPU:0] (DEBUG INFO) Executor start aborting (this does not indicate an error and you can ignore this message): INVALID_ARGUMENT: You must feed a value for placeholder tensor 'Placeholder/_11' with dtype float and shape [2737,33,33]\n",
      "\t [[{{node Placeholder/_11}}]]\n",
      "2025-05-18 12:49:14.524294: I tensorflow/core/common_runtime/executor.cc:1197] [/device:CPU:0] (DEBUG INFO) Executor start aborting (this does not indicate an error and you can ignore this message): INVALID_ARGUMENT: You must feed a value for placeholder tensor 'Placeholder/_11' with dtype float and shape [2737,33,33]\n",
      "\t [[{{node Placeholder/_11}}]]\n"
     ]
    },
    {
     "name": "stdout",
     "output_type": "stream",
     "text": [
      "86/86 [==============================] - 0s 3ms/step\n",
      "\n",
      "Fold 4 Results:\n",
      "Accuracy: 0.5989\n",
      "Balanced Accuracy: 0.5960\n",
      "MCC: 0.1944\n",
      "Sensitivity: 0.6732\n",
      "Specificity: 0.5188\n"
     ]
    },
    {
     "name": "stderr",
     "output_type": "stream",
     "text": [
      "WARNING:absl:At this time, the v2.11+ optimizer `tf.keras.optimizers.Adam` runs slowly on M1/M2 Macs, please use the legacy Keras optimizer instead, located at `tf.keras.optimizers.legacy.Adam`.\n",
      "WARNING:absl:There is a known slowdown when using v2.11+ Keras optimizers on M1/M2 Macs. Falling back to the legacy Keras optimizer, i.e., `tf.keras.optimizers.legacy.Adam`.\n"
     ]
    },
    {
     "name": "stdout",
     "output_type": "stream",
     "text": [
      "\n",
      "Fold 5/5\n",
      "Epoch 1/50\n"
     ]
    },
    {
     "name": "stderr",
     "output_type": "stream",
     "text": [
      "2025-05-18 12:49:14.889559: I tensorflow/core/common_runtime/executor.cc:1197] [/device:CPU:0] (DEBUG INFO) Executor start aborting (this does not indicate an error and you can ignore this message): INVALID_ARGUMENT: You must feed a value for placeholder tensor 'Placeholder/_12' with dtype int64 and shape [7083]\n",
      "\t [[{{node Placeholder/_12}}]]\n",
      "2025-05-18 12:49:14.889758: I tensorflow/core/common_runtime/executor.cc:1197] [/device:CPU:0] (DEBUG INFO) Executor start aborting (this does not indicate an error and you can ignore this message): INVALID_ARGUMENT: You must feed a value for placeholder tensor 'Placeholder/_21' with dtype double and shape [2]\n",
      "\t [[{{node Placeholder/_21}}]]\n"
     ]
    },
    {
     "name": "stdout",
     "output_type": "stream",
     "text": [
      "219/222 [============================>.] - ETA: 0s - loss: 0.7148 - accuracy: 0.5598"
     ]
    },
    {
     "name": "stderr",
     "output_type": "stream",
     "text": [
      "2025-05-18 12:49:16.844099: I tensorflow/core/common_runtime/executor.cc:1197] [/device:CPU:0] (DEBUG INFO) Executor start aborting (this does not indicate an error and you can ignore this message): INVALID_ARGUMENT: You must feed a value for placeholder tensor 'Placeholder/_10' with dtype float and shape [1770,21]\n",
      "\t [[{{node Placeholder/_10}}]]\n",
      "2025-05-18 12:49:16.844269: I tensorflow/core/common_runtime/executor.cc:1197] [/device:CPU:0] (DEBUG INFO) Executor start aborting (this does not indicate an error and you can ignore this message): INVALID_ARGUMENT: You must feed a value for placeholder tensor 'Placeholder/_12' with dtype int64 and shape [1770]\n",
      "\t [[{{node Placeholder/_12}}]]\n"
     ]
    },
    {
     "name": "stdout",
     "output_type": "stream",
     "text": [
      "222/222 [==============================] - 2s 8ms/step - loss: 0.7147 - accuracy: 0.5601 - val_loss: 0.6718 - val_accuracy: 0.5757 - lr: 0.0010\n",
      "Epoch 2/50\n",
      "222/222 [==============================] - 2s 7ms/step - loss: 0.6688 - accuracy: 0.5911 - val_loss: 0.6675 - val_accuracy: 0.6011 - lr: 0.0010\n",
      "Epoch 3/50\n",
      "222/222 [==============================] - 2s 7ms/step - loss: 0.6598 - accuracy: 0.6024 - val_loss: 0.6675 - val_accuracy: 0.5791 - lr: 0.0010\n",
      "Epoch 4/50\n",
      "222/222 [==============================] - 2s 7ms/step - loss: 0.6495 - accuracy: 0.6170 - val_loss: 0.6647 - val_accuracy: 0.5864 - lr: 0.0010\n",
      "Epoch 5/50\n",
      "222/222 [==============================] - 2s 7ms/step - loss: 0.6434 - accuracy: 0.6294 - val_loss: 0.6787 - val_accuracy: 0.5802 - lr: 0.0010\n",
      "Epoch 6/50\n",
      "222/222 [==============================] - 2s 7ms/step - loss: 0.6331 - accuracy: 0.6394 - val_loss: 0.6576 - val_accuracy: 0.6028 - lr: 0.0010\n",
      "Epoch 7/50\n",
      "222/222 [==============================] - 2s 7ms/step - loss: 0.6219 - accuracy: 0.6527 - val_loss: 0.6714 - val_accuracy: 0.6130 - lr: 0.0010\n",
      "Epoch 8/50\n",
      "222/222 [==============================] - 2s 7ms/step - loss: 0.6028 - accuracy: 0.6698 - val_loss: 0.8474 - val_accuracy: 0.5746 - lr: 0.0010\n",
      "Epoch 9/50\n",
      "222/222 [==============================] - 2s 7ms/step - loss: 0.5869 - accuracy: 0.6893 - val_loss: 0.6933 - val_accuracy: 0.6079 - lr: 0.0010\n",
      "Epoch 10/50\n",
      "222/222 [==============================] - 2s 8ms/step - loss: 0.5655 - accuracy: 0.7061 - val_loss: 0.6926 - val_accuracy: 0.6209 - lr: 0.0010\n",
      "Epoch 11/50\n",
      "222/222 [==============================] - 2s 8ms/step - loss: 0.5425 - accuracy: 0.7260 - val_loss: 0.7811 - val_accuracy: 0.5678 - lr: 0.0010\n",
      "Epoch 12/50\n",
      "222/222 [==============================] - 2s 8ms/step - loss: 0.4936 - accuracy: 0.7625 - val_loss: 0.7266 - val_accuracy: 0.5859 - lr: 5.0000e-04\n",
      "Epoch 13/50\n",
      "222/222 [==============================] - 2s 8ms/step - loss: 0.4571 - accuracy: 0.7827 - val_loss: 0.8098 - val_accuracy: 0.6000 - lr: 5.0000e-04\n",
      "Epoch 14/50\n",
      "222/222 [==============================] - 2s 7ms/step - loss: 0.4264 - accuracy: 0.8086 - val_loss: 0.8233 - val_accuracy: 0.5842 - lr: 5.0000e-04\n",
      "Epoch 15/50\n",
      "222/222 [==============================] - 2s 8ms/step - loss: 0.4081 - accuracy: 0.8139 - val_loss: 0.9411 - val_accuracy: 0.5825 - lr: 5.0000e-04\n",
      "Epoch 16/50\n",
      "222/222 [==============================] - 2s 8ms/step - loss: 0.3899 - accuracy: 0.8170 - val_loss: 0.9384 - val_accuracy: 0.5836 - lr: 5.0000e-04\n",
      "36/56 [==================>...........] - ETA: 0s"
     ]
    },
    {
     "name": "stderr",
     "output_type": "stream",
     "text": [
      "2025-05-18 12:49:41.873278: I tensorflow/core/common_runtime/executor.cc:1197] [/device:CPU:0] (DEBUG INFO) Executor start aborting (this does not indicate an error and you can ignore this message): INVALID_ARGUMENT: You must feed a value for placeholder tensor 'Placeholder/_10' with dtype float and shape [1770,21]\n",
      "\t [[{{node Placeholder/_10}}]]\n",
      "2025-05-18 12:49:41.873434: I tensorflow/core/common_runtime/executor.cc:1197] [/device:CPU:0] (DEBUG INFO) Executor start aborting (this does not indicate an error and you can ignore this message): INVALID_ARGUMENT: You must feed a value for placeholder tensor 'Placeholder/_11' with dtype float and shape [1770,33,33]\n",
      "\t [[{{node Placeholder/_11}}]]\n"
     ]
    },
    {
     "name": "stdout",
     "output_type": "stream",
     "text": [
      "56/56 [==============================] - 0s 3ms/step\n",
      "52/86 [=================>............] - ETA: 0s"
     ]
    },
    {
     "name": "stderr",
     "output_type": "stream",
     "text": [
      "2025-05-18 12:49:42.133266: I tensorflow/core/common_runtime/executor.cc:1197] [/device:CPU:0] (DEBUG INFO) Executor start aborting (this does not indicate an error and you can ignore this message): INVALID_ARGUMENT: You must feed a value for placeholder tensor 'Placeholder/_11' with dtype float and shape [2737,33,33]\n",
      "\t [[{{node Placeholder/_11}}]]\n",
      "2025-05-18 12:49:42.133422: I tensorflow/core/common_runtime/executor.cc:1197] [/device:CPU:0] (DEBUG INFO) Executor start aborting (this does not indicate an error and you can ignore this message): INVALID_ARGUMENT: You must feed a value for placeholder tensor 'Placeholder/_11' with dtype float and shape [2737,33,33]\n",
      "\t [[{{node Placeholder/_11}}]]\n"
     ]
    },
    {
     "name": "stdout",
     "output_type": "stream",
     "text": [
      "86/86 [==============================] - 0s 3ms/step\n",
      "\n",
      "Fold 5 Results:\n",
      "Accuracy: 0.6028\n",
      "Balanced Accuracy: 0.5992\n",
      "MCC: 0.2024\n",
      "Sensitivity: 0.6961\n",
      "Specificity: 0.5023\n",
      "\n",
      "Average Cross-validation Results:\n",
      "ACC: 0.6117 ± 0.0114\n",
      "BALANCED_ACC: 0.6079 ± 0.0120\n",
      "MCC: 0.2220 ± 0.0234\n",
      "SN: 0.7084 ± 0.0511\n",
      "SP: 0.5074 ± 0.0602\n",
      "\n",
      "Final Test Set Results:\n",
      "Accuracy: 0.4443\n",
      "Balanced Accuracy: 0.5806\n",
      "MCC: 0.0930\n",
      "Sensitivity: 0.7458\n",
      "Specificity: 0.4153\n",
      "Confusion Matrix:\n",
      "[[1037 1460]\n",
      " [  61  179]]\n"
     ]
    }
   ],
   "source": [
    "# Try with 6Å threshold\n",
    "model_6A, preds_6A = train_and_evaluate_combined_structure(threshold=6.0)\n",
    "\n",
    "# Try with 8Å threshold\n",
    "model_8A, preds_8A = train_and_evaluate_combined_structure(threshold=8.0)\n",
    "\n",
    "# Try with 10Å threshold\n",
    "model_10A, preds_10A = train_and_evaluate_combined_structure(threshold=10.0)"
   ]
  }
 ],
 "metadata": {
  "kernelspec": {
   "display_name": "protein_env",
   "language": "python",
   "name": "python3"
  },
  "language_info": {
   "codemirror_mode": {
    "name": "ipython",
    "version": 3
   },
   "file_extension": ".py",
   "mimetype": "text/x-python",
   "name": "python",
   "nbconvert_exporter": "python",
   "pygments_lexer": "ipython3",
   "version": "3.8.18"
  }
 },
 "nbformat": 4,
 "nbformat_minor": 2
}
